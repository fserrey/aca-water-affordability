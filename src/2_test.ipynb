{
 "cells": [
  {
   "cell_type": "code",
   "execution_count": 7,
   "metadata": {},
   "outputs": [
    {
     "name": "stdout",
     "output_type": "stream",
     "text": [
      "/home/fserrey/gitrep/ACA_project/aca-water-affordability/src/epf_folder/tablas_hogar\n",
      "['hogar_2016.csv', 'hogar_2017.csv', 'hogar_2009.csv', 'hogar_2006.csv', 'hogar_2018.csv', 'hogar_2010.csv', 'hogar_2008.csv', 'hogar_2007.csv', 'hogar_2015.csv', 'hogar_2012.csv', 'hogar_2011.csv', 'hogar_2014.csv', 'hogar_2013.csv']\n"
     ]
    }
   ],
   "source": [
    "import pandas as pd\n",
    "import os, errno\n",
    "\n",
    "# This file will normalize/Transform tables format in order to make it feasible to upload them to our DB\n",
    "\n",
    "# INE microdata format and features have changed over time. INE states 3 different types:\n",
    "## From 2006 to 2010\n",
    "## From 2011 to 2015\n",
    "## From 2016 till NOW (2020)\n",
    "\n",
    "# It's importat that all our tables has same format and shape\n",
    "\n",
    "#############################################################################\n",
    "\n",
    "# We first classify our features in FLOAT or INT\n",
    "\n",
    "directory_hogar = os.path.join(os.path.dirname(os.path.abspath('__file__')), 'epf_folder', 'tablas_hogar')\n",
    "filelist_hogar = os.listdir(directory_hogar)\n",
    "print(directory_hogar)\n",
    "print(filelist_hogar)"
   ]
  },
  {
   "cell_type": "code",
   "execution_count": 15,
   "metadata": {},
   "outputs": [],
   "source": [
    "file_06 = [os.path.join(directory_hogar,i) for i in filelist_hogar if '2006.csv' in i][0]\n",
    "\n",
    "df = pd.read_csv(file_06)\n",
    "type_dct = {str(k): list(v) for k, v in df.groupby(df.dtypes, axis=1)}\n",
    "float_hogar_06 =  type_dct['float64']\n",
    "int_hogar_06 = type_dct['int64']\n",
    "\n",
    "\n",
    "file_11 = [os.path.join(directory_hogar,i) for i in filelist_hogar if '2011.csv' in i][0]\n",
    "\n",
    "df = pd.read_csv(file_11)\n",
    "type_dct = {str(k): list(v) for k, v in df.groupby(df.dtypes, axis=1)}\n",
    "float_hogar_11 = type_dct['float64']\n",
    "int_hogar_11 = type_dct['int64']"
   ]
  },
  {
   "cell_type": "code",
   "execution_count": 17,
   "metadata": {},
   "outputs": [
    {
     "data": {
      "text/plain": [
       "[]"
      ]
     },
     "execution_count": 17,
     "metadata": {},
     "output_type": "execute_result"
    }
   ],
   "source": [
    "file_16 = [os.path.join(directory_hogar,i) for i in filelist_hogar if '20016.csv' in i]\n",
    "file_16"
   ]
  },
  {
   "cell_type": "code",
   "execution_count": 14,
   "metadata": {},
   "outputs": [
    {
     "ename": "IndexError",
     "evalue": "list index out of range",
     "output_type": "error",
     "traceback": [
      "\u001b[0;31m---------------------------------------------------------------------------\u001b[0m",
      "\u001b[0;31mIndexError\u001b[0m                                Traceback (most recent call last)",
      "\u001b[0;32m<ipython-input-14-faa5530f0d1b>\u001b[0m in \u001b[0;36m<module>\u001b[0;34m\u001b[0m\n\u001b[1;32m     15\u001b[0m \u001b[0;34m\u001b[0m\u001b[0m\n\u001b[1;32m     16\u001b[0m \u001b[0;34m\u001b[0m\u001b[0m\n\u001b[0;32m---> 17\u001b[0;31m \u001b[0mfile_16\u001b[0m \u001b[0;34m=\u001b[0m \u001b[0;34m[\u001b[0m\u001b[0mos\u001b[0m\u001b[0;34m.\u001b[0m\u001b[0mpath\u001b[0m\u001b[0;34m.\u001b[0m\u001b[0mjoin\u001b[0m\u001b[0;34m(\u001b[0m\u001b[0mdirectory_hogar\u001b[0m\u001b[0;34m,\u001b[0m\u001b[0mi\u001b[0m\u001b[0;34m)\u001b[0m \u001b[0;32mfor\u001b[0m \u001b[0mi\u001b[0m \u001b[0;32min\u001b[0m \u001b[0mfilelist_hogar\u001b[0m \u001b[0;32mif\u001b[0m \u001b[0;34m'20016.csv'\u001b[0m \u001b[0;32min\u001b[0m \u001b[0mi\u001b[0m\u001b[0;34m]\u001b[0m\u001b[0;34m[\u001b[0m\u001b[0;36m0\u001b[0m\u001b[0;34m]\u001b[0m\u001b[0;34m\u001b[0m\u001b[0;34m\u001b[0m\u001b[0m\n\u001b[0m\u001b[1;32m     18\u001b[0m \u001b[0;34m\u001b[0m\u001b[0m\n\u001b[1;32m     19\u001b[0m \u001b[0mdf\u001b[0m \u001b[0;34m=\u001b[0m \u001b[0mpd\u001b[0m\u001b[0;34m.\u001b[0m\u001b[0mread_csv\u001b[0m\u001b[0;34m(\u001b[0m\u001b[0mfile_16\u001b[0m\u001b[0;34m)\u001b[0m\u001b[0;34m\u001b[0m\u001b[0;34m\u001b[0m\u001b[0m\n",
      "\u001b[0;31mIndexError\u001b[0m: list index out of range"
     ]
    }
   ],
   "source": [
    "df = pd.read_csv(file_16)\n",
    "type_dct = {str(k): list(v) for k, v in df.groupby(df.dtypes, axis=1)}\n",
    "float_hogar_16 = type_dct['float64']\n",
    "int_hogar_16 = type_dct['int64']"
   ]
  },
  {
   "cell_type": "code",
   "execution_count": null,
   "metadata": {},
   "outputs": [],
   "source": []
  }
 ],
 "metadata": {
  "kernelspec": {
   "display_name": "Python 3",
   "language": "python",
   "name": "python3"
  },
  "language_info": {
   "codemirror_mode": {
    "name": "ipython",
    "version": 3
   },
   "file_extension": ".py",
   "mimetype": "text/x-python",
   "name": "python",
   "nbconvert_exporter": "python",
   "pygments_lexer": "ipython3",
   "version": "3.7.6"
  }
 },
 "nbformat": 4,
 "nbformat_minor": 2
}
