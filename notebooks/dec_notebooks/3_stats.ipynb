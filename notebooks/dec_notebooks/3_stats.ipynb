{
 "cells": [
  {
   "cell_type": "code",
   "execution_count": 2,
   "metadata": {},
   "outputs": [],
   "source": [
    "import os\n",
    "import pandas as pd\n",
    "import matplotlib.pyplot as plt\n"
   ]
  },
  {
   "cell_type": "code",
   "execution_count": 3,
   "metadata": {},
   "outputs": [],
   "source": [
    "#Además de los decimales, del word, saca los valores que sirven la checkear que la carga es correcta\n",
    "#Automatizando eso en una función, if True, then print('los datos están bien')\n",
    "#Pide a Laura que te pase las tablas dinámicas\n",
    "#INtenta construir una serie temporal para análisis\n",
    "#Reproduce los análisis que han hecho en el WORD del estudio"
   ]
  },
  {
   "cell_type": "markdown",
   "metadata": {},
   "source": [
    "cruce de variables dentro de la encuesta.\n",
    "\n",
    "    Tasa Paro - Nªocupados (por trimestres) (En este caso la fuente es la EPA)\n",
    "    Índice de pobreza según OCDE (anual)\n",
    "    Gasto en agua y carga con respecto a ingresos\n",
    "    Ingresos anuales - Gasto agua (abastecimiento y saneamiento / solo abastecimiento)\n",
    "    Consumo agua (persona/litro) - Gasto agua (abastecimiento y saneamiento / solo abastecimiento"
   ]
  },
  {
   "cell_type": "code",
   "execution_count": 4,
   "metadata": {},
   "outputs": [],
   "source": [
    "gastos_tabla = pd.read_csv('gastos_serie_completa.csv')\n",
    "hogar_tabla = pd.read_csv('hogar_serie_completa.csv')"
   ]
  },
  {
   "cell_type": "code",
   "execution_count": 5,
   "metadata": {},
   "outputs": [
    {
     "data": {
      "text/html": [
       "<div>\n",
       "<style scoped>\n",
       "    .dataframe tbody tr th:only-of-type {\n",
       "        vertical-align: middle;\n",
       "    }\n",
       "\n",
       "    .dataframe tbody tr th {\n",
       "        vertical-align: top;\n",
       "    }\n",
       "\n",
       "    .dataframe thead th {\n",
       "        text-align: right;\n",
       "    }\n",
       "</style>\n",
       "<table border=\"1\" class=\"dataframe\">\n",
       "  <thead>\n",
       "    <tr style=\"text-align: right;\">\n",
       "      <th></th>\n",
       "      <th>Unnamed: 0</th>\n",
       "      <th>Unnamed: 0.1</th>\n",
       "      <th>ANOENC</th>\n",
       "      <th>NUMERO</th>\n",
       "      <th>CODIGO</th>\n",
       "      <th>GASTO</th>\n",
       "      <th>PORCEN</th>\n",
       "      <th>CANTIDAD</th>\n",
       "      <th>GASTMON</th>\n",
       "      <th>GASTNOM1</th>\n",
       "      <th>GASTNOM2</th>\n",
       "      <th>GASTNOM3</th>\n",
       "      <th>GASTNOM4</th>\n",
       "      <th>GASTNOM5</th>\n",
       "      <th>NACTOR</th>\n",
       "    </tr>\n",
       "  </thead>\n",
       "  <tbody>\n",
       "    <tr>\n",
       "      <th>0</th>\n",
       "      <td>0</td>\n",
       "      <td>0</td>\n",
       "      <td>2009</td>\n",
       "      <td>1</td>\n",
       "      <td>1112</td>\n",
       "      <td>267539.46</td>\n",
       "      <td>0.0</td>\n",
       "      <td>92240.99</td>\n",
       "      <td>267539.46</td>\n",
       "      <td>NaN</td>\n",
       "      <td>NaN</td>\n",
       "      <td>NaN</td>\n",
       "      <td>NaN</td>\n",
       "      <td>NaN</td>\n",
       "      <td>707.602898</td>\n",
       "    </tr>\n",
       "  </tbody>\n",
       "</table>\n",
       "</div>"
      ],
      "text/plain": [
       "   Unnamed: 0  Unnamed: 0.1  ANOENC  NUMERO  CODIGO      GASTO  PORCEN  \\\n",
       "0           0             0    2009       1    1112  267539.46     0.0   \n",
       "\n",
       "   CANTIDAD    GASTMON  GASTNOM1  GASTNOM2  GASTNOM3  GASTNOM4  GASTNOM5  \\\n",
       "0  92240.99  267539.46       NaN       NaN       NaN       NaN       NaN   \n",
       "\n",
       "       NACTOR  \n",
       "0  707.602898  "
      ]
     },
     "metadata": {},
     "output_type": "display_data"
    },
    {
     "name": "stdout",
     "output_type": "stream",
     "text": [
      "(10349975, 15)\n"
     ]
    },
    {
     "data": {
      "text/html": [
       "<div>\n",
       "<style scoped>\n",
       "    .dataframe tbody tr th:only-of-type {\n",
       "        vertical-align: middle;\n",
       "    }\n",
       "\n",
       "    .dataframe tbody tr th {\n",
       "        vertical-align: top;\n",
       "    }\n",
       "\n",
       "    .dataframe thead th {\n",
       "        text-align: right;\n",
       "    }\n",
       "</style>\n",
       "<table border=\"1\" class=\"dataframe\">\n",
       "  <thead>\n",
       "    <tr style=\"text-align: right;\">\n",
       "      <th></th>\n",
       "      <th>Unnamed: 0</th>\n",
       "      <th>Unnamed: 0.1</th>\n",
       "      <th>ANOENC</th>\n",
       "      <th>NUMERO</th>\n",
       "      <th>CCAA</th>\n",
       "      <th>NUTS1</th>\n",
       "      <th>CAPROV</th>\n",
       "      <th>TAMAMU</th>\n",
       "      <th>DENSI</th>\n",
       "      <th>CLAVE</th>\n",
       "      <th>...</th>\n",
       "      <th>IMPEXAC</th>\n",
       "      <th>IMPUEXAC</th>\n",
       "      <th>INTERIN</th>\n",
       "      <th>IMPU_INTER</th>\n",
       "      <th>NUMPERI</th>\n",
       "      <th>COMIMH</th>\n",
       "      <th>COMISD</th>\n",
       "      <th>COMIHU</th>\n",
       "      <th>COMIINV</th>\n",
       "      <th>COMITOT</th>\n",
       "    </tr>\n",
       "  </thead>\n",
       "  <tbody>\n",
       "    <tr>\n",
       "      <th>0</th>\n",
       "      <td>0</td>\n",
       "      <td>0</td>\n",
       "      <td>2009</td>\n",
       "      <td>1</td>\n",
       "      <td>8</td>\n",
       "      <td>4</td>\n",
       "      <td>6</td>\n",
       "      <td>5</td>\n",
       "      <td>3</td>\n",
       "      <td>2</td>\n",
       "      <td>...</td>\n",
       "      <td>745.0</td>\n",
       "      <td>1</td>\n",
       "      <td>2</td>\n",
       "      <td>6</td>\n",
       "      <td>1.0</td>\n",
       "      <td>84.0</td>\n",
       "      <td>0.0</td>\n",
       "      <td>0.0</td>\n",
       "      <td>8.0</td>\n",
       "      <td>92.0</td>\n",
       "    </tr>\n",
       "  </tbody>\n",
       "</table>\n",
       "<p>1 rows × 176 columns</p>\n",
       "</div>"
      ],
      "text/plain": [
       "   Unnamed: 0  Unnamed: 0.1  ANOENC  NUMERO  CCAA  NUTS1  CAPROV  TAMAMU  \\\n",
       "0           0             0    2009       1     8      4       6       5   \n",
       "\n",
       "   DENSI  CLAVE  ...  IMPEXAC  IMPUEXAC  INTERIN  IMPU_INTER  NUMPERI  COMIMH  \\\n",
       "0      3      2  ...    745.0         1        2           6      1.0    84.0   \n",
       "\n",
       "   COMISD  COMIHU  COMIINV  COMITOT  \n",
       "0     0.0     0.0      8.0     92.0  \n",
       "\n",
       "[1 rows x 176 columns]"
      ]
     },
     "metadata": {},
     "output_type": "display_data"
    },
    {
     "name": "stdout",
     "output_type": "stream",
     "text": [
      "(107603, 176)\n"
     ]
    }
   ],
   "source": [
    "display(gastos_tabla.head(1))\n",
    "print(gastos_tabla.shape)\n",
    "\n",
    "display(hogar_tabla.head(1))\n",
    "print(hogar_tabla.shape)"
   ]
  },
  {
   "cell_type": "code",
   "execution_count": 7,
   "metadata": {},
   "outputs": [],
   "source": [
    "some_values = list(range(4511,4551))\n",
    "gastos_filt = gastos_tabla.loc[gastos_tabla['CODIGO'].isin(some_values)]"
   ]
  },
  {
   "cell_type": "code",
   "execution_count": 15,
   "metadata": {},
   "outputs": [
    {
     "name": "stdout",
     "output_type": "stream",
     "text": [
      "(282546, 15)\n",
      "Index(['Unnamed: 0', 'Unnamed: 0.1', 'ANOENC', 'NUMERO', 'CODIGO', 'GASTO',\n",
      "       'PORCEN', 'CANTIDAD', 'GASTMON', 'GASTNOM1', 'GASTNOM2', 'GASTNOM3',\n",
      "       'GASTNOM4', 'GASTNOM5', 'NACTOR'],\n",
      "      dtype='object')\n"
     ]
    }
   ],
   "source": [
    "print(gastos_filt.shape)\n",
    "print(gastos_filt.columns)"
   ]
  },
  {
   "cell_type": "code",
   "execution_count": 17,
   "metadata": {},
   "outputs": [],
   "source": [
    "new_df = pd.merge(gastos_filt, hogar_tabla, how='left', on=['ANOENC','NUMERO'])"
   ]
  },
  {
   "cell_type": "code",
   "execution_count": 11,
   "metadata": {},
   "outputs": [
    {
     "data": {
      "text/plain": [
       "(282546, 189)"
      ]
     },
     "execution_count": 11,
     "metadata": {},
     "output_type": "execute_result"
    }
   ],
   "source": [
    "new_df.shape"
   ]
  },
  {
   "cell_type": "code",
   "execution_count": null,
   "metadata": {},
   "outputs": [],
   "source": []
  }
 ],
 "metadata": {
  "kernelspec": {
   "display_name": "Python 3",
   "language": "python",
   "name": "python3"
  },
  "language_info": {
   "codemirror_mode": {
    "name": "ipython",
    "version": 3
   },
   "file_extension": ".py",
   "mimetype": "text/x-python",
   "name": "python",
   "nbconvert_exporter": "python",
   "pygments_lexer": "ipython3",
   "version": "3.6.9"
  }
 },
 "nbformat": 4,
 "nbformat_minor": 2
}
