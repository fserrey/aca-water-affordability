{
 "cells": [
  {
   "cell_type": "code",
   "execution_count": 1,
   "metadata": {},
   "outputs": [],
   "source": [
    "import os\n",
    "import pandas as pd"
   ]
  },
  {
   "cell_type": "code",
   "execution_count": 2,
   "metadata": {},
   "outputs": [],
   "source": [
    "#Además de los decimales, del word, saca los valores que sirven la checkear que la carga es correcta\n",
    "#Automatizando eso en una función, if True, then print('los datos están bien')\n",
    "#Pide a Laura que te pase las tablas dinámicas\n",
    "#INtenta construir una serie temporal para análisis\n",
    "#Reproduce los análisis que han hecho en el WORD del estudio"
   ]
  },
  {
   "cell_type": "markdown",
   "metadata": {},
   "source": [
    "cruce de variables dentro de la encuesta.\n",
    "\n",
    "    Tasa Paro - Nªocupados (por trimestres) (En este caso la fuente es la EPA)\n",
    "    Índice de pobreza según OCDE (anual)\n",
    "    Gasto en agua y carga con respecto a ingresos\n",
    "    Ingresos anuales - Gasto agua (abastecimiento y saneamiento / solo abastecimiento)\n",
    "    Consumo agua (persona/litro) - Gasto agua (abastecimiento y saneamiento / solo abastecimiento"
   ]
  },
  {
   "cell_type": "code",
   "execution_count": 3,
   "metadata": {},
   "outputs": [],
   "source": [
    "gastos_tabla = pd.read_csv('gastos_serie_completa.csv')\n",
    "hogar_tabla = pd.read_csv('hogar_serie_completa.csv')"
   ]
  },
  {
   "cell_type": "code",
   "execution_count": null,
   "metadata": {},
   "outputs": [],
   "source": []
  }
 ],
 "metadata": {
  "kernelspec": {
   "display_name": "Python 3",
   "language": "python",
   "name": "python3"
  },
  "language_info": {
   "codemirror_mode": {
    "name": "ipython",
    "version": 3
   },
   "file_extension": ".py",
   "mimetype": "text/x-python",
   "name": "python",
   "nbconvert_exporter": "python",
   "pygments_lexer": "ipython3",
   "version": "3.6.9"
  }
 },
 "nbformat": 4,
 "nbformat_minor": 2
}
