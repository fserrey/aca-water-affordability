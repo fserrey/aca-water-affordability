{
 "cells": [
  {
   "cell_type": "code",
   "execution_count": 1,
   "metadata": {},
   "outputs": [
    {
     "name": "stdout",
     "output_type": "stream",
     "text": [
      "Using pymysql…\n",
      "Database version: 5.7.28-0ubuntu0.18.04.4\n"
     ]
    }
   ],
   "source": [
    "\n",
    "hostname = 'localhost'\n",
    "username = 'root'\n",
    "password = '$Mithwest44'\n",
    "database = 'aca_epf'\n",
    "\n",
    "print(\"Using pymysql…\")\n",
    "\n",
    "import pymysql\n",
    "\n",
    "con = pymysql.connect('localhost', 'root', \n",
    "    '$Mithwest44', 'aca_epf')\n",
    "\n",
    "with con:\n",
    "    \n",
    "    cur = con.cursor()\n",
    "    cur.execute(\"SELECT VERSION()\")\n",
    "\n",
    "    version = cur.fetchone()\n",
    "    \n",
    "    print(\"Database version: {}\".format(version[0]))"
   ]
  },
  {
   "cell_type": "code",
   "execution_count": 27,
   "metadata": {},
   "outputs": [
    {
     "name": "stdout",
     "output_type": "stream",
     "text": [
      "<class 'pandas.core.frame.DataFrame'>\n",
      "RangeIndex: 22043 entries, 0 to 22042\n",
      "Columns: 189 entries, Unnamed: 0 to COMITOT\n",
      "dtypes: float64(128), int64(61)\n",
      "memory usage: 31.8 MB\n"
     ]
    }
   ],
   "source": [
    "import pandas as pd\n",
    "\n",
    "file_name = 'hogar_2017.csv'\n",
    "\n",
    "df = pd.read_csv('/home/fserrey/gitrep/ACA_project/docs_table/hogar_tablas/' + file_name)\n",
    "df.dtypes\n",
    "type_dct = {str(k): list(v) for k, v in df.groupby(df.dtypes, axis=1)}\n",
    "lista_col = type_dct['object']\n",
    "\n",
    "\n",
    "for column in df.columns:\n",
    "    if column in lista_col:\n",
    "        df[column] = df[column].str.extract('(\\d+)')\n",
    "        df[column] = pd.to_numeric(df[column], errors = 'coerce')\n",
    "df.to_csv(file_name)\n",
    "df.info()"
   ]
  },
  {
   "cell_type": "code",
   "execution_count": 13,
   "metadata": {},
   "outputs": [
    {
     "name": "stdout",
     "output_type": "stream",
     "text": [
      "gastos_I_2006.csv dict_keys(['int64', 'float64'])\n",
      "hogar_2016.csv dict_keys(['int64', 'float64'])\n",
      "hogar_2017.csv dict_keys(['int64', 'float64'])\n",
      "hogar_2009.csv dict_keys(['int64', 'float64'])\n",
      "gastos_I_2010.csv dict_keys(['int64', 'float64'])\n",
      "hogar_2006.csv dict_keys(['int64', 'float64'])\n",
      "gastos_I_2008.csv dict_keys(['int64', 'float64'])\n",
      "hogar_2018.csv dict_keys(['int64', 'float64'])\n",
      "hogar_2010.csv dict_keys(['int64', 'float64'])\n",
      "gastos_I_2009.csv dict_keys(['int64', 'float64'])\n",
      "gastos_I_2012.csv dict_keys(['int64', 'float64'])\n",
      "gastos_I_2018.csv dict_keys(['int64', 'float64'])\n",
      "gastos_I_2014.csv dict_keys(['int64', 'float64'])\n",
      "gastos_I_2017.csv dict_keys(['int64', 'float64'])\n",
      "hogar_I_2010.csv dict_keys(['int64', 'float64'])\n",
      "hogar_2008.csv dict_keys(['int64', 'float64'])\n",
      "gastos_I_2016.csv dict_keys(['int64', 'float64'])\n",
      "hogar_2007.csv dict_keys(['int64', 'float64'])\n",
      "hogar_2015.csv dict_keys(['int64', 'float64'])\n",
      "gastos_I_2007.csv dict_keys(['int64', 'float64'])\n",
      "hogar_2012.csv dict_keys(['int64', 'float64'])\n",
      "hogar_2011.csv dict_keys(['int64', 'float64'])\n",
      "hogar_2014.csv dict_keys(['int64', 'float64'])\n",
      "gastos_I_2013.csv dict_keys(['int64', 'float64'])\n",
      "gastos_I_2011.csv dict_keys(['int64', 'float64'])\n",
      "hogar_2013.csv dict_keys(['int64', 'float64'])\n",
      "gastos_I_2015.csv dict_keys(['int64', 'float64'])\n"
     ]
    }
   ],
   "source": [
    "import os\n",
    "import pandas as pd\n",
    "base_dir = '/home/fserrey/gitrep/ACA_project/aca-water-affordability/notebooks/dec_notebooks'\n",
    "\n",
    "try:\n",
    "    for file in os.listdir(base_dir):\n",
    "        file_path = f'{base_dir}/{file}'\n",
    "        if 'hogar_' and '.csv' in file_path:\n",
    "            df = pd.read_csv(file_path)\n",
    "            type_dct = {str(k): list(v) for k, v in df.groupby(df.dtypes, axis=1)}\n",
    "            print(file, type_dct.keys())\n",
    "except MemoryError as error:\n",
    "    print(error)"
   ]
  },
  {
   "cell_type": "code",
   "execution_count": null,
   "metadata": {},
   "outputs": [
    {
     "name": "stdout",
     "output_type": "stream",
     "text": [
      "gastos_I_2006.csv\n",
      "/home/fserrey/gitrep/ACA_project/docs_table/gastos_tablas//gastos_I_2006.csv\n",
      "gastos_I_2010.csv\n",
      "/home/fserrey/gitrep/ACA_project/docs_table/gastos_tablas//gastos_I_2010.csv\n",
      "gastos_I_2008.csv\n",
      "/home/fserrey/gitrep/ACA_project/docs_table/gastos_tablas//gastos_I_2008.csv\n",
      "gastos_2017.sav\n",
      "/home/fserrey/gitrep/ACA_project/docs_table/gastos_tablas//gastos_2017.sav\n",
      "gastos_2007.sav\n",
      "/home/fserrey/gitrep/ACA_project/docs_table/gastos_tablas//gastos_2007.sav\n",
      "gastos_2015.sav\n",
      "/home/fserrey/gitrep/ACA_project/docs_table/gastos_tablas//gastos_2015.sav\n",
      "gastos_I_2009.csv\n",
      "/home/fserrey/gitrep/ACA_project/docs_table/gastos_tablas//gastos_I_2009.csv\n",
      "gastos_I_2012.csv\n",
      "/home/fserrey/gitrep/ACA_project/docs_table/gastos_tablas//gastos_I_2012.csv\n",
      "gastos_I_2018.csv\n",
      "/home/fserrey/gitrep/ACA_project/docs_table/gastos_tablas//gastos_I_2018.csv\n",
      "gastos_2008.sav\n",
      "/home/fserrey/gitrep/ACA_project/docs_table/gastos_tablas//gastos_2008.sav\n",
      "gastos_2012.sav\n",
      "/home/fserrey/gitrep/ACA_project/docs_table/gastos_tablas//gastos_2012.sav\n",
      "gastos_I_2014.csv\n",
      "/home/fserrey/gitrep/ACA_project/docs_table/gastos_tablas//gastos_I_2014.csv\n",
      "gastos_I_2017.csv\n",
      "/home/fserrey/gitrep/ACA_project/docs_table/gastos_tablas//gastos_I_2017.csv\n",
      "gastos_2016.sav\n",
      "/home/fserrey/gitrep/ACA_project/docs_table/gastos_tablas//gastos_2016.sav\n",
      "gastos_2013.sav\n",
      "/home/fserrey/gitrep/ACA_project/docs_table/gastos_tablas//gastos_2013.sav\n",
      "hogar_I_2010.csv\n",
      "/home/fserrey/gitrep/ACA_project/docs_table/gastos_tablas//hogar_I_2010.csv\n",
      "gastos_2018.sav\n",
      "/home/fserrey/gitrep/ACA_project/docs_table/gastos_tablas//gastos_2018.sav\n",
      "gastos_I_2016.csv\n",
      "/home/fserrey/gitrep/ACA_project/docs_table/gastos_tablas//gastos_I_2016.csv\n",
      "gastos_I_2007.csv\n",
      "/home/fserrey/gitrep/ACA_project/docs_table/gastos_tablas//gastos_I_2007.csv\n"
     ]
    }
   ],
   "source": [
    "import os\n",
    "base_dir = '/home/fserrey/gitrep/ACA_project/docs_table/gastos_tablas/'\n",
    "for file in os.listdir(base_dir):\n",
    "    file_path = f'{base_dir}/{file}'\n",
    "    print(file)\n",
    "    print(file_path)\n",
    "    if '.csv' in file_path:\n",
    "        df = pd.read_csv(file_path)\n",
    "        for column in df.columns:\n",
    "            if column in lista_col:\n",
    "                df[column] = df[column].str.extract('(\\d+)')\n",
    "                df[column].astype(str).astype(int)\n",
    "                df.to_csv(file)"
   ]
  },
  {
   "cell_type": "code",
   "execution_count": 14,
   "metadata": {},
   "outputs": [
    {
     "name": "stdout",
     "output_type": "stream",
     "text": [
      "gastos_I_2006.csv ['Unnamed: 0', 'Unnamed: 0.1', 'ANOENC', 'NUMERO', 'CODIGO']\n",
      "gastos_I_2006.csv ['GASTO', 'PORCEN', 'CANTIDAD', 'GASTMON', 'GASTNOM1', 'GASTNOM2', 'GASTNOM3', 'GASTNOM4', 'GASTNOM5', 'NACTOR']\n",
      "hogar_2016.csv ['Unnamed: 0', 'Unnamed: 0.1', 'ANOENC', 'NUMERO', 'CCAA', 'NUTS1', 'CAPROV', 'TAMAMU', 'DENSIDAD', 'CLAVE', 'CLATEO', 'TAMANO', 'TIPHOGAR1', 'TIPHOGAR2', 'TIPHOGAR3', 'TIPHOGAR4', 'TIPHOGAR5', 'TIPHOGAR6', 'TIPHOGAR7', 'TIPHOGAR8', 'TIPHOGAR9', 'TIPHOGAR10', 'TIPHOGAR11', 'SITUOCUHOG', 'SITUACTHOG', 'NORDENSP', 'SEXOSP', 'PAISNACSP', 'NACIONASP', 'SITURESSP', 'ECIVILLEGALSP', 'NORDENCOSP', 'CONVIVENCIASP', 'NORDENPASP', 'PAISPADRESP', 'NORDENMASP', 'PAISMADRESP', 'ESTUDIOSSP', 'ESTUDREDSP', 'SITUACTSP', 'SITUREDSP', 'OCUSP', 'PERCEPSP', 'TRABAJO', 'SITSOCI', 'SITSOCIRE', 'REGTEN', 'TIPOEDIF', 'ZONARES', 'TIPOCASA', 'ANNOCON', 'AGUACALI', 'CALEF', 'DISPOSIOV', 'CAPROP', 'CAJENA', 'PENSIO', 'DESEM', 'OTRSUB', 'RENTAS', 'OTROIN', 'INTERIN']\n",
      "hogar_2016.csv ['NACTOR', 'NMIEMB', 'NMIEMSD', 'NMIEMHU', 'NMIEMIN', 'NMIEM1', 'NMIEM2', 'NMIEM3', 'NMIEM4', 'NMIEM5', 'NMIEM6', 'NMIEM7', 'NMIEM8', 'NMIEM9', 'NMIEM10', 'NMIEM11', 'NMIEM12', 'NMIEM13', 'NUMACTI', 'NUMINACTI', 'NUMOCUP', 'NUMNOCUP', 'NUMESTU', 'NUMNOESTU', 'NNINOSD', 'NHIJOSD', 'UC1', 'UC2', 'PF2TEO', 'PF2RECO', 'EDADSP', 'PAISSP', 'UNIONSP', 'JORNADASP', 'IMPEXACPSP', 'INTERINPSP', 'OCUPA', 'OCUPARED', 'ACTESTB', 'ACTESTBRED', 'SITPROF', 'SECTOR', 'CONTRATO', 'TIPOCONT', 'NHABIT', 'SUPERF', 'FUENAGUA', 'FUENCALE', 'NUMOVD', 'REGTENV1', 'MESESV1', 'DIASV1', 'AGUACV1', 'FUENACV1', 'CALEFV1', 'FUENCAV1', 'REGTENV2', 'MESESV2', 'DIASV2', 'AGUACV2', 'FUENACV2', 'CALEFV2', 'FUENCAV2', 'REGTENV3', 'MESESV3', 'DIASV3', 'AGUACV3', 'FUENACV3', 'CALEFV3', 'FUENCAV3', 'REGTENV4', 'MESESV4', 'DIASV4', 'AGUACV4', 'FUENACV4', 'CALEFV4', 'FUENCAV4', 'REGTENV5', 'MESESV5', 'DIASV5', 'AGUACV5', 'FUENACV5', 'CALEFV5', 'FUENCAV5', 'REGTENV6', 'MESESV6', 'DIASV6', 'AGUACV6', 'FUENACV6', 'CALEFV6', 'FUENCAV6', 'REGTENV7', 'MESESV7', 'DIASV7', 'AGUACV7', 'FUENACV7', 'CALEFV7', 'FUENCAV7', 'REGTENV8', 'MESESV8', 'DIASV8', 'AGUACV8', 'FUENACV8', 'CALEFV8', 'FUENCAV8', 'REGTENV9', 'MESESV9', 'DIASV9', 'AGUACV9', 'FUENACV9', 'CALEFV9', 'FUENCAV9', 'GASTOT', 'IMPUTGAS', 'GASTMON', 'GASTNOM1', 'GASTNOM2', 'GASTNOM3', 'GASTNOM4', 'FUENPRIN', 'FUENPRINRED', 'IMPEXAC', 'NUMPERI', 'COMIMH', 'COMISD', 'COMIHU', 'COMIINV', 'COMITOT']\n",
      "hogar_2017.csv ['Unnamed: 0', 'Unnamed: 0.1', 'ANOENC', 'NUMERO', 'CCAA', 'NUTS1', 'CAPROV', 'TAMAMU', 'DENSIDAD', 'CLAVE', 'CLATEO', 'TAMANO', 'TIPHOGAR1', 'TIPHOGAR2', 'TIPHOGAR3', 'TIPHOGAR4', 'TIPHOGAR5', 'TIPHOGAR6', 'TIPHOGAR7', 'TIPHOGAR8', 'TIPHOGAR9', 'TIPHOGAR10', 'TIPHOGAR11', 'SITUOCUHOG', 'SITUACTHOG', 'NORDENSP', 'SEXOSP', 'PAISNACSP', 'NACIONASP', 'SITURESSP', 'ECIVILLEGALSP', 'NORDENCOSP', 'CONVIVENCIASP', 'NORDENPASP', 'PAISPADRESP', 'NORDENMASP', 'PAISMADRESP', 'ESTUDIOSSP', 'ESTUDREDSP', 'SITUACTSP', 'SITUREDSP', 'OCUSP', 'PERCEPSP', 'TRABAJO', 'SITSOCI', 'SITSOCIRE', 'REGTEN', 'TIPOEDIF', 'ZONARES', 'TIPOCASA', 'ANNOCON', 'AGUACALI', 'CALEF', 'DISPOSIOV', 'CAPROP', 'CAJENA', 'PENSIO', 'DESEM', 'OTRSUB', 'RENTAS', 'OTROIN', 'INTERIN']\n",
      "hogar_2017.csv ['NACTOR', 'NMIEMB', 'NMIEMSD', 'NMIEMHU', 'NMIEMIN', 'NMIEM1', 'NMIEM2', 'NMIEM3', 'NMIEM4', 'NMIEM5', 'NMIEM6', 'NMIEM7', 'NMIEM8', 'NMIEM9', 'NMIEM10', 'NMIEM11', 'NMIEM12', 'NMIEM13', 'NUMACTI', 'NUMINACTI', 'NUMOCUP', 'NUMNOCUP', 'NUMESTU', 'NUMNOESTU', 'NNINOSD', 'NHIJOSD', 'UC1', 'UC2', 'PF2TEO', 'PF2RECO', 'EDADSP', 'PAISSP', 'UNIONSP', 'JORNADASP', 'IMPEXACPSP', 'INTERINPSP', 'OCUPA', 'OCUPARED', 'ACTESTB', 'ACTESTBRED', 'SITPROF', 'SECTOR', 'CONTRATO', 'TIPOCONT', 'NHABIT', 'SUPERF', 'FUENAGUA', 'FUENCALE', 'NUMOVD', 'REGTENV1', 'MESESV1', 'DIASV1', 'AGUACV1', 'FUENACV1', 'CALEFV1', 'FUENCAV1', 'REGTENV2', 'MESESV2', 'DIASV2', 'AGUACV2', 'FUENACV2', 'CALEFV2', 'FUENCAV2', 'REGTENV3', 'MESESV3', 'DIASV3', 'AGUACV3', 'FUENACV3', 'CALEFV3', 'FUENCAV3', 'REGTENV4', 'MESESV4', 'DIASV4', 'AGUACV4', 'FUENACV4', 'CALEFV4', 'FUENCAV4', 'REGTENV5', 'MESESV5', 'DIASV5', 'AGUACV5', 'FUENACV5', 'CALEFV5', 'FUENCAV5', 'REGTENV6', 'MESESV6', 'DIASV6', 'AGUACV6', 'FUENACV6', 'CALEFV6', 'FUENCAV6', 'REGTENV7', 'MESESV7', 'DIASV7', 'AGUACV7', 'FUENACV7', 'CALEFV7', 'FUENCAV7', 'REGTENV8', 'MESESV8', 'DIASV8', 'AGUACV8', 'FUENACV8', 'CALEFV8', 'FUENCAV8', 'REGTENV9', 'MESESV9', 'DIASV9', 'AGUACV9', 'FUENACV9', 'CALEFV9', 'FUENCAV9', 'GASTOT', 'IMPUTGAS', 'GASTMON', 'GASTNOM1', 'GASTNOM2', 'GASTNOM3', 'GASTNOM4', 'FUENPRIN', 'FUENPRINRED', 'IMPEXAC', 'NUMPERI', 'COMIMH', 'COMISD', 'COMIHU', 'COMIINV', 'COMITOT']\n",
      "hogar_2009.csv ['Unnamed: 0', 'Unnamed: 0.1', 'ANOENC', 'NUMERO', 'CCAA', 'NUTS1', 'CAPROV', 'TAMAMU', 'DENSI', 'CLAVE', 'CLATEO', 'TAMANO', 'TIPHOGAR_1', 'TIPHOGAR_2', 'TIPHOGAR_3', 'TIPHOGAR_4', 'TIPHOGAR_5', 'TIPHOGAR_6', 'TIPHOGAR_7', 'TIPHOGAR_8', 'TIPHOGAR_9', 'TIPHOGAR_10', 'TIPHOGAR_11', 'SITUOCU_HOG', 'SITUACT_HOG', 'NORDENSP', 'SEXOSP', 'NACIONA_SP', 'SITURES_SP', 'NORDENCO_SP', 'NORDENPA_SP', 'NORDENMA_SP', 'ESTUDIOS_SP', 'ESTUDRED_SP', 'SITUACT_SP', 'SITURED_SP', 'PERCEPSP', 'TRABAJO', 'SITSOCI', 'SITSOCI_RE', 'REGTEN', 'TIPOEDIF', 'ZONARES', 'TIPOCASA', 'ANNOCON', 'AGUACALI', 'CALEF', 'DISPOSI_OV', 'CAPROP', 'CAJENA', 'PENSIO', 'DESEM', 'OTRSUB', 'RENTAS', 'OTROIN', 'IMPUEXAC', 'INTERIN', 'IMPU_INTER']\n",
      "hogar_2009.csv ['NACTOR', 'NMIEMB', 'NMIEMSD', 'NMIEMHU', 'NMIEMIN', 'NMIEM1', 'NMIEM2', 'NMIEM3', 'NMIEM4', 'NMIEM5', 'NMIEM6', 'NMIEM7', 'NHIJOSD', 'UC1', 'UC2', 'PF2TEO', 'PF2RECO', 'NUMACTI', 'NUMOCUP', 'NUMESTU', 'EDADSP', 'PAISSP', 'ECIVILSP', 'IMPEXACP_SP', 'IMPUEXACP_SP', 'INTERINP_SP', 'IMPU_INTERPSP', 'OCUPA', 'OCUPARED', 'ACTESTB', 'ACTESTB_RED', 'SITPROF', 'SECTOR', 'TIPOCONT', 'NHABIT', 'SUPERF', 'FUENAGUA', 'FUENCALE', 'NUMOVD', 'REGTENV1', 'MESESV1', 'DIASV1', 'AGUACV1', 'FUENACV1', 'CALEFV1', 'FUENCAV1', 'REGTENV2', 'MESESV2', 'DIASV2', 'AGUACV2', 'FUENACV2', 'CALEFV2', 'FUENCAV2', 'REGTENV3', 'MESESV3', 'DIASV3', 'AGUACV3', 'FUENACV3', 'CALEFV3', 'FUENCAV3', 'REGTENV4', 'MESESV4', 'DIASV4', 'AGUACV4', 'FUENACV4', 'CALEFV4', 'FUENCAV4', 'REGTENV5', 'MESESV5', 'DIASV5', 'AGUACV5', 'FUENACV5', 'CALEFV5', 'FUENCAV5', 'REGTENV6', 'MESESV6', 'DIASV6', 'AGUACV6', 'FUENACV6', 'CALEFV6', 'FUENCAV6', 'REGTENV7', 'MESESV7', 'DIASV7', 'AGUACV7', 'FUENACV7', 'CALEFV7', 'FUENCAV7', 'REGTENV8', 'MESESV8', 'DIASV8', 'AGUACV8', 'FUENACV8', 'CALEFV8', 'FUENCAV8', 'REGTENV9', 'MESESV9', 'DIASV9', 'AGUACV9', 'FUENACV9', 'CALEFV9', 'FUENCAV9', 'GASTOT', 'IMPUTGAS', 'GASTMON', 'GASTNOM1', 'GASTNOM2', 'GASTNOM3', 'GASTNOM4', 'FUENPRIN', 'FUENPRIN_RED', 'IMPEXAC', 'NUMPERI', 'COMIMH', 'COMISD', 'COMIHU', 'COMIINV', 'COMITOT']\n",
      "gastos_I_2010.csv ['Unnamed: 0', 'Unnamed: 0.1', 'ANOENC', 'NUMERO', 'CODIGO']\n",
      "gastos_I_2010.csv ['GASTO', 'PORCEN', 'CANTIDAD', 'GASTMON', 'GASTNOM1', 'GASTNOM2', 'GASTNOM3', 'GASTNOM4', 'GASTNOM5', 'NACTOR']\n",
      "hogar_2006.csv ['Unnamed: 0', 'Unnamed: 0.1', 'ANOENC', 'NUMERO', 'CCAA', 'NUTS1', 'CAPROV', 'TAMAMU', 'DENSI', 'CLAVE', 'CLATEO', 'TAMANO', 'TIPHOGAR_1', 'TIPHOGAR_2', 'TIPHOGAR_3', 'TIPHOGAR_4', 'TIPHOGAR_5', 'TIPHOGAR_6', 'TIPHOGAR_7', 'TIPHOGAR_8', 'TIPHOGAR_9', 'TIPHOGAR_10', 'TIPHOGAR_11', 'SITUOCU_HOG', 'SITUACT_HOG', 'NORDENSP', 'SEXOSP', 'NACIONA_SP', 'SITURES_SP', 'NORDENCO_SP', 'NORDENPA_SP', 'NORDENMA_SP', 'ESTUDIOS_SP', 'ESTUDRED_SP', 'SITUACT_SP', 'SITURED_SP', 'PERCEPSP', 'TRABAJO', 'SITSOCI', 'SITSOCI_RE', 'REGTEN', 'TIPOEDIF', 'ZONARES', 'TIPOCASA', 'ANNOCON', 'AGUACALI', 'CALEF', 'DISPOSI_OV', 'CAPROP', 'CAJENA', 'PENSIO', 'DESEM', 'OTRSUB', 'RENTAS', 'OTROIN', 'IMPUEXAC', 'INTERIN', 'IMPU_INTER']\n",
      "hogar_2006.csv ['NACTOR', 'NMIEMB', 'NMIEMSD', 'NMIEMHU', 'NMIEMIN', 'NMIEM1', 'NMIEM2', 'NMIEM3', 'NMIEM4', 'NMIEM5', 'NMIEM6', 'NMIEM7', 'NHIJOSD', 'UC1', 'UC2', 'PF2TEO', 'PF2RECO', 'NUMACTI', 'NUMOCUP', 'NUMESTU', 'EDADSP', 'PAISSP', 'ECIVILSP', 'IMPEXACP_SP', 'IMPUEXACP_SP', 'INTERINP_SP', 'IMPU_INTERPSP', 'OCUPA', 'OCUPARED', 'ACTESTB', 'ACTESTB_RED', 'SITPROF', 'SECTOR', 'TIPOCONT', 'NHABIT', 'SUPERF', 'FUENAGUA', 'FUENCALE', 'NUMOVD', 'REGTENV1', 'MESESV1', 'DIASV1', 'AGUACV1', 'FUENACV1', 'CALEFV1', 'FUENCAV1', 'REGTENV2', 'MESESV2', 'DIASV2', 'AGUACV2', 'FUENACV2', 'CALEFV2', 'FUENCAV2', 'REGTENV3', 'MESESV3', 'DIASV3', 'AGUACV3', 'FUENACV3', 'CALEFV3', 'FUENCAV3', 'REGTENV4', 'MESESV4', 'DIASV4', 'AGUACV4', 'FUENACV4', 'CALEFV4', 'FUENCAV4', 'REGTENV5', 'MESESV5', 'DIASV5', 'AGUACV5', 'FUENACV5', 'CALEFV5', 'FUENCAV5', 'REGTENV6', 'MESESV6', 'DIASV6', 'AGUACV6', 'FUENACV6', 'CALEFV6', 'FUENCAV6', 'REGTENV7', 'MESESV7', 'DIASV7', 'AGUACV7', 'FUENACV7', 'CALEFV7', 'FUENCAV7', 'REGTENV8', 'MESESV8', 'DIASV8', 'AGUACV8', 'FUENACV8', 'CALEFV8', 'FUENCAV8', 'REGTENV9', 'MESESV9', 'DIASV9', 'AGUACV9', 'FUENACV9', 'CALEFV9', 'FUENCAV9', 'GASTOT', 'IMPUTGAS', 'GASTMON', 'GASTNOM1', 'GASTNOM2', 'GASTNOM3', 'GASTNOM4', 'FUENPRIN', 'FUENPRIN_RED', 'IMPEXAC', 'NUMPERI', 'COMIMH', 'COMISD', 'COMIHU', 'COMIINV', 'COMITOT']\n"
     ]
    },
    {
     "name": "stdout",
     "output_type": "stream",
     "text": [
      "gastos_I_2008.csv ['Unnamed: 0', 'Unnamed: 0.1', 'ANOENC', 'NUMERO', 'CODIGO']\n",
      "gastos_I_2008.csv ['GASTO', 'PORCEN', 'CANTIDAD', 'GASTMON', 'GASTNOM1', 'GASTNOM2', 'GASTNOM3', 'GASTNOM4', 'GASTNOM5', 'NACTOR']\n",
      "hogar_2018.csv ['Unnamed: 0', 'Unnamed: 0.1', 'ANOENC', 'NUMERO', 'CCAA', 'NUTS1', 'CAPROV', 'TAMAMU', 'DENSIDAD', 'CLAVE', 'CLATEO', 'TAMANO', 'TIPHOGAR1', 'TIPHOGAR2', 'TIPHOGAR3', 'TIPHOGAR4', 'TIPHOGAR5', 'TIPHOGAR6', 'TIPHOGAR7', 'TIPHOGAR8', 'TIPHOGAR9', 'TIPHOGAR10', 'TIPHOGAR11', 'SITUOCUHOG', 'SITUACTHOG', 'NORDENSP', 'SEXOSP', 'PAISNACSP', 'NACIONASP', 'SITURESSP', 'ECIVILLEGALSP', 'NORDENCOSP', 'CONVIVENCIASP', 'NORDENPASP', 'PAISPADRESP', 'NORDENMASP', 'PAISMADRESP', 'ESTUDIOSSP', 'ESTUDREDSP', 'SITUACTSP', 'SITUREDSP', 'OCUSP', 'PERCEPSP', 'TRABAJO', 'SITSOCI', 'SITSOCIRE', 'REGTEN', 'TIPOEDIF', 'ZONARES', 'TIPOCASA', 'ANNOCON', 'AGUACALI', 'CALEF', 'DISPOSIOV', 'CAPROP', 'CAJENA', 'PENSIO', 'DESEM', 'OTRSUB', 'RENTAS', 'OTROIN', 'INTERIN']\n",
      "hogar_2018.csv ['NACTOR', 'NMIEMB', 'NMIEMSD', 'NMIEMHU', 'NMIEMIN', 'NMIEM1', 'NMIEM2', 'NMIEM3', 'NMIEM4', 'NMIEM5', 'NMIEM6', 'NMIEM7', 'NMIEM8', 'NMIEM9', 'NMIEM10', 'NMIEM11', 'NMIEM12', 'NMIEM13', 'NUMACTI', 'NUMINACTI', 'NUMOCUP', 'NUMNOCUP', 'NUMESTU', 'NUMNOESTU', 'NNINOSD', 'NHIJOSD', 'UC1', 'UC2', 'PF2TEO', 'PF2RECO', 'EDADSP', 'PAISSP', 'UNIONSP', 'JORNADASP', 'IMPEXACPSP', 'INTERINPSP', 'OCUPA', 'OCUPARED', 'ACTESTB', 'ACTESTBRED', 'SITPROF', 'SECTOR', 'CONTRATO', 'TIPOCONT', 'NHABIT', 'SUPERF', 'FUENAGUA', 'FUENCALE', 'NUMOVD', 'REGTENV1', 'MESESV1', 'DIASV1', 'AGUACV1', 'FUENACV1', 'CALEFV1', 'FUENCAV1', 'REGTENV2', 'MESESV2', 'DIASV2', 'AGUACV2', 'FUENACV2', 'CALEFV2', 'FUENCAV2', 'REGTENV3', 'MESESV3', 'DIASV3', 'AGUACV3', 'FUENACV3', 'CALEFV3', 'FUENCAV3', 'REGTENV4', 'MESESV4', 'DIASV4', 'AGUACV4', 'FUENACV4', 'CALEFV4', 'FUENCAV4', 'REGTENV5', 'MESESV5', 'DIASV5', 'AGUACV5', 'FUENACV5', 'CALEFV5', 'FUENCAV5', 'REGTENV6', 'MESESV6', 'DIASV6', 'AGUACV6', 'FUENACV6', 'CALEFV6', 'FUENCAV6', 'REGTENV7', 'MESESV7', 'DIASV7', 'AGUACV7', 'FUENACV7', 'CALEFV7', 'FUENCAV7', 'REGTENV8', 'MESESV8', 'DIASV8', 'AGUACV8', 'FUENACV8', 'CALEFV8', 'FUENCAV8', 'REGTENV9', 'MESESV9', 'DIASV9', 'AGUACV9', 'FUENACV9', 'CALEFV9', 'FUENCAV9', 'GASTOT', 'IMPUTGAS', 'GASTMON', 'GASTNOM1', 'GASTNOM2', 'GASTNOM3', 'GASTNOM4', 'FUENPRIN', 'FUENPRINRED', 'IMPEXAC', 'NUMPERI', 'COMIMH', 'COMISD', 'COMIHU', 'COMIINV', 'COMITOT']\n",
      "hogar_2010.csv ['Unnamed: 0', 'Unnamed: 0.1', 'ANOENC', 'NUMERO', 'CCAA', 'NUTS1', 'CAPROV', 'TAMAMU', 'DENSI', 'CLAVE', 'CLATEO', 'TAMANO', 'TIPHOGAR_1', 'TIPHOGAR_2', 'TIPHOGAR_3', 'TIPHOGAR_4', 'TIPHOGAR_5', 'TIPHOGAR_6', 'TIPHOGAR_7', 'TIPHOGAR_8', 'TIPHOGAR_9', 'TIPHOGAR_10', 'TIPHOGAR_11', 'SITUOCU_HOG', 'SITUACT_HOG', 'NORDENSP', 'SEXOSP', 'NACIONA_SP', 'SITURES_SP', 'NORDENCO_SP', 'NORDENPA_SP', 'NORDENMA_SP', 'ESTUDIOS_SP', 'ESTUDRED_SP', 'SITUACT_SP', 'SITURED_SP', 'PERCEPSP', 'TRABAJO', 'SITSOCI', 'SITSOCI_RE', 'REGTEN', 'TIPOEDIF', 'ZONARES', 'TIPOCASA', 'ANNOCON', 'AGUACALI', 'CALEF', 'DISPOSI_OV', 'CAPROP', 'CAJENA', 'PENSIO', 'DESEM', 'OTRSUB', 'RENTAS', 'OTROIN', 'IMPUEXAC', 'INTERIN', 'IMPU_INTER']\n",
      "hogar_2010.csv ['NACTOR', 'NMIEMB', 'NMIEMSD', 'NMIEMHU', 'NMIEMIN', 'NMIEM1', 'NMIEM2', 'NMIEM3', 'NMIEM4', 'NMIEM5', 'NMIEM6', 'NMIEM7', 'NHIJOSD', 'UC1', 'UC2', 'PF2TEO', 'PF2RECO', 'NUMACTI', 'NUMOCUP', 'NUMESTU', 'EDADSP', 'PAISSP', 'ECIVILSP', 'IMPEXACP_SP', 'IMPUEXACP_SP', 'INTERINP_SP', 'IMPU_INTERPSP', 'OCUPA', 'OCUPARED', 'ACTESTB', 'ACTESTB_RED', 'SITPROF', 'SECTOR', 'TIPOCONT', 'NHABIT', 'SUPERF', 'FUENAGUA', 'FUENCALE', 'NUMOVD', 'REGTENV1', 'MESESV1', 'DIASV1', 'AGUACV1', 'FUENACV1', 'CALEFV1', 'FUENCAV1', 'REGTENV2', 'MESESV2', 'DIASV2', 'AGUACV2', 'FUENACV2', 'CALEFV2', 'FUENCAV2', 'REGTENV3', 'MESESV3', 'DIASV3', 'AGUACV3', 'FUENACV3', 'CALEFV3', 'FUENCAV3', 'REGTENV4', 'MESESV4', 'DIASV4', 'AGUACV4', 'FUENACV4', 'CALEFV4', 'FUENCAV4', 'REGTENV5', 'MESESV5', 'DIASV5', 'AGUACV5', 'FUENACV5', 'CALEFV5', 'FUENCAV5', 'REGTENV6', 'MESESV6', 'DIASV6', 'AGUACV6', 'FUENACV6', 'CALEFV6', 'FUENCAV6', 'REGTENV7', 'MESESV7', 'DIASV7', 'AGUACV7', 'FUENACV7', 'CALEFV7', 'FUENCAV7', 'REGTENV8', 'MESESV8', 'DIASV8', 'AGUACV8', 'FUENACV8', 'CALEFV8', 'FUENCAV8', 'REGTENV9', 'MESESV9', 'DIASV9', 'AGUACV9', 'FUENACV9', 'CALEFV9', 'FUENCAV9', 'GASTOT', 'IMPUTGAS', 'GASTMON', 'GASTNOM1', 'GASTNOM2', 'GASTNOM3', 'GASTNOM4', 'FUENPRIN', 'FUENPRIN_RED', 'IMPEXAC', 'NUMPERI', 'COMIMH', 'COMISD', 'COMIHU', 'COMIINV', 'COMITOT']\n",
      "gastos_I_2009.csv ['Unnamed: 0', 'Unnamed: 0.1', 'ANOENC', 'NUMERO', 'CODIGO']\n",
      "gastos_I_2009.csv ['GASTO', 'PORCEN', 'CANTIDAD', 'GASTMON', 'GASTNOM1', 'GASTNOM2', 'GASTNOM3', 'GASTNOM4', 'GASTNOM5', 'NACTOR']\n",
      "gastos_I_2012.csv ['Unnamed: 0', 'Unnamed: 0.1', 'ANOENC', 'NUMERO', 'CODIGO']\n",
      "gastos_I_2012.csv ['GASTO', 'PORCEN', 'CANTIDAD', 'GASTMON', 'GASTNOM1', 'GASTNOM2', 'GASTNOM3', 'GASTNOM4', 'GASTNOM5', 'NACTOR']\n",
      "gastos_I_2018.csv ['Unnamed: 0', 'Unnamed: 0.1', 'ANOENC', 'NUMERO', 'CODIGO']\n",
      "gastos_I_2018.csv ['GASTO', 'PORCENDES', 'PORCENIMP', 'CANTIDAD']\n",
      "gastos_I_2014.csv ['Unnamed: 0', 'Unnamed: 0.1', 'ANOENC', 'NUMERO', 'CODIGO']\n",
      "gastos_I_2014.csv ['GASTO', 'PORCEN', 'CANTIDAD', 'GASTMON', 'GASTNOM1', 'GASTNOM2', 'GASTNOM3', 'GASTNOM4', 'GASTNOM5', 'NACTOR']\n",
      "gastos_I_2017.csv ['Unnamed: 0', 'Unnamed: 0.1', 'ANOENC', 'NUMERO', 'CODIGO']\n",
      "gastos_I_2017.csv ['GASTO', 'PORCENDES', 'PORCENIMP', 'CANTIDAD']\n",
      "hogar_I_2010.csv ['Unnamed: 0', 'Unnamed: 0.1', 'ANOENC', 'NUMERO', 'CODIGO']\n",
      "hogar_I_2010.csv ['GASTO', 'PORCEN', 'CANTIDAD', 'GASTMON', 'GASTNOM1', 'GASTNOM2', 'GASTNOM3', 'GASTNOM4', 'GASTNOM5', 'NACTOR']\n",
      "hogar_2008.csv ['Unnamed: 0', 'Unnamed: 0.1', 'ANOENC', 'NUMERO', 'CCAA', 'NUTS1', 'CAPROV', 'TAMAMU', 'DENSI', 'CLAVE', 'CLATEO', 'TAMANO', 'TIPHOGAR_1', 'TIPHOGAR_2', 'TIPHOGAR_3', 'TIPHOGAR_4', 'TIPHOGAR_5', 'TIPHOGAR_6', 'TIPHOGAR_7', 'TIPHOGAR_8', 'TIPHOGAR_9', 'TIPHOGAR_10', 'TIPHOGAR_11', 'SITUOCU_HOG', 'SITUACT_HOG', 'NORDENSP', 'SEXOSP', 'NACIONA_SP', 'SITURES_SP', 'NORDENCO_SP', 'NORDENPA_SP', 'NORDENMA_SP', 'ESTUDIOS_SP', 'ESTUDRED_SP', 'SITUACT_SP', 'SITURED_SP', 'PERCEPSP', 'TRABAJO', 'SITSOCI', 'SITSOCI_RE', 'REGTEN', 'TIPOEDIF', 'ZONARES', 'TIPOCASA', 'ANNOCON', 'AGUACALI', 'CALEF', 'DISPOSI_OV', 'CAPROP', 'CAJENA', 'PENSIO', 'DESEM', 'OTRSUB', 'RENTAS', 'OTROIN', 'IMPUEXAC', 'INTERIN', 'IMPU_INTER']\n",
      "hogar_2008.csv ['NACTOR', 'NMIEMB', 'NMIEMSD', 'NMIEMHU', 'NMIEMIN', 'NMIEM1', 'NMIEM2', 'NMIEM3', 'NMIEM4', 'NMIEM5', 'NMIEM6', 'NMIEM7', 'NHIJOSD', 'UC1', 'UC2', 'PF2TEO', 'PF2RECO', 'NUMACTI', 'NUMOCUP', 'NUMESTU', 'EDADSP', 'PAISSP', 'ECIVILSP', 'IMPEXACP_SP', 'IMPUEXACP_SP', 'INTERINP_SP', 'IMPU_INTERPSP', 'OCUPA', 'OCUPARED', 'ACTESTB', 'ACTESTB_RED', 'SITPROF', 'SECTOR', 'TIPOCONT', 'NHABIT', 'SUPERF', 'FUENAGUA', 'FUENCALE', 'NUMOVD', 'REGTENV1', 'MESESV1', 'DIASV1', 'AGUACV1', 'FUENACV1', 'CALEFV1', 'FUENCAV1', 'REGTENV2', 'MESESV2', 'DIASV2', 'AGUACV2', 'FUENACV2', 'CALEFV2', 'FUENCAV2', 'REGTENV3', 'MESESV3', 'DIASV3', 'AGUACV3', 'FUENACV3', 'CALEFV3', 'FUENCAV3', 'REGTENV4', 'MESESV4', 'DIASV4', 'AGUACV4', 'FUENACV4', 'CALEFV4', 'FUENCAV4', 'REGTENV5', 'MESESV5', 'DIASV5', 'AGUACV5', 'FUENACV5', 'CALEFV5', 'FUENCAV5', 'REGTENV6', 'MESESV6', 'DIASV6', 'AGUACV6', 'FUENACV6', 'CALEFV6', 'FUENCAV6', 'REGTENV7', 'MESESV7', 'DIASV7', 'AGUACV7', 'FUENACV7', 'CALEFV7', 'FUENCAV7', 'REGTENV8', 'MESESV8', 'DIASV8', 'AGUACV8', 'FUENACV8', 'CALEFV8', 'FUENCAV8', 'REGTENV9', 'MESESV9', 'DIASV9', 'AGUACV9', 'FUENACV9', 'CALEFV9', 'FUENCAV9', 'GASTOT', 'IMPUTGAS', 'GASTMON', 'GASTNOM1', 'GASTNOM2', 'GASTNOM3', 'GASTNOM4', 'FUENPRIN', 'FUENPRIN_RED', 'IMPEXAC', 'NUMPERI', 'COMIMH', 'COMISD', 'COMIHU', 'COMIINV', 'COMITOT']\n",
      "gastos_I_2016.csv ['Unnamed: 0', 'Unnamed: 0.1', 'ANOENC', 'NUMERO', 'CODIGO']\n",
      "gastos_I_2016.csv ['GASTO', 'PORCENDES', 'PORCENIMP', 'CANTIDAD']\n",
      "hogar_2007.csv ['Unnamed: 0', 'Unnamed: 0.1', 'ANOENC', 'NUMERO', 'CCAA', 'NUTS1', 'CAPROV', 'TAMAMU', 'DENSI', 'CLAVE', 'CLATEO', 'TAMANO', 'TIPHOGAR_1', 'TIPHOGAR_2', 'TIPHOGAR_3', 'TIPHOGAR_4', 'TIPHOGAR_5', 'TIPHOGAR_6', 'TIPHOGAR_7', 'TIPHOGAR_8', 'TIPHOGAR_9', 'TIPHOGAR_10', 'TIPHOGAR_11', 'SITUOCU_HOG', 'SITUACT_HOG', 'NORDENSP', 'SEXOSP', 'NACIONA_SP', 'SITURES_SP', 'NORDENCO_SP', 'NORDENPA_SP', 'NORDENMA_SP', 'ESTUDIOS_SP', 'ESTUDRED_SP', 'SITUACT_SP', 'SITURED_SP', 'PERCEPSP', 'SITSOCI', 'SITSOCI_RE', 'REGTEN', 'TIPOEDIF', 'ZONARES', 'TIPOCASA', 'ANNOCON', 'AGUACALI', 'CALEF', 'DISPOSI_OV', 'CAPROP', 'CAJENA', 'PENSIO', 'DESEM', 'OTRSUB', 'RENTAS', 'OTROIN', 'IMPUEXAC', 'INTERIN', 'IMPU_INTER']\n",
      "hogar_2007.csv ['NACTOR', 'NMIEMB', 'NMIEMSD', 'NMIEMHU', 'NMIEMIN', 'NMIEM1', 'NMIEM2', 'NMIEM3', 'NMIEM4', 'NMIEM5', 'NMIEM6', 'NMIEM7', 'NHIJOSD', 'UC1', 'UC2', 'PF2TEO', 'PF2RECO', 'NUMACTI', 'NUMOCUP', 'NUMESTU', 'EDADSP', 'PAISSP', 'ECIVILSP', 'IMPEXACP_SP', 'IMPUEXACP_SP', 'INTERINP_SP', 'IMPU_INTERPSP', 'TRABAJO', 'OCUPA', 'OCUPARED', 'ACTESTB', 'ACTESTB_RED', 'SITPROF', 'SECTOR', 'TIPOCONT', 'NHABIT', 'SUPERF', 'FUENAGUA', 'FUENCALE', 'NUMOVD', 'REGTENV1', 'MESESV1', 'DIASV1', 'AGUACV1', 'FUENACV1', 'CALEFV1', 'FUENCAV1', 'REGTENV2', 'MESESV2', 'DIASV2', 'AGUACV2', 'FUENACV2', 'CALEFV2', 'FUENCAV2', 'REGTENV3', 'MESESV3', 'DIASV3', 'AGUACV3', 'FUENACV3', 'CALEFV3', 'FUENCAV3', 'REGTENV4', 'MESESV4', 'DIASV4', 'AGUACV4', 'FUENACV4', 'CALEFV4', 'FUENCAV4', 'REGTENV5', 'MESESV5', 'DIASV5', 'AGUACV5', 'FUENACV5', 'CALEFV5', 'FUENCAV5', 'REGTENV6', 'MESESV6', 'DIASV6', 'AGUACV6', 'FUENACV6', 'CALEFV6', 'FUENCAV6', 'REGTENV7', 'MESESV7', 'DIASV7', 'AGUACV7', 'FUENACV7', 'CALEFV7', 'FUENCAV7', 'REGTENV8', 'MESESV8', 'DIASV8', 'AGUACV8', 'FUENACV8', 'CALEFV8', 'FUENCAV8', 'REGTENV9', 'MESESV9', 'DIASV9', 'AGUACV9', 'FUENACV9', 'CALEFV9', 'FUENCAV9', 'GASTOT', 'IMPUTGAS', 'GASTMON', 'GASTNOM1', 'GASTNOM2', 'GASTNOM3', 'GASTNOM4', 'FUENPRIN', 'FUENPRIN_RED', 'IMPEXAC', 'NUMPERI', 'COMIMH', 'COMISD', 'COMIHU', 'COMIINV', 'COMITOT']\n"
     ]
    },
    {
     "name": "stdout",
     "output_type": "stream",
     "text": [
      "hogar_2015.csv ['Unnamed: 0', 'Unnamed: 0.1', 'ANOENC', 'NUMERO', 'CCAA', 'NUTS1', 'CAPROV', 'TAMAMU', 'DENSI', 'CLAVE', 'CLATEO', 'TAMANO', 'TIPHOGAR1', 'TIPHOGAR2', 'TIPHOGAR3', 'TIPHOGAR4', 'TIPHOGAR5', 'TIPHOGAR6', 'TIPHOGAR7', 'TIPHOGAR8', 'TIPHOGAR9', 'TIPHOGAR10', 'TIPHOGAR11', 'SITUOCUHOG', 'SITUACTHOG', 'NORDENSP', 'SEXOSP', 'PAISNACODSP', 'NACIONASP', 'SITURESSP', 'ECIVILLEGALSP', 'NORDENCOSP', 'CONVIVENCIASP', 'NORDENPASP', 'PAISPADRESP', 'NORDENMASP', 'PAISMADRESP', 'ESTUDIOSSP', 'ESTUDREDSP', 'SITUACTSP', 'SITUREDSP', 'OCUSP', 'PERCEPSP', 'TRABAJO', 'SITSOCI', 'SITSOCIRE', 'REGTEN', 'TIPOEDIF', 'ZONARES', 'TIPOCASA', 'ANNOCON', 'AGUACALI', 'CALEF', 'DISPOSIOV', 'CAPROP', 'CAJENA', 'PENSIO', 'DESEM', 'OTRSUB', 'RENTAS', 'IMPUEXAC', 'INTERIN', 'IMPUINTER']\n",
      "hogar_2015.csv ['NACTOR', 'NMIEMB', 'NMIEMSD', 'NMIEMHU', 'NMIEMIN', 'NMIEM1', 'NMIEM2', 'NMIEM3', 'NMIEM4', 'NMIEM5', 'NMIEM6', 'NMIEM7', 'NMIEM8', 'NMIEM9', 'NMIEM10', 'NMIEM11', 'NMIEM12', 'NMIEM13', 'NUMACTI', 'NUMINACTI', 'NUMOCUP', 'NUMNOCUP', 'NUMESTU', 'NUMNOESTU', 'NNINOSD', 'NHIJOSD', 'UC1', 'UC2', 'PF2TEO', 'PF2RECO', 'EDADSP', 'PAISCODSP', 'UNIONSP', 'JORNADASP', 'IMPEXACPSP', 'IMPUEXACPSP', 'INTERINPSP', 'IMPUINTERPSP', 'OCUPA', 'OCUPARED', 'ACTESTB', 'ACTESTBRED', 'SITPROF', 'SECTOR', 'TIPOCONT', 'NHABIT', 'SUPERF', 'FUENAGUA', 'FUENCALE', 'NUMOVD', 'REGTENV1', 'MESESV1', 'DIASV1', 'AGUACV1', 'FUENACV1', 'CALEFV1', 'FUENCAV1', 'REGTENV2', 'MESESV2', 'DIASV2', 'AGUACV2', 'FUENACV2', 'CALEFV2', 'FUENCAV2', 'REGTENV3', 'MESESV3', 'DIASV3', 'AGUACV3', 'FUENACV3', 'CALEFV3', 'FUENCAV3', 'REGTENV4', 'MESESV4', 'DIASV4', 'AGUACV4', 'FUENACV4', 'CALEFV4', 'FUENCAV4', 'REGTENV5', 'MESESV5', 'DIASV5', 'AGUACV5', 'FUENACV5', 'CALEFV5', 'FUENCAV5', 'REGTENV6', 'MESESV6', 'DIASV6', 'AGUACV6', 'FUENACV6', 'CALEFV6', 'FUENCAV6', 'REGTENV7', 'MESESV7', 'DIASV7', 'AGUACV7', 'FUENACV7', 'CALEFV7', 'FUENCAV7', 'REGTENV8', 'MESESV8', 'DIASV8', 'AGUACV8', 'FUENACV8', 'CALEFV8', 'FUENCAV8', 'REGTENV9', 'MESESV9', 'DIASV9', 'AGUACV9', 'FUENACV9', 'CALEFV9', 'FUENCAV9', 'GASTOT', 'IMPUTGAS', 'GASTMON', 'GASTNOM1', 'GASTNOM2', 'GASTNOM3', 'GASTNOM4', 'OTROIN', 'FUENPRIN', 'FUENPRINRED', 'IMPEXAC', 'NUMPERI', 'COMIMH', 'COMISD', 'COMIHU', 'COMIINV', 'COMITOT']\n",
      "gastos_I_2007.csv ['Unnamed: 0', 'Unnamed: 0.1', 'ANOENC', 'NUMERO', 'CODIGO']\n",
      "gastos_I_2007.csv ['GASTO', 'PORCEN', 'CANTIDAD', 'GASTMON', 'GASTNOM1', 'GASTNOM2', 'GASTNOM3', 'GASTNOM4', 'GASTNOM5', 'NACTOR']\n",
      "hogar_2012.csv ['Unnamed: 0', 'Unnamed: 0.1', 'ANOENC', 'NUMERO', 'CCAA', 'NUTS1', 'CAPROV', 'TAMAMU', 'DENSI', 'CLAVE', 'CLATEO', 'TAMANO', 'TIPHOGAR1', 'TIPHOGAR2', 'TIPHOGAR3', 'TIPHOGAR4', 'TIPHOGAR5', 'TIPHOGAR6', 'TIPHOGAR7', 'TIPHOGAR8', 'TIPHOGAR9', 'TIPHOGAR10', 'TIPHOGAR11', 'SITUOCUHOG', 'SITUACTHOG', 'NORDENSP', 'SEXOSP', 'PAISNACODSP', 'NACIONASP', 'SITURESSP', 'ECIVILLEGALSP', 'NORDENCOSP', 'CONVIVENCIASP', 'NORDENPASP', 'PAISPADRESP', 'NORDENMASP', 'PAISMADRESP', 'ESTUDIOSSP', 'ESTUDREDSP', 'SITUACTSP', 'SITUREDSP', 'OCUSP', 'PERCEPSP', 'TRABAJO', 'SITSOCI', 'SITSOCIRE', 'REGTEN', 'TIPOEDIF', 'ZONARES', 'TIPOCASA', 'ANNOCON', 'AGUACALI', 'CALEF', 'DISPOSIOV', 'CAPROP', 'CAJENA', 'PENSIO', 'DESEM', 'OTRSUB', 'RENTAS', 'IMPUEXAC', 'INTERIN', 'IMPUINTER']\n",
      "hogar_2012.csv ['NACTOR', 'NMIEMB', 'NMIEMSD', 'NMIEMHU', 'NMIEMIN', 'NMIEM1', 'NMIEM2', 'NMIEM3', 'NMIEM4', 'NMIEM5', 'NMIEM6', 'NMIEM7', 'NMIEM8', 'NMIEM9', 'NMIEM10', 'NMIEM11', 'NMIEM12', 'NMIEM13', 'NUMACTI', 'NUMINACTI', 'NUMOCUP', 'NUMNOCUP', 'NUMESTU', 'NUMNOESTU', 'NNINOSD', 'NHIJOSD', 'UC1', 'UC2', 'PF2TEO', 'PF2RECO', 'EDADSP', 'PAISCODSP', 'UNIONSP', 'JORNADASP', 'IMPEXACPSP', 'IMPUEXACPSP', 'INTERINPSP', 'IMPUINTERPSP', 'OCUPA', 'OCUPARED', 'ACTESTB', 'ACTESTBRED', 'SITPROF', 'SECTOR', 'TIPOCONT', 'NHABIT', 'SUPERF', 'FUENAGUA', 'FUENCALE', 'NUMOVD', 'REGTENV1', 'MESESV1', 'DIASV1', 'AGUACV1', 'FUENACV1', 'CALEFV1', 'FUENCAV1', 'REGTENV2', 'MESESV2', 'DIASV2', 'AGUACV2', 'FUENACV2', 'CALEFV2', 'FUENCAV2', 'REGTENV3', 'MESESV3', 'DIASV3', 'AGUACV3', 'FUENACV3', 'CALEFV3', 'FUENCAV3', 'REGTENV4', 'MESESV4', 'DIASV4', 'AGUACV4', 'FUENACV4', 'CALEFV4', 'FUENCAV4', 'REGTENV5', 'MESESV5', 'DIASV5', 'AGUACV5', 'FUENACV5', 'CALEFV5', 'FUENCAV5', 'REGTENV6', 'MESESV6', 'DIASV6', 'AGUACV6', 'FUENACV6', 'CALEFV6', 'FUENCAV6', 'REGTENV7', 'MESESV7', 'DIASV7', 'AGUACV7', 'FUENACV7', 'CALEFV7', 'FUENCAV7', 'REGTENV8', 'MESESV8', 'DIASV8', 'AGUACV8', 'FUENACV8', 'CALEFV8', 'FUENCAV8', 'REGTENV9', 'MESESV9', 'DIASV9', 'AGUACV9', 'FUENACV9', 'CALEFV9', 'FUENCAV9', 'GASTOT', 'IMPUTGAS', 'GASTMON', 'GASTNOM1', 'GASTNOM2', 'GASTNOM3', 'GASTNOM4', 'OTROIN', 'FUENPRIN', 'FUENPRINRED', 'IMPEXAC', 'NUMPERI', 'COMIMH', 'COMISD', 'COMIHU', 'COMIINV', 'COMITOT']\n",
      "hogar_2011.csv ['Unnamed: 0', 'Unnamed: 0.1', 'ANOENC', 'NUMERO', 'CCAA', 'NUTS1', 'CAPROV', 'TAMAMU', 'DENSI', 'CLAVE', 'CLATEO', 'TAMANO', 'TIPHOGAR1', 'TIPHOGAR2', 'TIPHOGAR3', 'TIPHOGAR4', 'TIPHOGAR5', 'TIPHOGAR6', 'TIPHOGAR7', 'TIPHOGAR8', 'TIPHOGAR9', 'TIPHOGAR10', 'TIPHOGAR11', 'SITUOCUHOG', 'SITUACTHOG', 'NORDENSP', 'SEXOSP', 'PAISNACODSP', 'NACIONASP', 'SITURESSP', 'ECIVILLEGALSP', 'NORDENCOSP', 'CONVIVENCIASP', 'NORDENPASP', 'PAISPADRESP', 'NORDENMASP', 'PAISMADRESP', 'ESTUDIOSSP', 'ESTUDREDSP', 'SITUACTSP', 'SITUREDSP', 'OCUSP', 'PERCEPSP', 'TRABAJO', 'SITSOCI', 'SITSOCIRE', 'REGTEN', 'TIPOEDIF', 'ZONARES', 'TIPOCASA', 'ANNOCON', 'AGUACALI', 'CALEF', 'DISPOSIOV', 'CAPROP', 'CAJENA', 'PENSIO', 'DESEM', 'OTRSUB', 'RENTAS', 'IMPUEXAC', 'INTERIN', 'IMPUINTER']\n",
      "hogar_2011.csv ['NACTOR', 'NMIEMB', 'NMIEMSD', 'NMIEMHU', 'NMIEMIN', 'NMIEM1', 'NMIEM2', 'NMIEM3', 'NMIEM4', 'NMIEM5', 'NMIEM6', 'NMIEM7', 'NMIEM8', 'NMIEM9', 'NMIEM10', 'NMIEM11', 'NMIEM12', 'NMIEM13', 'NUMACTI', 'NUMINACTI', 'NUMOCUP', 'NUMNOCUP', 'NUMESTU', 'NUMNOESTU', 'NNINOSD', 'NHIJOSD', 'UC1', 'UC2', 'PF2TEO', 'PF2RECO', 'EDADSP', 'PAISCODSP', 'UNIONSP', 'JORNADASP', 'IMPEXACPSP', 'IMPUEXACPSP', 'INTERINPSP', 'IMPUINTERPSP', 'OCUPA', 'OCUPARED', 'ACTESTB', 'ACTESTBRED', 'SITPROF', 'SECTOR', 'TIPOCONT', 'NHABIT', 'SUPERF', 'FUENAGUA', 'FUENCALE', 'NUMOVD', 'REGTENV1', 'MESESV1', 'DIASV1', 'AGUACV1', 'FUENACV1', 'CALEFV1', 'FUENCAV1', 'REGTENV2', 'MESESV2', 'DIASV2', 'AGUACV2', 'FUENACV2', 'CALEFV2', 'FUENCAV2', 'REGTENV3', 'MESESV3', 'DIASV3', 'AGUACV3', 'FUENACV3', 'CALEFV3', 'FUENCAV3', 'REGTENV4', 'MESESV4', 'DIASV4', 'AGUACV4', 'FUENACV4', 'CALEFV4', 'FUENCAV4', 'REGTENV5', 'MESESV5', 'DIASV5', 'AGUACV5', 'FUENACV5', 'CALEFV5', 'FUENCAV5', 'REGTENV6', 'MESESV6', 'DIASV6', 'AGUACV6', 'FUENACV6', 'CALEFV6', 'FUENCAV6', 'REGTENV7', 'MESESV7', 'DIASV7', 'AGUACV7', 'FUENACV7', 'CALEFV7', 'FUENCAV7', 'REGTENV8', 'MESESV8', 'DIASV8', 'AGUACV8', 'FUENACV8', 'CALEFV8', 'FUENCAV8', 'REGTENV9', 'MESESV9', 'DIASV9', 'AGUACV9', 'FUENACV9', 'CALEFV9', 'FUENCAV9', 'GASTOT', 'IMPUTGAS', 'GASTMON', 'GASTNOM1', 'GASTNOM2', 'GASTNOM3', 'GASTNOM4', 'OTROIN', 'FUENPRIN', 'FUENPRINRED', 'IMPEXAC', 'NUMPERI', 'COMIMH', 'COMISD', 'COMIHU', 'COMIINV', 'COMITOT']\n",
      "hogar_2014.csv ['Unnamed: 0', 'Unnamed: 0.1', 'ANOENC', 'NUMERO', 'CCAA', 'NUTS1', 'CAPROV', 'TAMAMU', 'DENSI', 'CLAVE', 'CLATEO', 'TAMANO', 'TIPHOGAR1', 'TIPHOGAR2', 'TIPHOGAR3', 'TIPHOGAR4', 'TIPHOGAR5', 'TIPHOGAR6', 'TIPHOGAR7', 'TIPHOGAR8', 'TIPHOGAR9', 'TIPHOGAR10', 'TIPHOGAR11', 'SITUOCUHOG', 'SITUACTHOG', 'NORDENSP', 'SEXOSP', 'PAISNACODSP', 'NACIONASP', 'SITURESSP', 'ECIVILLEGALSP', 'NORDENCOSP', 'CONVIVENCIASP', 'NORDENPASP', 'PAISPADRESP', 'NORDENMASP', 'PAISMADRESP', 'ESTUDIOSSP', 'ESTUDREDSP', 'SITUACTSP', 'SITUREDSP', 'OCUSP', 'PERCEPSP', 'TRABAJO', 'SITSOCI', 'SITSOCIRE', 'REGTEN', 'TIPOEDIF', 'ZONARES', 'TIPOCASA', 'ANNOCON', 'AGUACALI', 'CALEF', 'DISPOSIOV', 'CAPROP', 'CAJENA', 'PENSIO', 'DESEM', 'OTRSUB', 'RENTAS', 'IMPUEXAC', 'INTERIN', 'IMPUINTER']\n",
      "hogar_2014.csv ['NACTOR', 'NMIEMB', 'NMIEMSD', 'NMIEMHU', 'NMIEMIN', 'NMIEM1', 'NMIEM2', 'NMIEM3', 'NMIEM4', 'NMIEM5', 'NMIEM6', 'NMIEM7', 'NMIEM8', 'NMIEM9', 'NMIEM10', 'NMIEM11', 'NMIEM12', 'NMIEM13', 'NUMACTI', 'NUMINACTI', 'NUMOCUP', 'NUMNOCUP', 'NUMESTU', 'NUMNOESTU', 'NNINOSD', 'NHIJOSD', 'UC1', 'UC2', 'PF2TEO', 'PF2RECO', 'EDADSP', 'PAISCODSP', 'UNIONSP', 'JORNADASP', 'IMPEXACPSP', 'IMPUEXACPSP', 'INTERINPSP', 'IMPUINTERPSP', 'OCUPA', 'OCUPARED', 'ACTESTB', 'ACTESTBRED', 'SITPROF', 'SECTOR', 'TIPOCONT', 'NHABIT', 'SUPERF', 'FUENAGUA', 'FUENCALE', 'NUMOVD', 'REGTENV1', 'MESESV1', 'DIASV1', 'AGUACV1', 'FUENACV1', 'CALEFV1', 'FUENCAV1', 'REGTENV2', 'MESESV2', 'DIASV2', 'AGUACV2', 'FUENACV2', 'CALEFV2', 'FUENCAV2', 'REGTENV3', 'MESESV3', 'DIASV3', 'AGUACV3', 'FUENACV3', 'CALEFV3', 'FUENCAV3', 'REGTENV4', 'MESESV4', 'DIASV4', 'AGUACV4', 'FUENACV4', 'CALEFV4', 'FUENCAV4', 'REGTENV5', 'MESESV5', 'DIASV5', 'AGUACV5', 'FUENACV5', 'CALEFV5', 'FUENCAV5', 'REGTENV6', 'MESESV6', 'DIASV6', 'AGUACV6', 'FUENACV6', 'CALEFV6', 'FUENCAV6', 'REGTENV7', 'MESESV7', 'DIASV7', 'AGUACV7', 'FUENACV7', 'CALEFV7', 'FUENCAV7', 'REGTENV8', 'MESESV8', 'DIASV8', 'AGUACV8', 'FUENACV8', 'CALEFV8', 'FUENCAV8', 'REGTENV9', 'MESESV9', 'DIASV9', 'AGUACV9', 'FUENACV9', 'CALEFV9', 'FUENCAV9', 'GASTOT', 'IMPUTGAS', 'GASTMON', 'GASTNOM1', 'GASTNOM2', 'GASTNOM3', 'GASTNOM4', 'OTROIN', 'FUENPRIN', 'FUENPRINRED', 'IMPEXAC', 'NUMPERI', 'COMIMH', 'COMISD', 'COMIHU', 'COMIINV', 'COMITOT']\n"
     ]
    },
    {
     "name": "stdout",
     "output_type": "stream",
     "text": [
      "gastos_I_2013.csv ['Unnamed: 0', 'Unnamed: 0.1', 'ANOENC', 'NUMERO', 'CODIGO']\n",
      "gastos_I_2013.csv ['GASTO', 'PORCEN', 'CANTIDAD', 'GASTMON', 'GASTNOM1', 'GASTNOM2', 'GASTNOM3', 'GASTNOM4', 'GASTNOM5', 'NACTOR']\n",
      "gastos_I_2011.csv ['Unnamed: 0', 'Unnamed: 0.1', 'ANOENC', 'NUMERO', 'CODIGO']\n",
      "gastos_I_2011.csv ['GASTO', 'PORCEN', 'CANTIDAD', 'GASTMON', 'GASTNOM1', 'GASTNOM2', 'GASTNOM3', 'GASTNOM4', 'GASTNOM5', 'NACTOR']\n",
      "hogar_2013.csv ['Unnamed: 0', 'Unnamed: 0.1', 'ANOENC', 'NUMERO', 'CCAA', 'NUTS1', 'CAPROV', 'TAMAMU', 'DENSI', 'CLAVE', 'CLATEO', 'TAMANO', 'TIPHOGAR1', 'TIPHOGAR2', 'TIPHOGAR3', 'TIPHOGAR4', 'TIPHOGAR5', 'TIPHOGAR6', 'TIPHOGAR7', 'TIPHOGAR8', 'TIPHOGAR9', 'TIPHOGAR10', 'TIPHOGAR11', 'SITUOCUHOG', 'SITUACTHOG', 'NORDENSP', 'SEXOSP', 'PAISNACODSP', 'NACIONASP', 'SITURESSP', 'ECIVILLEGALSP', 'NORDENCOSP', 'CONVIVENCIASP', 'NORDENPASP', 'PAISPADRESP', 'NORDENMASP', 'PAISMADRESP', 'ESTUDIOSSP', 'ESTUDREDSP', 'SITUACTSP', 'SITUREDSP', 'OCUSP', 'PERCEPSP', 'TRABAJO', 'SITSOCI', 'SITSOCIRE', 'REGTEN', 'TIPOEDIF', 'ZONARES', 'TIPOCASA', 'ANNOCON', 'AGUACALI', 'CALEF', 'DISPOSIOV', 'CAPROP', 'CAJENA', 'PENSIO', 'DESEM', 'OTRSUB', 'RENTAS', 'IMPUEXAC', 'INTERIN', 'IMPUINTER']\n",
      "hogar_2013.csv ['NACTOR', 'NMIEMB', 'NMIEMSD', 'NMIEMHU', 'NMIEMIN', 'NMIEM1', 'NMIEM2', 'NMIEM3', 'NMIEM4', 'NMIEM5', 'NMIEM6', 'NMIEM7', 'NMIEM8', 'NMIEM9', 'NMIEM10', 'NMIEM11', 'NMIEM12', 'NMIEM13', 'NUMACTI', 'NUMINACTI', 'NUMOCUP', 'NUMNOCUP', 'NUMESTU', 'NUMNOESTU', 'NNINOSD', 'NHIJOSD', 'UC1', 'UC2', 'PF2TEO', 'PF2RECO', 'EDADSP', 'PAISCODSP', 'UNIONSP', 'JORNADASP', 'IMPEXACPSP', 'IMPUEXACPSP', 'INTERINPSP', 'IMPUINTERPSP', 'OCUPA', 'OCUPARED', 'ACTESTB', 'ACTESTBRED', 'SITPROF', 'SECTOR', 'TIPOCONT', 'NHABIT', 'SUPERF', 'FUENAGUA', 'FUENCALE', 'NUMOVD', 'REGTENV1', 'MESESV1', 'DIASV1', 'AGUACV1', 'FUENACV1', 'CALEFV1', 'FUENCAV1', 'REGTENV2', 'MESESV2', 'DIASV2', 'AGUACV2', 'FUENACV2', 'CALEFV2', 'FUENCAV2', 'REGTENV3', 'MESESV3', 'DIASV3', 'AGUACV3', 'FUENACV3', 'CALEFV3', 'FUENCAV3', 'REGTENV4', 'MESESV4', 'DIASV4', 'AGUACV4', 'FUENACV4', 'CALEFV4', 'FUENCAV4', 'REGTENV5', 'MESESV5', 'DIASV5', 'AGUACV5', 'FUENACV5', 'CALEFV5', 'FUENCAV5', 'REGTENV6', 'MESESV6', 'DIASV6', 'AGUACV6', 'FUENACV6', 'CALEFV6', 'FUENCAV6', 'REGTENV7', 'MESESV7', 'DIASV7', 'AGUACV7', 'FUENACV7', 'CALEFV7', 'FUENCAV7', 'REGTENV8', 'MESESV8', 'DIASV8', 'AGUACV8', 'FUENACV8', 'CALEFV8', 'FUENCAV8', 'REGTENV9', 'MESESV9', 'DIASV9', 'AGUACV9', 'FUENACV9', 'CALEFV9', 'FUENCAV9', 'GASTOT', 'IMPUTGAS', 'GASTMON', 'GASTNOM1', 'GASTNOM2', 'GASTNOM3', 'GASTNOM4', 'OTROIN', 'FUENPRIN', 'FUENPRINRED', 'IMPEXAC', 'NUMPERI', 'COMIMH', 'COMISD', 'COMIHU', 'COMIINV', 'COMITOT']\n",
      "gastos_I_2015.csv ['Unnamed: 0', 'Unnamed: 0.1', 'ANOENC', 'NUMERO', 'CODIGO']\n",
      "gastos_I_2015.csv ['GASTO', 'PORCEN', 'CANTIDAD', 'GASTMON', 'GASTNOM1', 'GASTNOM2', 'GASTNOM3', 'GASTNOM4', 'GASTNOM5', 'NACTOR']\n"
     ]
    }
   ],
   "source": [
    "import os\n",
    "import pandas as pd\n",
    "base_dir = '/home/fserrey/gitrep/ACA_project/aca-water-affordability/notebooks/dec_notebooks'\n",
    "\n",
    "try:\n",
    "    for file in os.listdir(base_dir):\n",
    "        file_path = f'{base_dir}/{file}'\n",
    "        if '.csv' in file_path:\n",
    "            df = pd.read_csv(file_path)\n",
    "            type_dct = {str(k): list(v) for k, v in df.groupby(df.dtypes, axis=1)}\n",
    "            print(file, type_dct['int64'])\n",
    "            print(file, type_dct['float64'])\n",
    "except MemoryError as error:\n",
    "    print(error)"
   ]
  },
  {
   "cell_type": "code",
   "execution_count": 24,
   "metadata": {
    "scrolled": true
   },
   "outputs": [
    {
     "name": "stdout",
     "output_type": "stream",
     "text": [
      "2006 ['GASTO', 'PORCEN', 'CANTIDAD', 'GASTMON', 'GASTNOM1', 'GASTNOM2', 'GASTNOM3', 'GASTNOM4', 'GASTNOM5', 'NACTOR']\n",
      "2006 ['Unnamed: 0', 'Unnamed: 0.1', 'ANOENC', 'NUMERO', 'CODIGO']\n",
      "---------------------\n",
      "---------------------\n",
      "2016 ['GASTO', 'PORCENDES', 'PORCENIMP', 'CANTIDAD']\n",
      "2016 ['Unnamed: 0', 'Unnamed: 0.1', 'ANOENC', 'NUMERO', 'CODIGO']\n"
     ]
    }
   ],
   "source": [
    "file = 'gastos_I_2006.csv'\n",
    "file_path = '/home/fserrey/gitrep/ACA_project/aca-water-affordability/notebooks/dec_notebooks/gastos/' + file\n",
    "df = pd.read_csv(file_path)\n",
    "type_dct = {str(k): list(v) for k, v in df.groupby(df.dtypes, axis=1)}\n",
    "print('2006', type_dct['float64'])\n",
    "print('2006', type_dct['int64'])\n",
    "\n",
    "print('---------------------')\n",
    "print('---------------------')\n",
    "\n",
    "file = 'gastos_I_2016.csv'\n",
    "file_path = '/home/fserrey/gitrep/ACA_project/aca-water-affordability/notebooks/dec_notebooks/gastos/' + file\n",
    "df = pd.read_csv(file_path)\n",
    "type_dct = {str(k): list(v) for k, v in df.groupby(df.dtypes, axis=1)}\n",
    "print('2016', type_dct['float64'])\n",
    "print('2016', type_dct['int64'])"
   ]
  },
  {
   "cell_type": "code",
   "execution_count": 41,
   "metadata": {},
   "outputs": [
    {
     "data": {
      "text/html": [
       "<div>\n",
       "<style scoped>\n",
       "    .dataframe tbody tr th:only-of-type {\n",
       "        vertical-align: middle;\n",
       "    }\n",
       "\n",
       "    .dataframe tbody tr th {\n",
       "        vertical-align: top;\n",
       "    }\n",
       "\n",
       "    .dataframe thead th {\n",
       "        text-align: right;\n",
       "    }\n",
       "</style>\n",
       "<table border=\"1\" class=\"dataframe\">\n",
       "  <thead>\n",
       "    <tr style=\"text-align: right;\">\n",
       "      <th></th>\n",
       "      <th>ANOENC</th>\n",
       "      <th>CANTIDAD</th>\n",
       "      <th>CODIGO</th>\n",
       "      <th>GASTMON</th>\n",
       "      <th>GASTNOM1</th>\n",
       "      <th>GASTNOM2</th>\n",
       "      <th>GASTNOM3</th>\n",
       "      <th>GASTNOM4</th>\n",
       "      <th>GASTNOM5</th>\n",
       "      <th>GASTO</th>\n",
       "      <th>NACTOR</th>\n",
       "      <th>NUMERO</th>\n",
       "      <th>PORCEN</th>\n",
       "      <th>PORCENDES</th>\n",
       "      <th>PORCENIMP</th>\n",
       "      <th>Unnamed: 0</th>\n",
       "      <th>Unnamed: 0.1</th>\n",
       "    </tr>\n",
       "  </thead>\n",
       "  <tbody>\n",
       "    <tr>\n",
       "      <th>0</th>\n",
       "      <td>2015.0</td>\n",
       "      <td>340415.96</td>\n",
       "      <td>1112.0</td>\n",
       "      <td>987740.95</td>\n",
       "      <td>-1.797693e+306</td>\n",
       "      <td>-1.797693e+306</td>\n",
       "      <td>-1.797693e+306</td>\n",
       "      <td>-1.797693e+306</td>\n",
       "      <td>-1.797693e+306</td>\n",
       "      <td>987740.95</td>\n",
       "      <td>919.510316</td>\n",
       "      <td>1.0</td>\n",
       "      <td>0.0</td>\n",
       "      <td>NaN</td>\n",
       "      <td>NaN</td>\n",
       "      <td>0.0</td>\n",
       "      <td>0.0</td>\n",
       "    </tr>\n",
       "    <tr>\n",
       "      <th>1</th>\n",
       "      <td>2015.0</td>\n",
       "      <td>81508.04</td>\n",
       "      <td>1113.0</td>\n",
       "      <td>394834.55</td>\n",
       "      <td>-1.797693e+306</td>\n",
       "      <td>-1.797693e+306</td>\n",
       "      <td>-1.797693e+306</td>\n",
       "      <td>-1.797693e+306</td>\n",
       "      <td>-1.797693e+306</td>\n",
       "      <td>394834.55</td>\n",
       "      <td>919.510316</td>\n",
       "      <td>1.0</td>\n",
       "      <td>0.0</td>\n",
       "      <td>NaN</td>\n",
       "      <td>NaN</td>\n",
       "      <td>1.0</td>\n",
       "      <td>1.0</td>\n",
       "    </tr>\n",
       "  </tbody>\n",
       "</table>\n",
       "</div>"
      ],
      "text/plain": [
       "   ANOENC   CANTIDAD  CODIGO    GASTMON       GASTNOM1       GASTNOM2  \\\n",
       "0  2015.0  340415.96  1112.0  987740.95 -1.797693e+306 -1.797693e+306   \n",
       "1  2015.0   81508.04  1113.0  394834.55 -1.797693e+306 -1.797693e+306   \n",
       "\n",
       "        GASTNOM3       GASTNOM4       GASTNOM5      GASTO      NACTOR  NUMERO  \\\n",
       "0 -1.797693e+306 -1.797693e+306 -1.797693e+306  987740.95  919.510316     1.0   \n",
       "1 -1.797693e+306 -1.797693e+306 -1.797693e+306  394834.55  919.510316     1.0   \n",
       "\n",
       "   PORCEN PORCENDES PORCENIMP  Unnamed: 0  Unnamed: 0.1  \n",
       "0     0.0       NaN       NaN         0.0           0.0  \n",
       "1     0.0       NaN       NaN         1.0           1.0  "
      ]
     },
     "metadata": {},
     "output_type": "display_data"
    }
   ],
   "source": [
    "file = 'gastos_I_2015.csv'\n",
    "file_path = '/home/fserrey/gitrep/ACA_project/aca-water-affordability/notebooks/dec_notebooks/gastos/' + file\n",
    "df = pd.read_csv(file_path)\n",
    "\n",
    "columnas = ['PORCENDES', 'PORCENIMP']\n",
    "\n",
    "df_aux = pd.concat([df,pd.DataFrame(columns=columnas)], sort=True)\n",
    "display(df_aux.head(2))\n",
    "df_aux.to_csv(file)"
   ]
  },
  {
   "cell_type": "code",
   "execution_count": 31,
   "metadata": {},
   "outputs": [
    {
     "name": "stderr",
     "output_type": "stream",
     "text": [
      "/home/fserrey/miniconda3/envs/aca/lib/python3.7/site-packages/ipykernel_launcher.py:9: FutureWarning: Sorting because non-concatenation axis is not aligned. A future version\n",
      "of pandas will change to not sort by default.\n",
      "\n",
      "To accept the future behavior, pass 'sort=False'.\n",
      "\n",
      "To retain the current behavior and silence the warning, pass 'sort=True'.\n",
      "\n",
      "  if __name__ == '__main__':\n"
     ]
    }
   ],
   "source": [
    "# NECESITAMOS AÑADIR COLUMNAS VACIAS DEL FORMATO PREVIO PARA EVITAR ERRORES\n",
    "\n",
    "file = 'gastos_I_2018.csv'\n",
    "file_path = '/home/fserrey/gitrep/ACA_project/aca-water-affordability/notebooks/dec_notebooks/gastos/' + file\n",
    "df = pd.read_csv(file_path)\n",
    "\n",
    "columnas = ['PORCEN', 'GASTMON', 'GASTNOM1', 'GASTNOM2', 'GASTNOM3', 'GASTNOM4', 'GASTNOM5', 'NACTOR']\n",
    "\n",
    "df_aux = pd.concat([df,pd.DataFrame(columns=columnas)])\n",
    "df_aux.to_csv(file)"
   ]
  },
  {
   "cell_type": "code",
   "execution_count": 26,
   "metadata": {},
   "outputs": [
    {
     "name": "stdout",
     "output_type": "stream",
     "text": [
      "---------------------\n",
      "---------------------\n"
     ]
    }
   ],
   "source": [
    "file = 'hogar_2006.csv'\n",
    "file_path = '/home/fserrey/gitrep/ACA_project/aca-water-affordability/notebooks/dec_notebooks/hogar/' + file\n",
    "df = pd.read_csv(file_path)\n",
    "type_dct = {str(k): list(v) for k, v in df.groupby(df.dtypes, axis=1)}\n",
    "float_hogar_06 =  type_dct['float64']\n",
    "int_hogar_06 = type_dct['int64']\n",
    "\n",
    "print('---------------------')\n",
    "print('---------------------')\n",
    "\n",
    "file = 'hogar_2016.csv'\n",
    "file_path = '/home/fserrey/gitrep/ACA_project/aca-water-affordability/notebooks/dec_notebooks/hogar/' + file\n",
    "df = pd.read_csv(file_path)\n",
    "type_dct = {str(k): list(v) for k, v in df.groupby(df.dtypes, axis=1)}\n",
    "float_hogar_16 = type_dct['float64']\n",
    "int_hogar_16 = type_dct['int64']"
   ]
  },
  {
   "cell_type": "code",
   "execution_count": 70,
   "metadata": {},
   "outputs": [],
   "source": [
    "import os\n",
    "base_dir = '/home/fserrey/gitrep/ACA_project/aca-water-affordability/notebooks/dec_notebooks/gastos/'\n",
    "\n",
    "columnas = ['ANOENC', 'CANTIDAD', 'CODIGO', 'GASTMON', 'GASTNOM1',\n",
    "       'GASTNOM2', 'GASTNOM3', 'GASTNOM4', 'GASTNOM5', 'GASTO', 'NACTOR',\n",
    "       'NUMERO', 'PORCEN', 'PORCENDES', 'PORCENIMP']\n",
    "for file in os.listdir(base_dir):\n",
    "    file_path = f'{base_dir}/{file}'\n",
    "    if 'gastos_' in file:\n",
    "        df = pd.read_csv(file_path)\n",
    "        df = df[[x for x in df.columns if x in columnas]]\n",
    "        df[df < 0] = 0\n",
    "        df.to_csv(base_dir + file, index=False)\n",
    "        #for cols in df.columns.tolist()[1:]:\n",
    "        #    df = df.ix[data[cols] > 0]          "
   ]
  },
  {
   "cell_type": "code",
   "execution_count": 23,
   "metadata": {},
   "outputs": [
    {
     "name": "stdout",
     "output_type": "stream",
     "text": [
      "1769.47\n",
      "7\n",
      "146823162.66\n",
      "146823162.66\n",
      "Index(['ANOENC', 'CANTIDAD', 'CODIGO', 'GASTMON', 'GASTNOM1', 'GASTNOM2',\n",
      "       'GASTNOM3', 'GASTNOM4', 'GASTNOM5', 'GASTO', 'NACTOR', 'NUMERO',\n",
      "       'PORCEN', 'PORCENDES', 'PORCENIMP'],\n",
      "      dtype='object')\n"
     ]
    },
    {
     "ename": "TypeError",
     "evalue": "'RangeIndex' object is not callable",
     "output_type": "error",
     "traceback": [
      "\u001b[0;31m---------------------------------------------------------------------------\u001b[0m",
      "\u001b[0;31mTypeError\u001b[0m                                 Traceback (most recent call last)",
      "\u001b[0;32m<ipython-input-23-d2ecae4b1a25>\u001b[0m in \u001b[0;36m<module>\u001b[0;34m\u001b[0m\n\u001b[1;32m     12\u001b[0m \u001b[0mprint\u001b[0m\u001b[0;34m(\u001b[0m\u001b[0mmax_value\u001b[0m\u001b[0;34m)\u001b[0m\u001b[0;34m\u001b[0m\u001b[0;34m\u001b[0m\u001b[0m\n\u001b[1;32m     13\u001b[0m \u001b[0mprint\u001b[0m\u001b[0;34m(\u001b[0m\u001b[0mdf\u001b[0m\u001b[0;34m.\u001b[0m\u001b[0mcolumns\u001b[0m\u001b[0;34m)\u001b[0m\u001b[0;34m\u001b[0m\u001b[0;34m\u001b[0m\u001b[0m\n\u001b[0;32m---> 14\u001b[0;31m \u001b[0mmax_index\u001b[0m \u001b[0;34m=\u001b[0m \u001b[0mlista\u001b[0m\u001b[0;34m.\u001b[0m\u001b[0mindex\u001b[0m\u001b[0;34m(\u001b[0m\u001b[0mmax_value\u001b[0m\u001b[0;34m)\u001b[0m\u001b[0;34m\u001b[0m\u001b[0;34m\u001b[0m\u001b[0m\n\u001b[0m\u001b[1;32m     15\u001b[0m \u001b[0mprint\u001b[0m\u001b[0;34m(\u001b[0m\u001b[0mmax_index\u001b[0m\u001b[0;34m)\u001b[0m\u001b[0;34m\u001b[0m\u001b[0;34m\u001b[0m\u001b[0m\n",
      "\u001b[0;31mTypeError\u001b[0m: 'RangeIndex' object is not callable"
     ]
    }
   ],
   "source": [
    "import pandas as pd\n",
    "\n",
    "file = 'gastos_I_2018.csv'\n",
    "file_path = '/home/fserrey/gitrep/ACA_project/aca-water-affordability/notebooks/dec_notebooks/gastos/' + file\n",
    "\n",
    "df = pd.read_csv(file_path)\n",
    "lista = df['GASTO']\n",
    "print(lista[19])\n",
    "print(len(str(lista[19])))\n",
    "max_value = max(lista)\n",
    "print(max_value)\n",
    "print(df.columns)\n",
    "max_index = lista.index(max_value)\n",
    "print(max_index)"
   ]
  },
  {
   "cell_type": "code",
   "execution_count": 25,
   "metadata": {},
   "outputs": [
    {
     "name": "stdout",
     "output_type": "stream",
     "text": [
      "Database version: 5.7.28-0ubuntu0.18.04.4\n",
      "(1050, \"Table 'gastos_epf' already exists\")\n",
      "finished\n"
     ]
    }
   ],
   "source": [
    "import pymysql\n",
    "\n",
    "query = \"\"\"\n",
    "        CREATE TABLE gastos_epf\n",
    "        (\n",
    "            id SERIAL,\n",
    "            ANOENC INTEGER NOT NULL,\n",
    "            CANTIDAD VARCHAR(200), \n",
    "            CODIGO INTEGER, \n",
    "            GASTMON VARCHAR(200),\n",
    "            GASTNOM1 VARCHAR(200),\n",
    "            GASTNOM2 VARCHAR(200), \n",
    "            GASTNOM3 VARCHAR(200), \n",
    "            GASTNOM4 VARCHAR(200), \n",
    "            GASTNOM5 VARCHAR(200), \n",
    "            GASTO VARCHAR(200), \n",
    "            NACTOR VARCHAR(200),\n",
    "            NUMERO INTEGER, \n",
    "            PORCEN VARCHAR(200), \n",
    "            PORCENDES VARCHAR(200), \n",
    "            PORCENIMP VARCHAR(200),\n",
    "            CONSTRAINT indicators_pkey PRIMARY KEY (id)\n",
    "        ) \"\"\"\n",
    "\n",
    "hostname = 'localhost'\n",
    "username = 'root'\n",
    "password = '$Mithwest44'\n",
    "database = 'aca_epf'\n",
    "\n",
    "\n",
    "con = pymysql.connect('localhost', 'root', \n",
    "    '$Mithwest44', 'aca_epf')\n",
    "\n",
    "with con:\n",
    "    \n",
    "    cur = con.cursor()\n",
    "    cur.execute(\"SELECT VERSION()\")\n",
    "\n",
    "    version = cur.fetchone()\n",
    "    \n",
    "    print(\"Database version: {}\".format(version[0]))\n",
    "\n",
    "\n",
    "conn = None\n",
    "try:\n",
    "    # We connect to the PostgreSQL server\n",
    "    conn = pymysql.connect(hostname, username, password, database)\n",
    "    cur = conn.cursor()\n",
    "    # We create the table\n",
    "    cur.execute(query)\n",
    "    # We close the connection\n",
    "    cur.close()\n",
    "    # Finally, we commit the changes\n",
    "    conn.commit()\n",
    "except (Exception, pymysql.DatabaseError) as error:\n",
    "    print(error)\n",
    "finally:\n",
    "    if conn is not None:\n",
    "        conn.close()\n",
    "print('finished')\n",
    "#VARCHAR(21845)"
   ]
  },
  {
   "cell_type": "code",
   "execution_count": 26,
   "metadata": {
    "scrolled": true
   },
   "outputs": [
    {
     "name": "stdout",
     "output_type": "stream",
     "text": [
      "Tabla subida correctamente\n"
     ]
    }
   ],
   "source": [
    "for date in range(2006,2019):\n",
    "    if date <2019:\n",
    "        file = f'gastos_I_{date}.csv'\n",
    "        file_path = '/home/fserrey/gitrep/ACA_project/aca-water-affordability/notebooks/dec_notebooks/gastos/' + file\n",
    "\n",
    "        query = f\"\"\"\n",
    "                LOAD DATA LOCAL INFILE '{file_path}'\n",
    "                INTO TABLE gastos_epf \n",
    "                FIELDS TERMINATED BY ',' \n",
    "                LINES TERMINATED BY '\\n' \n",
    "                IGNORE 1 ROWS \n",
    "                (ANOENC, CANTIDAD, CODIGO, GASTMON, GASTNOM1, GASTNOM2, GASTNOM3, GASTNOM4, GASTNOM5, GASTO,NACTOR,NUMERO,PORCEN,PORCENDES,PORCENIMP);\n",
    "                \"\"\"\n",
    "        conn = None\n",
    "        try:\n",
    "            conn = pymysql.connect(hostname, username, password, database, local_infile = 1)\n",
    "            cur = conn.cursor()\n",
    "            cur.execute(query)\n",
    "            cur.close()\n",
    "            conn.commit()\n",
    "        except (Exception, pymysql.DatabaseError) as error:\n",
    "            print(error)\n",
    "        finally:\n",
    "            if conn is not None:\n",
    "                conn.close()\n",
    "print('Tabla subida correctamente')"
   ]
  },
  {
   "cell_type": "code",
   "execution_count": 42,
   "metadata": {},
   "outputs": [
    {
     "ename": "TypeError",
     "evalue": "not all arguments converted during string formatting",
     "output_type": "error",
     "traceback": [
      "\u001b[0;31m---------------------------------------------------------------------------\u001b[0m",
      "\u001b[0;31mTypeError\u001b[0m                                 Traceback (most recent call last)",
      "\u001b[0;32m<ipython-input-42-96c215bc7e05>\u001b[0m in \u001b[0;36m<module>\u001b[0;34m\u001b[0m\n\u001b[1;32m     12\u001b[0m             cursor.execute(\"\"\"INSERT INTO \n\u001b[1;32m     13\u001b[0m             \u001b[0maca_epf\u001b[0m\u001b[0;34m.\u001b[0m\u001b[0mgastos_epf\u001b[0m\u001b[0;34m(\u001b[0m\u001b[0mANOENC\u001b[0m\u001b[0;34m,\u001b[0m \u001b[0mCANTIDAD\u001b[0m\u001b[0;34m,\u001b[0m \u001b[0mCODIGO\u001b[0m\u001b[0;34m,\u001b[0m \u001b[0mGASTMON\u001b[0m\u001b[0;34m,\u001b[0m \u001b[0mGASTNOM1\u001b[0m\u001b[0;34m,\u001b[0m \u001b[0mGASTNOM2\u001b[0m\u001b[0;34m,\u001b[0m \u001b[0mGASTNOM3\u001b[0m\u001b[0;34m,\u001b[0m \u001b[0mGASTNOM4\u001b[0m\u001b[0;34m,\u001b[0m \u001b[0mGASTNOM5\u001b[0m\u001b[0;34m,\u001b[0m\u001b[0mGASTO\u001b[0m\u001b[0;34m,\u001b[0m\u001b[0mNACTOR\u001b[0m\u001b[0;34m,\u001b[0m\u001b[0mNUMERO\u001b[0m\u001b[0;34m,\u001b[0m\u001b[0mPORCEN\u001b[0m\u001b[0;34m,\u001b[0m\u001b[0mPORCENDES\u001b[0m\u001b[0;34m,\u001b[0m\u001b[0mPORCENIMP\u001b[0m\u001b[0;34m)\u001b[0m\u001b[0;34m\u001b[0m\u001b[0;34m\u001b[0m\u001b[0m\n\u001b[0;32m---> 14\u001b[0;31m             VALUES(%%s, %%s,%%s,%%s,%%s,%%s,%%s,%%s,%%s,%%s,%%s,%%s,%%s,%%s,%%s)\"\"\",(row))\n\u001b[0m\u001b[1;32m     15\u001b[0m \u001b[0;34m\u001b[0m\u001b[0m\n\u001b[1;32m     16\u001b[0m         \u001b[0mdb\u001b[0m\u001b[0;34m.\u001b[0m\u001b[0mcommit\u001b[0m\u001b[0;34m(\u001b[0m\u001b[0;34m)\u001b[0m\u001b[0;34m\u001b[0m\u001b[0;34m\u001b[0m\u001b[0m\n",
      "\u001b[0;32m~/miniconda3/envs/aca/lib/python3.7/site-packages/pymysql/cursors.py\u001b[0m in \u001b[0;36mexecute\u001b[0;34m(self, query, args)\u001b[0m\n\u001b[1;32m    166\u001b[0m             \u001b[0;32mpass\u001b[0m\u001b[0;34m\u001b[0m\u001b[0;34m\u001b[0m\u001b[0m\n\u001b[1;32m    167\u001b[0m \u001b[0;34m\u001b[0m\u001b[0m\n\u001b[0;32m--> 168\u001b[0;31m         \u001b[0mquery\u001b[0m \u001b[0;34m=\u001b[0m \u001b[0mself\u001b[0m\u001b[0;34m.\u001b[0m\u001b[0mmogrify\u001b[0m\u001b[0;34m(\u001b[0m\u001b[0mquery\u001b[0m\u001b[0;34m,\u001b[0m \u001b[0margs\u001b[0m\u001b[0;34m)\u001b[0m\u001b[0;34m\u001b[0m\u001b[0;34m\u001b[0m\u001b[0m\n\u001b[0m\u001b[1;32m    169\u001b[0m \u001b[0;34m\u001b[0m\u001b[0m\n\u001b[1;32m    170\u001b[0m         \u001b[0mresult\u001b[0m \u001b[0;34m=\u001b[0m \u001b[0mself\u001b[0m\u001b[0;34m.\u001b[0m\u001b[0m_query\u001b[0m\u001b[0;34m(\u001b[0m\u001b[0mquery\u001b[0m\u001b[0;34m)\u001b[0m\u001b[0;34m\u001b[0m\u001b[0;34m\u001b[0m\u001b[0m\n",
      "\u001b[0;32m~/miniconda3/envs/aca/lib/python3.7/site-packages/pymysql/cursors.py\u001b[0m in \u001b[0;36mmogrify\u001b[0;34m(self, query, args)\u001b[0m\n\u001b[1;32m    145\u001b[0m \u001b[0;34m\u001b[0m\u001b[0m\n\u001b[1;32m    146\u001b[0m         \u001b[0;32mif\u001b[0m \u001b[0margs\u001b[0m \u001b[0;32mis\u001b[0m \u001b[0;32mnot\u001b[0m \u001b[0;32mNone\u001b[0m\u001b[0;34m:\u001b[0m\u001b[0;34m\u001b[0m\u001b[0;34m\u001b[0m\u001b[0m\n\u001b[0;32m--> 147\u001b[0;31m             \u001b[0mquery\u001b[0m \u001b[0;34m=\u001b[0m \u001b[0mquery\u001b[0m \u001b[0;34m%\u001b[0m \u001b[0mself\u001b[0m\u001b[0;34m.\u001b[0m\u001b[0m_escape_args\u001b[0m\u001b[0;34m(\u001b[0m\u001b[0margs\u001b[0m\u001b[0;34m,\u001b[0m \u001b[0mconn\u001b[0m\u001b[0;34m)\u001b[0m\u001b[0;34m\u001b[0m\u001b[0;34m\u001b[0m\u001b[0m\n\u001b[0m\u001b[1;32m    148\u001b[0m \u001b[0;34m\u001b[0m\u001b[0m\n\u001b[1;32m    149\u001b[0m         \u001b[0;32mreturn\u001b[0m \u001b[0mquery\u001b[0m\u001b[0;34m\u001b[0m\u001b[0;34m\u001b[0m\u001b[0m\n",
      "\u001b[0;31mTypeError\u001b[0m: not all arguments converted during string formatting"
     ]
    }
   ],
   "source": [
    "import csv \n",
    "for date in range(2006,2019):\n",
    "    if date <2019:\n",
    "        file = f'gastos_I_{date}.csv'\n",
    "        file_path = '/home/fserrey/gitrep/ACA_project/aca-water-affordability/notebooks/dec_notebooks/' + file\n",
    "\n",
    "        db = pymysql.connect(hostname, username, password, database)\n",
    "        cursor = db.cursor()\n",
    "        csv_data = csv.reader(file_path)\n",
    "        next(csv_data)\n",
    "        for row in csv_data:\n",
    "            cursor.execute(\"\"\"INSERT INTO \n",
    "            aca_epf.gastos_epf(ANOENC, CANTIDAD, CODIGO, GASTMON, GASTNOM1, GASTNOM2, GASTNOM3, GASTNOM4, GASTNOM5,GASTO,NACTOR,NUMERO,PORCEN,PORCENDES,PORCENIMP) \n",
    "            VALUES(%%s, %%s,%%s,%%s,%%s,%%s,%%s,%%s,%%s,%%s,%%s,%%s,%%s,%%s,%%s)\"\"\",(row))\n",
    "\n",
    "        db.commit()\n",
    "        cursor.close()\n",
    "print (Imported)"
   ]
  },
  {
   "cell_type": "code",
   "execution_count": null,
   "metadata": {},
   "outputs": [],
   "source": []
  },
  {
   "cell_type": "code",
   "execution_count": 51,
   "metadata": {},
   "outputs": [
    {
     "name": "stdout",
     "output_type": "stream",
     "text": [
      "(1064, \"You have an error in your SQL syntax; check the manual that corresponds to your MySQL server version for the right syntax to use near 'COPY gastos_epf(ANOENC, CANTIDAD,CODIGO,GASTMON,GASTNOM1,GASTNOM2,GASTNOM3,GASTN' at line 1\")\n",
      "(1064, \"You have an error in your SQL syntax; check the manual that corresponds to your MySQL server version for the right syntax to use near 'COPY gastos_epf(ANOENC, CANTIDAD,CODIGO,GASTMON,GASTNOM1,GASTNOM2,GASTNOM3,GASTN' at line 1\")\n",
      "(1064, \"You have an error in your SQL syntax; check the manual that corresponds to your MySQL server version for the right syntax to use near 'COPY gastos_epf(ANOENC, CANTIDAD,CODIGO,GASTMON,GASTNOM1,GASTNOM2,GASTNOM3,GASTN' at line 1\")\n",
      "(1064, \"You have an error in your SQL syntax; check the manual that corresponds to your MySQL server version for the right syntax to use near 'COPY gastos_epf(ANOENC, CANTIDAD,CODIGO,GASTMON,GASTNOM1,GASTNOM2,GASTNOM3,GASTN' at line 1\")\n",
      "(1064, \"You have an error in your SQL syntax; check the manual that corresponds to your MySQL server version for the right syntax to use near 'COPY gastos_epf(ANOENC, CANTIDAD,CODIGO,GASTMON,GASTNOM1,GASTNOM2,GASTNOM3,GASTN' at line 1\")\n",
      "(1064, \"You have an error in your SQL syntax; check the manual that corresponds to your MySQL server version for the right syntax to use near 'COPY gastos_epf(ANOENC, CANTIDAD,CODIGO,GASTMON,GASTNOM1,GASTNOM2,GASTNOM3,GASTN' at line 1\")\n",
      "(1064, \"You have an error in your SQL syntax; check the manual that corresponds to your MySQL server version for the right syntax to use near 'COPY gastos_epf(ANOENC, CANTIDAD,CODIGO,GASTMON,GASTNOM1,GASTNOM2,GASTNOM3,GASTN' at line 1\")\n",
      "(1064, \"You have an error in your SQL syntax; check the manual that corresponds to your MySQL server version for the right syntax to use near 'COPY gastos_epf(ANOENC, CANTIDAD,CODIGO,GASTMON,GASTNOM1,GASTNOM2,GASTNOM3,GASTN' at line 1\")\n",
      "(1064, \"You have an error in your SQL syntax; check the manual that corresponds to your MySQL server version for the right syntax to use near 'COPY gastos_epf(ANOENC, CANTIDAD,CODIGO,GASTMON,GASTNOM1,GASTNOM2,GASTNOM3,GASTN' at line 1\")\n",
      "(1064, \"You have an error in your SQL syntax; check the manual that corresponds to your MySQL server version for the right syntax to use near 'COPY gastos_epf(ANOENC, CANTIDAD,CODIGO,GASTMON,GASTNOM1,GASTNOM2,GASTNOM3,GASTN' at line 1\")\n",
      "(1064, \"You have an error in your SQL syntax; check the manual that corresponds to your MySQL server version for the right syntax to use near 'COPY gastos_epf(ANOENC, CANTIDAD,CODIGO,GASTMON,GASTNOM1,GASTNOM2,GASTNOM3,GASTN' at line 1\")\n",
      "(1064, \"You have an error in your SQL syntax; check the manual that corresponds to your MySQL server version for the right syntax to use near 'COPY gastos_epf(ANOENC, CANTIDAD,CODIGO,GASTMON,GASTNOM1,GASTNOM2,GASTNOM3,GASTN' at line 1\")\n",
      "(1064, \"You have an error in your SQL syntax; check the manual that corresponds to your MySQL server version for the right syntax to use near 'COPY gastos_epf(ANOENC, CANTIDAD,CODIGO,GASTMON,GASTNOM1,GASTNOM2,GASTNOM3,GASTN' at line 1\")\n",
      "Tabla subida correctamente\n"
     ]
    }
   ],
   "source": [
    "LOAD DATA LOCAL INFILE 'uniq.csv'\n",
    "INTO TABLE tblUniq\n",
    "FIELDS TERMINATED BY ','\n",
    "    ENCLOSED BY '\"'\n",
    "LINES TERMINATED BY '\\n'\n",
    "IGNORE 1 LINES\n",
    "(uniqName, uniqCity, uniqComments)"
   ]
  },
  {
   "cell_type": "code",
   "execution_count": null,
   "metadata": {},
   "outputs": [],
   "source": []
  }
 ],
 "metadata": {
  "kernelspec": {
   "display_name": "Python 3",
   "language": "python",
   "name": "python3"
  },
  "language_info": {
   "codemirror_mode": {
    "name": "ipython",
    "version": 3
   },
   "file_extension": ".py",
   "mimetype": "text/x-python",
   "name": "python",
   "nbconvert_exporter": "python",
   "pygments_lexer": "ipython3",
   "version": "3.7.6"
  }
 },
 "nbformat": 4,
 "nbformat_minor": 2
}
