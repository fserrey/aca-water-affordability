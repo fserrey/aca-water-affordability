{
 "cells": [
  {
   "cell_type": "code",
   "execution_count": 18,
   "metadata": {},
   "outputs": [
    {
     "data": {
      "text/plain": [
       "True"
      ]
     },
     "execution_count": 18,
     "metadata": {},
     "output_type": "execute_result"
    }
   ],
   "source": [
    "import os\n",
    "import pandas as pd\n",
    "import matplotlib.pyplot as plt\n",
    "import pymysql\n",
    "from dotenv import load_dotenv\n",
    "load_dotenv()"
   ]
  },
  {
   "cell_type": "code",
   "execution_count": 23,
   "metadata": {},
   "outputs": [
    {
     "name": "stdout",
     "output_type": "stream",
     "text": [
      "Using pymysql…\n",
      "Database version: 5.7.28-0ubuntu0.18.04.4\n"
     ]
    }
   ],
   "source": [
    "\n",
    "hostname = os.environ[\"HOSTNAME\"]\n",
    "username = 'root'#os.environ[\"USERNAME\"]\n",
    "password = os.environ[\"PASS\"]\n",
    "database = os.environ[\"DATABASE\"] \n",
    "\n",
    "print(\"Using pymysql…\")\n",
    "\n",
    "\n",
    "con = pymysql.connect(hostname, username, \n",
    "    password, database)\n",
    "\n",
    "with con:\n",
    "    \n",
    "    cur = con.cursor()\n",
    "    cur.execute(\"SELECT VERSION()\")\n",
    "\n",
    "    version = cur.fetchone()\n",
    "    \n",
    "    print(\"Database version: {}\".format(version[0]))"
   ]
  },
  {
   "cell_type": "code",
   "execution_count": 7,
   "metadata": {},
   "outputs": [
    {
     "name": "stdout",
     "output_type": "stream",
     "text": [
      "'int' object has no attribute 'keys'\n",
      "finished\n"
     ]
    }
   ],
   "source": [
    "query = \"\"\"\n",
    "        SELECT ANOENC, COUNT(DISTINCT NUMERO) \n",
    "        FROM gastos_epf gastos\n",
    "        GROUP BY ANOENC;\n",
    "        \"\"\"\n",
    "\n",
    "\n",
    "conn = None\n",
    "try:\n",
    "    conn = pymysql.connect(hostname, username, password, database)\n",
    "    cur = conn.cursor()\n",
    "    cur.execute(query)\n",
    "    \n",
    "    # Set it as DF\n",
    "    df = pd.read_sql(query, con=conn) \n",
    "    df.columns = execution.keys()\n",
    "    \n",
    "    cur.close()\n",
    "    #conn.commit()\n",
    "except (Exception, pymysql.DatabaseError) as error:\n",
    "    print(error)\n",
    "finally:\n",
    "    if conn is not None:\n",
    "        conn.close()\n",
    "print('finished')"
   ]
  },
  {
   "cell_type": "code",
   "execution_count": 9,
   "metadata": {},
   "outputs": [
    {
     "data": {
      "text/html": [
       "<div>\n",
       "<style scoped>\n",
       "    .dataframe tbody tr th:only-of-type {\n",
       "        vertical-align: middle;\n",
       "    }\n",
       "\n",
       "    .dataframe tbody tr th {\n",
       "        vertical-align: top;\n",
       "    }\n",
       "\n",
       "    .dataframe thead th {\n",
       "        text-align: right;\n",
       "    }\n",
       "</style>\n",
       "<table border=\"1\" class=\"dataframe\">\n",
       "  <thead>\n",
       "    <tr style=\"text-align: right;\">\n",
       "      <th></th>\n",
       "      <th>ANOENC</th>\n",
       "      <th>COUNT(DISTINCT NUMERO)</th>\n",
       "    </tr>\n",
       "  </thead>\n",
       "  <tbody>\n",
       "    <tr>\n",
       "      <th>0</th>\n",
       "      <td>2006</td>\n",
       "      <td>19435</td>\n",
       "    </tr>\n",
       "    <tr>\n",
       "      <th>1</th>\n",
       "      <td>2007</td>\n",
       "      <td>21542</td>\n",
       "    </tr>\n",
       "    <tr>\n",
       "      <th>2</th>\n",
       "      <td>2008</td>\n",
       "      <td>22077</td>\n",
       "    </tr>\n",
       "    <tr>\n",
       "      <th>3</th>\n",
       "      <td>2009</td>\n",
       "      <td>22346</td>\n",
       "    </tr>\n",
       "    <tr>\n",
       "      <th>4</th>\n",
       "      <td>2010</td>\n",
       "      <td>22203</td>\n",
       "    </tr>\n",
       "    <tr>\n",
       "      <th>5</th>\n",
       "      <td>2011</td>\n",
       "      <td>21680</td>\n",
       "    </tr>\n",
       "    <tr>\n",
       "      <th>6</th>\n",
       "      <td>2012</td>\n",
       "      <td>21808</td>\n",
       "    </tr>\n",
       "    <tr>\n",
       "      <th>7</th>\n",
       "      <td>2013</td>\n",
       "      <td>22057</td>\n",
       "    </tr>\n",
       "    <tr>\n",
       "      <th>8</th>\n",
       "      <td>2014</td>\n",
       "      <td>22146</td>\n",
       "    </tr>\n",
       "    <tr>\n",
       "      <th>9</th>\n",
       "      <td>2015</td>\n",
       "      <td>22130</td>\n",
       "    </tr>\n",
       "    <tr>\n",
       "      <th>10</th>\n",
       "      <td>2016</td>\n",
       "      <td>22010</td>\n",
       "    </tr>\n",
       "    <tr>\n",
       "      <th>11</th>\n",
       "      <td>2017</td>\n",
       "      <td>22043</td>\n",
       "    </tr>\n",
       "    <tr>\n",
       "      <th>12</th>\n",
       "      <td>2018</td>\n",
       "      <td>21395</td>\n",
       "    </tr>\n",
       "  </tbody>\n",
       "</table>\n",
       "</div>"
      ],
      "text/plain": [
       "    ANOENC  COUNT(DISTINCT NUMERO)\n",
       "0     2006                   19435\n",
       "1     2007                   21542\n",
       "2     2008                   22077\n",
       "3     2009                   22346\n",
       "4     2010                   22203\n",
       "5     2011                   21680\n",
       "6     2012                   21808\n",
       "7     2013                   22057\n",
       "8     2014                   22146\n",
       "9     2015                   22130\n",
       "10    2016                   22010\n",
       "11    2017                   22043\n",
       "12    2018                   21395"
      ]
     },
     "execution_count": 9,
     "metadata": {},
     "output_type": "execute_result"
    }
   ],
   "source": [
    "df"
   ]
  },
  {
   "cell_type": "code",
   "execution_count": null,
   "metadata": {},
   "outputs": [],
   "source": [
    "query = \"\"\"\n",
    "        SELECT  gasto.NUMERO,\n",
    "                gasto.CODIGO, \n",
    "                gasto.ANOENC, \n",
    "                gasto.GASTO, \n",
    "                hogar.CCAA, \n",
    "                hogar.INTERINPSP,\n",
    "                hogar.INTERIN,\n",
    "                hogar.NMIEMB,\n",
    "                hogar.REGTEN,\n",
    "                hogar.ANNOCON,\n",
    "                hogar.AGUACALI,\n",
    "                hogar.NMIEM1\n",
    "                FROM gastos_epf gasto\n",
    "                LEFT JOIN hogar_epf hogar\n",
    "                ON gasto.NUMERO = hogar.NUMERO\n",
    "                WHERE CODIGO between '04511' and '04551';\n",
    "        \"\"\"\n",
    "\n",
    "\n",
    "conn = None\n",
    "try:\n",
    "    conn = pymysql.connect(hostname, username, password, database)\n",
    "    cur = conn.cursor()\n",
    "    cur.execute(query)\n",
    "    \n",
    "    # Set it as DF\n",
    "    df = pd.read_sql(query, con=conn) \n",
    "    df.columns = execution.keys()\n",
    "    \n",
    "    cur.close()\n",
    "    #conn.commit()\n",
    "except (Exception, pymysql.DatabaseError) as error:\n",
    "    print(error)\n",
    "finally:\n",
    "    if conn is not None:\n",
    "        conn.close()\n",
    "print('finished')"
   ]
  },
  {
   "cell_type": "code",
   "execution_count": 12,
   "metadata": {},
   "outputs": [],
   "source": [
    "df_test = pd.read_csv('/home/fserrey/Documents/test.csv')"
   ]
  },
  {
   "cell_type": "code",
   "execution_count": 13,
   "metadata": {},
   "outputs": [
    {
     "name": "stdout",
     "output_type": "stream",
     "text": [
      "<class 'pandas.core.frame.DataFrame'>\n",
      "RangeIndex: 1000 entries, 0 to 999\n",
      "Data columns (total 12 columns):\n",
      "NUMERO              1000 non-null int64\n",
      "CODIGO              1000 non-null int64\n",
      "ANOENC              1000 non-null int64\n",
      "gasto.GASTO/1000    1000 non-null float64\n",
      "CCAA                1000 non-null int64\n",
      "INTERINPSP          0 non-null float64\n",
      "INTERIN             1000 non-null float64\n",
      "NMIEMB              1000 non-null float64\n",
      "REGTEN              1000 non-null float64\n",
      "ANNOCON             1000 non-null float64\n",
      "AGUACALI            1000 non-null float64\n",
      "NMIEM1              1000 non-null float64\n",
      "dtypes: float64(8), int64(4)\n",
      "memory usage: 93.9 KB\n"
     ]
    }
   ],
   "source": [
    "df_test.info()"
   ]
  },
  {
   "cell_type": "code",
   "execution_count": null,
   "metadata": {},
   "outputs": [],
   "source": []
  }
 ],
 "metadata": {
  "kernelspec": {
   "display_name": "Python 3",
   "language": "python",
   "name": "python3"
  },
  "language_info": {
   "codemirror_mode": {
    "name": "ipython",
    "version": 3
   },
   "file_extension": ".py",
   "mimetype": "text/x-python",
   "name": "python",
   "nbconvert_exporter": "python",
   "pygments_lexer": "ipython3",
   "version": "3.7.6"
  }
 },
 "nbformat": 4,
 "nbformat_minor": 2
}
