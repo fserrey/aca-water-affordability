{
 "cells": [
  {
   "cell_type": "code",
   "execution_count": 1,
   "metadata": {},
   "outputs": [],
   "source": [
    "import os\n",
    "import pandas as pd\n",
    "import pyreadstat\n",
    "import glob\n",
    "from functools import wraps\n",
    "from time import time"
   ]
  },
  {
   "cell_type": "code",
   "execution_count": 2,
   "metadata": {},
   "outputs": [],
   "source": [
    "#Además de los decimales, del word, saca los valores que sirven la checkear que la carga es correcta\n",
    "#Automatizando eso en una función, if True, then print('los datos están bien')\n",
    "#Pide a Laura que te pase las tablas dinámicas\n",
    "#INtenta construir una serie temporal para análisis\n",
    "#Reproduce los análisis que han hecho en el WORD del estudio"
   ]
  },
  {
   "cell_type": "code",
   "execution_count": 17,
   "metadata": {},
   "outputs": [],
   "source": [
    "def timer(f):\n",
    "    @wraps(f)\n",
    "    def wrapper(*args, **kwargs):\n",
    "        start = time()\n",
    "        result = f(*args, **kwargs)\n",
    "        end = time()\n",
    "        print('Elapsed time: {}'.format(end-start))\n",
    "        return result\n",
    "    return wrapper\n",
    "\n",
    "#Funciones GASTOS\n",
    "@timer\n",
    "def get_tablas_gastos(base_dir):\n",
    "    for file in os.listdir(base_dir):\n",
    "        file_path = f'{base_dir}/{file}'\n",
    "        df, meta = pyreadstat.read_sav(file_path)\n",
    "            \n",
    "        df = df.apply(lambda x: x.astype(float)/100 if x.name not in ['ANOENC', 'NUMERO','CODIGO', 'NACTOR'] else x)\n",
    "        df = df.apply(lambda x: x.astype(int) if x.name in ['ANOENC', 'NUMERO'] else x)\n",
    "        df = df.apply(lambda x: x/1000000 if x.name in ['NACTOR'] else x)\n",
    "        df.to_csv(base_dir+'/gastos_'+ str(df.iloc[0][0]) + '.csv')        \n",
    "\n",
    "@timer\n",
    "def load_tablas_gastos(base_dir):\n",
    "    all_files = glob.glob(base_dir + \"/*.csv\")\n",
    "    \n",
    "    li = []\n",
    "    for fname in all_files:\n",
    "        df = pd.read_csv(fname, index_col=None, header=0)\n",
    "        li.append(df)\n",
    "\n",
    "    dframe = pd.concat(li, axis=0, ignore_index=True) \n",
    "    dframe.to_csv('gastos_serie_completa.csv')\n",
    "      \n",
    "\n",
    "#Funciones HOGAR\n",
    "@timer\n",
    "def get_tablas_hogar(base_dir):\n",
    "    for file in os.listdir(base_dir):\n",
    "        file_path = f'{base_dir}/{file}'\n",
    "        df, meta = pyreadstat.read_sav(file_path)\n",
    "        df.to_csv(base_dir+'/hogar_'+ str(df.loc[0, \"ANOENC\"]) + '.csv')\n",
    "\n",
    "@timer\n",
    "def load_tablas_hogar(base_dir):\n",
    "    all_files = glob.glob(base_dir + \"/*.csv\")\n",
    "    \n",
    "    li = []\n",
    "    for fname in all_files:\n",
    "        df = pd.read_csv(fname, index_col=None, header=0)\n",
    "        li.append(df)\n",
    "\n",
    "    dframe = pd.concat(li, axis=0, ignore_index=True) \n",
    "    dframe.to_csv('hogar_serie_completa.csv')\n",
    "\n",
    "def validity(df_gastos, df_hogar):\n",
    "    return df_gastos.shape == df_hogar.shape\n",
    "    \n",
    "#Funciones MIEMBROS"
   ]
  },
  {
   "cell_type": "code",
   "execution_count": 5,
   "metadata": {},
   "outputs": [
    {
     "name": "stdout",
     "output_type": "stream",
     "text": [
      "Elapsed time: 115.03039336204529\n"
     ]
    }
   ],
   "source": [
    "ruta = \"/home/fserrey/gitrep/ACA_project/docs_table/gastos_tablas\"\n",
    "\n",
    "get_tablas_gastos(ruta)"
   ]
  },
  {
   "cell_type": "code",
   "execution_count": 6,
   "metadata": {},
   "outputs": [
    {
     "name": "stdout",
     "output_type": "stream",
     "text": [
      "Elapsed time: 90.64820194244385\n"
     ]
    }
   ],
   "source": [
    "load_tablas_gastos(ruta)"
   ]
  },
  {
   "cell_type": "code",
   "execution_count": 7,
   "metadata": {},
   "outputs": [],
   "source": [
    "gastos_tabla = pd.read_csv('gastos_serie_completa.csv')"
   ]
  },
  {
   "cell_type": "code",
   "execution_count": 8,
   "metadata": {},
   "outputs": [
    {
     "data": {
      "text/html": [
       "<div>\n",
       "<style scoped>\n",
       "    .dataframe tbody tr th:only-of-type {\n",
       "        vertical-align: middle;\n",
       "    }\n",
       "\n",
       "    .dataframe tbody tr th {\n",
       "        vertical-align: top;\n",
       "    }\n",
       "\n",
       "    .dataframe thead th {\n",
       "        text-align: right;\n",
       "    }\n",
       "</style>\n",
       "<table border=\"1\" class=\"dataframe\">\n",
       "  <thead>\n",
       "    <tr style=\"text-align: right;\">\n",
       "      <th></th>\n",
       "      <th>Unnamed: 0</th>\n",
       "      <th>Unnamed: 0.1</th>\n",
       "      <th>ANOENC</th>\n",
       "      <th>NUMERO</th>\n",
       "      <th>CODIGO</th>\n",
       "      <th>GASTO</th>\n",
       "      <th>PORCEN</th>\n",
       "      <th>CANTIDAD</th>\n",
       "      <th>GASTMON</th>\n",
       "      <th>GASTNOM1</th>\n",
       "      <th>GASTNOM2</th>\n",
       "      <th>GASTNOM3</th>\n",
       "      <th>GASTNOM4</th>\n",
       "      <th>GASTNOM5</th>\n",
       "      <th>NACTOR</th>\n",
       "    </tr>\n",
       "  </thead>\n",
       "  <tbody>\n",
       "    <tr>\n",
       "      <th>0</th>\n",
       "      <td>0</td>\n",
       "      <td>0</td>\n",
       "      <td>2009</td>\n",
       "      <td>1</td>\n",
       "      <td>1112</td>\n",
       "      <td>267539.46</td>\n",
       "      <td>0.0</td>\n",
       "      <td>92240.99</td>\n",
       "      <td>267539.46</td>\n",
       "      <td>NaN</td>\n",
       "      <td>NaN</td>\n",
       "      <td>NaN</td>\n",
       "      <td>NaN</td>\n",
       "      <td>NaN</td>\n",
       "      <td>707.602898</td>\n",
       "    </tr>\n",
       "    <tr>\n",
       "      <th>1</th>\n",
       "      <td>1</td>\n",
       "      <td>1</td>\n",
       "      <td>2009</td>\n",
       "      <td>1</td>\n",
       "      <td>1113</td>\n",
       "      <td>102409.64</td>\n",
       "      <td>0.0</td>\n",
       "      <td>29517.12</td>\n",
       "      <td>102409.64</td>\n",
       "      <td>NaN</td>\n",
       "      <td>NaN</td>\n",
       "      <td>NaN</td>\n",
       "      <td>NaN</td>\n",
       "      <td>NaN</td>\n",
       "      <td>707.602898</td>\n",
       "    </tr>\n",
       "  </tbody>\n",
       "</table>\n",
       "</div>"
      ],
      "text/plain": [
       "   Unnamed: 0  Unnamed: 0.1  ANOENC  NUMERO  CODIGO      GASTO  PORCEN  \\\n",
       "0           0             0    2009       1    1112  267539.46     0.0   \n",
       "1           1             1    2009       1    1113  102409.64     0.0   \n",
       "\n",
       "   CANTIDAD    GASTMON  GASTNOM1  GASTNOM2  GASTNOM3  GASTNOM4  GASTNOM5  \\\n",
       "0  92240.99  267539.46       NaN       NaN       NaN       NaN       NaN   \n",
       "1  29517.12  102409.64       NaN       NaN       NaN       NaN       NaN   \n",
       "\n",
       "       NACTOR  \n",
       "0  707.602898  \n",
       "1  707.602898  "
      ]
     },
     "execution_count": 8,
     "metadata": {},
     "output_type": "execute_result"
    }
   ],
   "source": [
    "gastos_tabla.head(2)"
   ]
  },
  {
   "cell_type": "code",
   "execution_count": 9,
   "metadata": {
    "scrolled": true
   },
   "outputs": [
    {
     "data": {
      "text/plain": [
       "2010    2195196\n",
       "2009    2177881\n",
       "2008    2171403\n",
       "2007    2127839\n",
       "2006    1677656\n",
       "Name: ANOENC, dtype: int64"
      ]
     },
     "execution_count": 9,
     "metadata": {},
     "output_type": "execute_result"
    }
   ],
   "source": [
    "gastos_tabla.ANOENC.value_counts()"
   ]
  },
  {
   "cell_type": "code",
   "execution_count": 10,
   "metadata": {},
   "outputs": [
    {
     "name": "stdout",
     "output_type": "stream",
     "text": [
      "Elapsed time: 9.257530212402344\n"
     ]
    }
   ],
   "source": [
    "ruta = \"/home/fserrey/gitrep/ACA_project/docs_table/hogar_tablas\"\n",
    "\n",
    "get_tablas_hogar(ruta)"
   ]
  },
  {
   "cell_type": "code",
   "execution_count": 11,
   "metadata": {},
   "outputs": [
    {
     "name": "stdout",
     "output_type": "stream",
     "text": [
      "Elapsed time: 10.214112520217896\n"
     ]
    }
   ],
   "source": [
    "load_tablas_hogar(ruta)"
   ]
  },
  {
   "cell_type": "code",
   "execution_count": 12,
   "metadata": {},
   "outputs": [],
   "source": [
    "hogar_tabla = pd.read_csv('hogar_serie_completa.csv')"
   ]
  },
  {
   "cell_type": "code",
   "execution_count": 13,
   "metadata": {},
   "outputs": [
    {
     "data": {
      "text/html": [
       "<div>\n",
       "<style scoped>\n",
       "    .dataframe tbody tr th:only-of-type {\n",
       "        vertical-align: middle;\n",
       "    }\n",
       "\n",
       "    .dataframe tbody tr th {\n",
       "        vertical-align: top;\n",
       "    }\n",
       "\n",
       "    .dataframe thead th {\n",
       "        text-align: right;\n",
       "    }\n",
       "</style>\n",
       "<table border=\"1\" class=\"dataframe\">\n",
       "  <thead>\n",
       "    <tr style=\"text-align: right;\">\n",
       "      <th></th>\n",
       "      <th>Unnamed: 0</th>\n",
       "      <th>Unnamed: 0.1</th>\n",
       "      <th>ANOENC</th>\n",
       "      <th>NUMERO</th>\n",
       "      <th>CCAA</th>\n",
       "      <th>NUTS1</th>\n",
       "      <th>CAPROV</th>\n",
       "      <th>TAMAMU</th>\n",
       "      <th>DENSI</th>\n",
       "      <th>CLAVE</th>\n",
       "      <th>...</th>\n",
       "      <th>IMPEXAC</th>\n",
       "      <th>IMPUEXAC</th>\n",
       "      <th>INTERIN</th>\n",
       "      <th>IMPU_INTER</th>\n",
       "      <th>NUMPERI</th>\n",
       "      <th>COMIMH</th>\n",
       "      <th>COMISD</th>\n",
       "      <th>COMIHU</th>\n",
       "      <th>COMIINV</th>\n",
       "      <th>COMITOT</th>\n",
       "    </tr>\n",
       "  </thead>\n",
       "  <tbody>\n",
       "    <tr>\n",
       "      <th>0</th>\n",
       "      <td>0</td>\n",
       "      <td>0</td>\n",
       "      <td>2009</td>\n",
       "      <td>1</td>\n",
       "      <td>8</td>\n",
       "      <td>4</td>\n",
       "      <td>6</td>\n",
       "      <td>5</td>\n",
       "      <td>3</td>\n",
       "      <td>2</td>\n",
       "      <td>...</td>\n",
       "      <td>745.0</td>\n",
       "      <td>1</td>\n",
       "      <td>2</td>\n",
       "      <td>6</td>\n",
       "      <td>1.0</td>\n",
       "      <td>84.0</td>\n",
       "      <td>0.0</td>\n",
       "      <td>0.0</td>\n",
       "      <td>8.0</td>\n",
       "      <td>92.0</td>\n",
       "    </tr>\n",
       "    <tr>\n",
       "      <th>1</th>\n",
       "      <td>1</td>\n",
       "      <td>1</td>\n",
       "      <td>2009</td>\n",
       "      <td>2</td>\n",
       "      <td>10</td>\n",
       "      <td>5</td>\n",
       "      <td>6</td>\n",
       "      <td>5</td>\n",
       "      <td>3</td>\n",
       "      <td>1</td>\n",
       "      <td>...</td>\n",
       "      <td>1122.0</td>\n",
       "      <td>6</td>\n",
       "      <td>3</td>\n",
       "      <td>6</td>\n",
       "      <td>1.0</td>\n",
       "      <td>56.0</td>\n",
       "      <td>0.0</td>\n",
       "      <td>0.0</td>\n",
       "      <td>3.0</td>\n",
       "      <td>59.0</td>\n",
       "    </tr>\n",
       "  </tbody>\n",
       "</table>\n",
       "<p>2 rows × 176 columns</p>\n",
       "</div>"
      ],
      "text/plain": [
       "   Unnamed: 0  Unnamed: 0.1  ANOENC  NUMERO  CCAA  NUTS1  CAPROV  TAMAMU  \\\n",
       "0           0             0    2009       1     8      4       6       5   \n",
       "1           1             1    2009       2    10      5       6       5   \n",
       "\n",
       "   DENSI  CLAVE  ...  IMPEXAC  IMPUEXAC  INTERIN  IMPU_INTER  NUMPERI  COMIMH  \\\n",
       "0      3      2  ...    745.0         1        2           6      1.0    84.0   \n",
       "1      3      1  ...   1122.0         6        3           6      1.0    56.0   \n",
       "\n",
       "   COMISD  COMIHU  COMIINV  COMITOT  \n",
       "0     0.0     0.0      8.0     92.0  \n",
       "1     0.0     0.0      3.0     59.0  \n",
       "\n",
       "[2 rows x 176 columns]"
      ]
     },
     "execution_count": 13,
     "metadata": {},
     "output_type": "execute_result"
    }
   ],
   "source": [
    "hogar_tabla.head(2)"
   ]
  },
  {
   "cell_type": "code",
   "execution_count": 14,
   "metadata": {},
   "outputs": [
    {
     "data": {
      "text/plain": [
       "2009    22346\n",
       "2010    22203\n",
       "2008    22077\n",
       "2007    21542\n",
       "2006    19435\n",
       "Name: ANOENC, dtype: int64"
      ]
     },
     "execution_count": 14,
     "metadata": {},
     "output_type": "execute_result"
    }
   ],
   "source": [
    "hogar_tabla.ANOENC.value_counts()"
   ]
  },
  {
   "cell_type": "code",
   "execution_count": 18,
   "metadata": {},
   "outputs": [
    {
     "data": {
      "text/plain": [
       "False"
      ]
     },
     "execution_count": 18,
     "metadata": {},
     "output_type": "execute_result"
    }
   ],
   "source": [
    "validity(gastos_tabla, hogar_tabla)"
   ]
  },
  {
   "cell_type": "code",
   "execution_count": 16,
   "metadata": {},
   "outputs": [
    {
     "data": {
      "text/plain": [
       "(10349975, 15)"
      ]
     },
     "execution_count": 16,
     "metadata": {},
     "output_type": "execute_result"
    }
   ],
   "source": [
    "gastos_tabla.shape"
   ]
  },
  {
   "cell_type": "code",
   "execution_count": 19,
   "metadata": {},
   "outputs": [
    {
     "data": {
      "text/plain": [
       "(107603, 176)"
      ]
     },
     "execution_count": 19,
     "metadata": {},
     "output_type": "execute_result"
    }
   ],
   "source": [
    "hogar_tabla.shape"
   ]
  },
  {
   "cell_type": "code",
   "execution_count": null,
   "metadata": {},
   "outputs": [],
   "source": []
  }
 ],
 "metadata": {
  "kernelspec": {
   "display_name": "Python 3",
   "language": "python",
   "name": "python3"
  },
  "language_info": {
   "codemirror_mode": {
    "name": "ipython",
    "version": 3
   },
   "file_extension": ".py",
   "mimetype": "text/x-python",
   "name": "python",
   "nbconvert_exporter": "python",
   "pygments_lexer": "ipython3",
   "version": "3.6.9"
  }
 },
 "nbformat": 4,
 "nbformat_minor": 2
}
