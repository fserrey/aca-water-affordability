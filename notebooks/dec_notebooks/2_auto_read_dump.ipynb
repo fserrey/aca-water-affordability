{
 "cells": [
  {
   "cell_type": "code",
   "execution_count": 1,
   "metadata": {},
   "outputs": [],
   "source": [
    "import os\n",
    "import pandas as pd\n",
    "import pyreadstat\n",
    "import glob\n",
    "from functools import wraps\n",
    "from time import time"
   ]
  },
  {
   "cell_type": "code",
   "execution_count": 2,
   "metadata": {},
   "outputs": [],
   "source": [
    "#Además de los decimales, del word, saca los valores que sirven la checkear que la carga es correcta\n",
    "#Automatizando eso en una función, if True, then print('los datos están bien')\n",
    "#Pide a Laura que te pase las tablas dinámicas\n",
    "#INtenta construir una serie temporal para análisis\n",
    "#Reproduce los análisis que han hecho en el WORD del estudio"
   ]
  },
  {
   "cell_type": "markdown",
   "metadata": {},
   "source": [
    "cruce de variables dentro de la encuesta.\n",
    "\n",
    "    Tasa Paro - Nªocupados (por trimestres) (En este caso la fuente es la EPA)\n",
    "    Índice de pobreza según OCDE (anual)\n",
    "    Gasto en agua y carga con respecto a ingresos\n",
    "    Ingresos anuales - Gasto agua (abastecimiento y saneamiento / solo abastecimiento)\n",
    "    Consumo agua (persona/litro) - Gasto agua (abastecimiento y saneamiento / solo abastecimiento"
   ]
  },
  {
   "cell_type": "code",
   "execution_count": 3,
   "metadata": {},
   "outputs": [],
   "source": [
    "# ANEXO II ---------ATENCION"
   ]
  },
  {
   "cell_type": "code",
   "execution_count": 13,
   "metadata": {},
   "outputs": [],
   "source": [
    "def timer(f):\n",
    "    @wraps(f)\n",
    "    def wrapper(*args, **kwargs):\n",
    "        start = time()\n",
    "        result = f(*args, **kwargs)\n",
    "        end = time()\n",
    "        print('Elapsed time: {}'.format(end-start))\n",
    "        return result\n",
    "    return wrapper\n",
    "\n",
    "#Funciones GASTOS\n",
    "@timer\n",
    "def get_tablas_gastos(base_dir):\n",
    "    for file in os.listdir(base_dir):\n",
    "        file_path = f'{base_dir}/{file}'\n",
    "        df, meta = pyreadstat.read_sav(file_path)\n",
    "            \n",
    "        df = df.apply(lambda x: x.astype(float)/100 if x.name not in ['ANOENC', 'NUMERO','CODIGO', 'NACTOR'] else x)\n",
    "        df = df.apply(lambda x: x.astype(int) if x.name in ['ANOENC', 'NUMERO'] else x)\n",
    "        df = df.apply(lambda x: x/1000000 if x.name in ['NACTOR'] else x)\n",
    "        df.to_csv(base_dir+'/gastos_'+ str(df.iloc[0][0]) + '.csv')        \n",
    "\n",
    "@timer\n",
    "def load_tablas_gastos(base_dir):\n",
    "    all_files = glob.glob(base_dir + \"/*.csv\")\n",
    "    \n",
    "    li = []\n",
    "    for fname in all_files:\n",
    "        df = pd.read_csv(fname, index_col=None, header=0)\n",
    "        li.append(df)\n",
    "\n",
    "    dframe = pd.concat(li, axis=0, ignore_index=True) \n",
    "    dframe.to_csv('gastos_serie_completa.csv')\n",
    "      \n",
    "\n",
    "#Funciones HOGAR\n",
    "#@timer\n",
    "def get_tablas_hogar(base_dir):\n",
    "    for file in os.listdir(base_dir):\n",
    "        file_path = f'{base_dir}/{file}'\n",
    "        df, meta = pyreadstat.read_sav(file_path)\n",
    "        df.to_csv(base_dir+'/hogar_'+ str(df.loc[0, \"ANOENC\"]) + '.csv')\n",
    "\n",
    "@timer\n",
    "def load_tablas_hogar(base_dir):\n",
    "    all_files = glob.glob(base_dir + \"/*.csv\")\n",
    "    \n",
    "    li = []\n",
    "    for fname in all_files:\n",
    "        df = pd.read_csv(fname, index_col=None, header=0)\n",
    "        li.append(df)\n",
    "\n",
    "    dframe = pd.concat(li, axis=0, ignore_index=True) \n",
    "    dframe.to_csv('hogar_serie_completa.csv')\n",
    "\n",
    "def validity(df_gastos, df_hogar):\n",
    "    return df_gastos.shape == df_hogar.shape\n",
    "    \n",
    "#Funciones MIEMBROS"
   ]
  },
  {
   "cell_type": "code",
   "execution_count": null,
   "metadata": {},
   "outputs": [],
   "source": [
    "ruta = \"/home/fserrey/gitrep/ACA_project/docs_table/gastos_tablas\"\n",
    "\n",
    "get_tablas_gastos(ruta)"
   ]
  },
  {
   "cell_type": "code",
   "execution_count": 6,
   "metadata": {},
   "outputs": [
    {
     "name": "stdout",
     "output_type": "stream",
     "text": [
      "Elapsed time: 124.99362635612488\n"
     ]
    }
   ],
   "source": [
    "load_tablas_gastos(ruta)"
   ]
  },
  {
   "cell_type": "code",
   "execution_count": 7,
   "metadata": {},
   "outputs": [],
   "source": [
    "gastos_tabla = pd.read_csv('gastos_serie_completa.csv')"
   ]
  },
  {
   "cell_type": "code",
   "execution_count": 8,
   "metadata": {},
   "outputs": [
    {
     "data": {
      "text/html": [
       "<div>\n",
       "<style scoped>\n",
       "    .dataframe tbody tr th:only-of-type {\n",
       "        vertical-align: middle;\n",
       "    }\n",
       "\n",
       "    .dataframe tbody tr th {\n",
       "        vertical-align: top;\n",
       "    }\n",
       "\n",
       "    .dataframe thead th {\n",
       "        text-align: right;\n",
       "    }\n",
       "</style>\n",
       "<table border=\"1\" class=\"dataframe\">\n",
       "  <thead>\n",
       "    <tr style=\"text-align: right;\">\n",
       "      <th></th>\n",
       "      <th>Unnamed: 0</th>\n",
       "      <th>Unnamed: 0.1</th>\n",
       "      <th>ANOENC</th>\n",
       "      <th>NUMERO</th>\n",
       "      <th>CODIGO</th>\n",
       "      <th>GASTO</th>\n",
       "      <th>PORCEN</th>\n",
       "      <th>CANTIDAD</th>\n",
       "      <th>GASTMON</th>\n",
       "      <th>GASTNOM1</th>\n",
       "      <th>GASTNOM2</th>\n",
       "      <th>GASTNOM3</th>\n",
       "      <th>GASTNOM4</th>\n",
       "      <th>GASTNOM5</th>\n",
       "      <th>NACTOR</th>\n",
       "    </tr>\n",
       "  </thead>\n",
       "  <tbody>\n",
       "    <tr>\n",
       "      <th>0</th>\n",
       "      <td>0</td>\n",
       "      <td>0</td>\n",
       "      <td>2009</td>\n",
       "      <td>1</td>\n",
       "      <td>1112</td>\n",
       "      <td>267539.46</td>\n",
       "      <td>0.0</td>\n",
       "      <td>92240.99</td>\n",
       "      <td>267539.46</td>\n",
       "      <td>NaN</td>\n",
       "      <td>NaN</td>\n",
       "      <td>NaN</td>\n",
       "      <td>NaN</td>\n",
       "      <td>NaN</td>\n",
       "      <td>707.602898</td>\n",
       "    </tr>\n",
       "    <tr>\n",
       "      <th>1</th>\n",
       "      <td>1</td>\n",
       "      <td>1</td>\n",
       "      <td>2009</td>\n",
       "      <td>1</td>\n",
       "      <td>1113</td>\n",
       "      <td>102409.64</td>\n",
       "      <td>0.0</td>\n",
       "      <td>29517.12</td>\n",
       "      <td>102409.64</td>\n",
       "      <td>NaN</td>\n",
       "      <td>NaN</td>\n",
       "      <td>NaN</td>\n",
       "      <td>NaN</td>\n",
       "      <td>NaN</td>\n",
       "      <td>707.602898</td>\n",
       "    </tr>\n",
       "  </tbody>\n",
       "</table>\n",
       "</div>"
      ],
      "text/plain": [
       "   Unnamed: 0  Unnamed: 0.1  ANOENC  NUMERO  CODIGO      GASTO  PORCEN  \\\n",
       "0           0             0    2009       1    1112  267539.46     0.0   \n",
       "1           1             1    2009       1    1113  102409.64     0.0   \n",
       "\n",
       "   CANTIDAD    GASTMON  GASTNOM1  GASTNOM2  GASTNOM3  GASTNOM4  GASTNOM5  \\\n",
       "0  92240.99  267539.46       NaN       NaN       NaN       NaN       NaN   \n",
       "1  29517.12  102409.64       NaN       NaN       NaN       NaN       NaN   \n",
       "\n",
       "       NACTOR  \n",
       "0  707.602898  \n",
       "1  707.602898  "
      ]
     },
     "execution_count": 8,
     "metadata": {},
     "output_type": "execute_result"
    }
   ],
   "source": [
    "gastos_tabla.head(2)"
   ]
  },
  {
   "cell_type": "code",
   "execution_count": 9,
   "metadata": {
    "scrolled": true
   },
   "outputs": [
    {
     "data": {
      "text/plain": [
       "2010    2195196\n",
       "2009    2177881\n",
       "2008    2171403\n",
       "2007    2127839\n",
       "2006    1677656\n",
       "Name: ANOENC, dtype: int64"
      ]
     },
     "execution_count": 9,
     "metadata": {},
     "output_type": "execute_result"
    }
   ],
   "source": [
    "gastos_tabla.ANOENC.value_counts()"
   ]
  },
  {
   "cell_type": "code",
   "execution_count": 10,
   "metadata": {},
   "outputs": [
    {
     "data": {
      "text/plain": [
       "Index(['Unnamed: 0', 'Unnamed: 0.1', 'ANOENC', 'NUMERO', 'CODIGO', 'GASTO',\n",
       "       'PORCEN', 'CANTIDAD', 'GASTMON', 'GASTNOM1', 'GASTNOM2', 'GASTNOM3',\n",
       "       'GASTNOM4', 'GASTNOM5', 'NACTOR'],\n",
       "      dtype='object')"
      ]
     },
     "execution_count": 10,
     "metadata": {},
     "output_type": "execute_result"
    }
   ],
   "source": [
    "gastos_tabla.columns"
   ]
  },
  {
   "cell_type": "code",
   "execution_count": null,
   "metadata": {},
   "outputs": [],
   "source": [
    "ruta = \"/home/fserrey/gitrep/ACA_project/docs_table/hogar_tablas\"\n",
    "\n",
    "get_tablas_hogar(ruta)"
   ]
  },
  {
   "cell_type": "code",
   "execution_count": 15,
   "metadata": {},
   "outputs": [
    {
     "name": "stdout",
     "output_type": "stream",
     "text": [
      "Elapsed time: 14.727326154708862\n"
     ]
    }
   ],
   "source": [
    "load_tablas_hogar(ruta)"
   ]
  },
  {
   "cell_type": "code",
   "execution_count": 16,
   "metadata": {},
   "outputs": [],
   "source": [
    "hogar_tabla = pd.read_csv('hogar_serie_completa.csv')"
   ]
  },
  {
   "cell_type": "code",
   "execution_count": 17,
   "metadata": {},
   "outputs": [
    {
     "data": {
      "text/html": [
       "<div>\n",
       "<style scoped>\n",
       "    .dataframe tbody tr th:only-of-type {\n",
       "        vertical-align: middle;\n",
       "    }\n",
       "\n",
       "    .dataframe tbody tr th {\n",
       "        vertical-align: top;\n",
       "    }\n",
       "\n",
       "    .dataframe thead th {\n",
       "        text-align: right;\n",
       "    }\n",
       "</style>\n",
       "<table border=\"1\" class=\"dataframe\">\n",
       "  <thead>\n",
       "    <tr style=\"text-align: right;\">\n",
       "      <th></th>\n",
       "      <th>Unnamed: 0</th>\n",
       "      <th>Unnamed: 0.1</th>\n",
       "      <th>ANOENC</th>\n",
       "      <th>NUMERO</th>\n",
       "      <th>CCAA</th>\n",
       "      <th>NUTS1</th>\n",
       "      <th>CAPROV</th>\n",
       "      <th>TAMAMU</th>\n",
       "      <th>DENSI</th>\n",
       "      <th>CLAVE</th>\n",
       "      <th>...</th>\n",
       "      <th>IMPEXAC</th>\n",
       "      <th>IMPUEXAC</th>\n",
       "      <th>INTERIN</th>\n",
       "      <th>IMPU_INTER</th>\n",
       "      <th>NUMPERI</th>\n",
       "      <th>COMIMH</th>\n",
       "      <th>COMISD</th>\n",
       "      <th>COMIHU</th>\n",
       "      <th>COMIINV</th>\n",
       "      <th>COMITOT</th>\n",
       "    </tr>\n",
       "  </thead>\n",
       "  <tbody>\n",
       "    <tr>\n",
       "      <th>0</th>\n",
       "      <td>0</td>\n",
       "      <td>0</td>\n",
       "      <td>2009</td>\n",
       "      <td>1</td>\n",
       "      <td>8</td>\n",
       "      <td>4</td>\n",
       "      <td>6</td>\n",
       "      <td>5</td>\n",
       "      <td>3</td>\n",
       "      <td>2</td>\n",
       "      <td>...</td>\n",
       "      <td>745.0</td>\n",
       "      <td>1</td>\n",
       "      <td>2</td>\n",
       "      <td>6</td>\n",
       "      <td>1.0</td>\n",
       "      <td>84.0</td>\n",
       "      <td>0.0</td>\n",
       "      <td>0.0</td>\n",
       "      <td>8.0</td>\n",
       "      <td>92.0</td>\n",
       "    </tr>\n",
       "    <tr>\n",
       "      <th>1</th>\n",
       "      <td>1</td>\n",
       "      <td>1</td>\n",
       "      <td>2009</td>\n",
       "      <td>2</td>\n",
       "      <td>10</td>\n",
       "      <td>5</td>\n",
       "      <td>6</td>\n",
       "      <td>5</td>\n",
       "      <td>3</td>\n",
       "      <td>1</td>\n",
       "      <td>...</td>\n",
       "      <td>1122.0</td>\n",
       "      <td>6</td>\n",
       "      <td>3</td>\n",
       "      <td>6</td>\n",
       "      <td>1.0</td>\n",
       "      <td>56.0</td>\n",
       "      <td>0.0</td>\n",
       "      <td>0.0</td>\n",
       "      <td>3.0</td>\n",
       "      <td>59.0</td>\n",
       "    </tr>\n",
       "  </tbody>\n",
       "</table>\n",
       "<p>2 rows × 176 columns</p>\n",
       "</div>"
      ],
      "text/plain": [
       "   Unnamed: 0  Unnamed: 0.1  ANOENC  NUMERO  CCAA  NUTS1  CAPROV  TAMAMU  \\\n",
       "0           0             0    2009       1     8      4       6       5   \n",
       "1           1             1    2009       2    10      5       6       5   \n",
       "\n",
       "   DENSI  CLAVE  ...  IMPEXAC  IMPUEXAC  INTERIN  IMPU_INTER  NUMPERI  COMIMH  \\\n",
       "0      3      2  ...    745.0         1        2           6      1.0    84.0   \n",
       "1      3      1  ...   1122.0         6        3           6      1.0    56.0   \n",
       "\n",
       "   COMISD  COMIHU  COMIINV  COMITOT  \n",
       "0     0.0     0.0      8.0     92.0  \n",
       "1     0.0     0.0      3.0     59.0  \n",
       "\n",
       "[2 rows x 176 columns]"
      ]
     },
     "execution_count": 17,
     "metadata": {},
     "output_type": "execute_result"
    }
   ],
   "source": [
    "hogar_tabla.head(2)"
   ]
  },
  {
   "cell_type": "code",
   "execution_count": 18,
   "metadata": {},
   "outputs": [
    {
     "data": {
      "text/plain": [
       "2009    22346\n",
       "2010    22203\n",
       "2008    22077\n",
       "2007    21542\n",
       "2006    19435\n",
       "Name: ANOENC, dtype: int64"
      ]
     },
     "execution_count": 18,
     "metadata": {},
     "output_type": "execute_result"
    }
   ],
   "source": [
    "hogar_tabla.ANOENC.value_counts()"
   ]
  },
  {
   "cell_type": "code",
   "execution_count": 18,
   "metadata": {},
   "outputs": [
    {
     "data": {
      "text/plain": [
       "False"
      ]
     },
     "execution_count": 18,
     "metadata": {},
     "output_type": "execute_result"
    }
   ],
   "source": [
    "validity(gastos_tabla, hogar_tabla)"
   ]
  },
  {
   "cell_type": "code",
   "execution_count": 21,
   "metadata": {},
   "outputs": [
    {
     "data": {
      "text/plain": [
       "(10349975, 15)"
      ]
     },
     "execution_count": 21,
     "metadata": {},
     "output_type": "execute_result"
    }
   ],
   "source": [
    "gastos_tabla.shape"
   ]
  },
  {
   "cell_type": "code",
   "execution_count": 22,
   "metadata": {},
   "outputs": [
    {
     "data": {
      "text/plain": [
       "(107603, 176)"
      ]
     },
     "execution_count": 22,
     "metadata": {},
     "output_type": "execute_result"
    }
   ],
   "source": [
    "hogar_tabla.shape"
   ]
  },
  {
   "cell_type": "code",
   "execution_count": 23,
   "metadata": {},
   "outputs": [
    {
     "data": {
      "text/plain": [
       "['Unnamed: 0',\n",
       " 'Unnamed: 0.1',\n",
       " 'ANOENC',\n",
       " 'NUMERO',\n",
       " 'CCAA',\n",
       " 'NUTS1',\n",
       " 'CAPROV',\n",
       " 'TAMAMU',\n",
       " 'DENSI',\n",
       " 'CLAVE',\n",
       " 'CLATEO',\n",
       " 'NACTOR',\n",
       " 'NMIEMB',\n",
       " 'TAMANO',\n",
       " 'NMIEMSD',\n",
       " 'NMIEMHU',\n",
       " 'NMIEMIN',\n",
       " 'NMIEM1',\n",
       " 'NMIEM2',\n",
       " 'NMIEM3',\n",
       " 'NMIEM4',\n",
       " 'NMIEM5',\n",
       " 'NMIEM6',\n",
       " 'NMIEM7',\n",
       " 'NHIJOSD',\n",
       " 'UC1',\n",
       " 'UC2',\n",
       " 'PF2TEO',\n",
       " 'PF2RECO',\n",
       " 'TIPHOGAR_1',\n",
       " 'TIPHOGAR_2',\n",
       " 'TIPHOGAR_3',\n",
       " 'TIPHOGAR_4',\n",
       " 'TIPHOGAR_5',\n",
       " 'TIPHOGAR_6',\n",
       " 'TIPHOGAR_7',\n",
       " 'TIPHOGAR_8',\n",
       " 'TIPHOGAR_9',\n",
       " 'TIPHOGAR_10',\n",
       " 'TIPHOGAR_11',\n",
       " 'NUMACTI',\n",
       " 'NUMOCUP',\n",
       " 'NUMESTU',\n",
       " 'SITUOCU_HOG',\n",
       " 'SITUACT_HOG',\n",
       " 'NORDENSP',\n",
       " 'EDADSP',\n",
       " 'SEXOSP',\n",
       " 'NACIONA_SP',\n",
       " 'PAISSP',\n",
       " 'SITURES_SP',\n",
       " 'ECIVILSP',\n",
       " 'NORDENCO_SP',\n",
       " 'NORDENPA_SP',\n",
       " 'NORDENMA_SP',\n",
       " 'ESTUDIOS_SP',\n",
       " 'ESTUDRED_SP',\n",
       " 'SITUACT_SP',\n",
       " 'SITURED_SP',\n",
       " 'PERCEPSP',\n",
       " 'IMPEXACP_SP',\n",
       " 'IMPUEXACP_SP',\n",
       " 'INTERINP_SP',\n",
       " 'IMPU_INTERPSP',\n",
       " 'TRABAJO',\n",
       " 'OCUPA',\n",
       " 'OCUPARED',\n",
       " 'ACTESTB',\n",
       " 'ACTESTB_RED',\n",
       " 'SITPROF',\n",
       " 'SECTOR',\n",
       " 'TIPOCONT',\n",
       " 'SITSOCI',\n",
       " 'SITSOCI_RE',\n",
       " 'REGTEN',\n",
       " 'TIPOEDIF',\n",
       " 'ZONARES',\n",
       " 'TIPOCASA',\n",
       " 'NHABIT',\n",
       " 'ANNOCON',\n",
       " 'SUPERF',\n",
       " 'AGUACALI',\n",
       " 'FUENAGUA',\n",
       " 'CALEF',\n",
       " 'FUENCALE',\n",
       " 'DISPOSI_OV',\n",
       " 'NUMOVD',\n",
       " 'REGTENV1',\n",
       " 'MESESV1',\n",
       " 'DIASV1',\n",
       " 'AGUACV1',\n",
       " 'FUENACV1',\n",
       " 'CALEFV1',\n",
       " 'FUENCAV1',\n",
       " 'REGTENV2',\n",
       " 'MESESV2',\n",
       " 'DIASV2',\n",
       " 'AGUACV2',\n",
       " 'FUENACV2',\n",
       " 'CALEFV2',\n",
       " 'FUENCAV2',\n",
       " 'REGTENV3',\n",
       " 'MESESV3',\n",
       " 'DIASV3',\n",
       " 'AGUACV3',\n",
       " 'FUENACV3',\n",
       " 'CALEFV3',\n",
       " 'FUENCAV3',\n",
       " 'REGTENV4',\n",
       " 'MESESV4',\n",
       " 'DIASV4',\n",
       " 'AGUACV4',\n",
       " 'FUENACV4',\n",
       " 'CALEFV4',\n",
       " 'FUENCAV4',\n",
       " 'REGTENV5',\n",
       " 'MESESV5',\n",
       " 'DIASV5',\n",
       " 'AGUACV5',\n",
       " 'FUENACV5',\n",
       " 'CALEFV5',\n",
       " 'FUENCAV5',\n",
       " 'REGTENV6',\n",
       " 'MESESV6',\n",
       " 'DIASV6',\n",
       " 'AGUACV6',\n",
       " 'FUENACV6',\n",
       " 'CALEFV6',\n",
       " 'FUENCAV6',\n",
       " 'REGTENV7',\n",
       " 'MESESV7',\n",
       " 'DIASV7',\n",
       " 'AGUACV7',\n",
       " 'FUENACV7',\n",
       " 'CALEFV7',\n",
       " 'FUENCAV7',\n",
       " 'REGTENV8',\n",
       " 'MESESV8',\n",
       " 'DIASV8',\n",
       " 'AGUACV8',\n",
       " 'FUENACV8',\n",
       " 'CALEFV8',\n",
       " 'FUENCAV8',\n",
       " 'REGTENV9',\n",
       " 'MESESV9',\n",
       " 'DIASV9',\n",
       " 'AGUACV9',\n",
       " 'FUENACV9',\n",
       " 'CALEFV9',\n",
       " 'FUENCAV9',\n",
       " 'GASTOT',\n",
       " 'IMPUTGAS',\n",
       " 'GASTMON',\n",
       " 'GASTNOM1',\n",
       " 'GASTNOM2',\n",
       " 'GASTNOM3',\n",
       " 'GASTNOM4',\n",
       " 'CAPROP',\n",
       " 'CAJENA',\n",
       " 'PENSIO',\n",
       " 'DESEM',\n",
       " 'OTRSUB',\n",
       " 'RENTAS',\n",
       " 'OTROIN',\n",
       " 'FUENPRIN',\n",
       " 'FUENPRIN_RED',\n",
       " 'IMPEXAC',\n",
       " 'IMPUEXAC',\n",
       " 'INTERIN',\n",
       " 'IMPU_INTER',\n",
       " 'NUMPERI',\n",
       " 'COMIMH',\n",
       " 'COMISD',\n",
       " 'COMIHU',\n",
       " 'COMIINV',\n",
       " 'COMITOT']"
      ]
     },
     "execution_count": 23,
     "metadata": {},
     "output_type": "execute_result"
    }
   ],
   "source": [
    "list(hogar_tabla.columns)"
   ]
  },
  {
   "cell_type": "code",
   "execution_count": 24,
   "metadata": {},
   "outputs": [
    {
     "data": {
      "text/plain": [
       "Index(['Unnamed: 0', 'Unnamed: 0.1', 'ANOENC', 'NUMERO', 'CODIGO', 'GASTO',\n",
       "       'PORCEN', 'CANTIDAD', 'GASTMON', 'GASTNOM1', 'GASTNOM2', 'GASTNOM3',\n",
       "       'GASTNOM4', 'GASTNOM5', 'NACTOR'],\n",
       "      dtype='object')"
      ]
     },
     "execution_count": 24,
     "metadata": {},
     "output_type": "execute_result"
    }
   ],
   "source": [
    "gastos_tabla.columns"
   ]
  },
  {
   "cell_type": "code",
   "execution_count": 25,
   "metadata": {},
   "outputs": [
    {
     "data": {
      "text/html": [
       "<div>\n",
       "<style scoped>\n",
       "    .dataframe tbody tr th:only-of-type {\n",
       "        vertical-align: middle;\n",
       "    }\n",
       "\n",
       "    .dataframe tbody tr th {\n",
       "        vertical-align: top;\n",
       "    }\n",
       "\n",
       "    .dataframe thead th {\n",
       "        text-align: right;\n",
       "    }\n",
       "</style>\n",
       "<table border=\"1\" class=\"dataframe\">\n",
       "  <thead>\n",
       "    <tr style=\"text-align: right;\">\n",
       "      <th></th>\n",
       "      <th>Unnamed: 0</th>\n",
       "      <th>Unnamed: 0.1</th>\n",
       "      <th>ANOENC</th>\n",
       "      <th>NUMERO</th>\n",
       "      <th>CODIGO</th>\n",
       "      <th>GASTO</th>\n",
       "      <th>PORCEN</th>\n",
       "      <th>CANTIDAD</th>\n",
       "      <th>GASTMON</th>\n",
       "      <th>GASTNOM1</th>\n",
       "      <th>GASTNOM2</th>\n",
       "      <th>GASTNOM3</th>\n",
       "      <th>GASTNOM4</th>\n",
       "      <th>GASTNOM5</th>\n",
       "      <th>NACTOR</th>\n",
       "    </tr>\n",
       "  </thead>\n",
       "  <tbody>\n",
       "    <tr>\n",
       "      <th>0</th>\n",
       "      <td>0</td>\n",
       "      <td>0</td>\n",
       "      <td>2009</td>\n",
       "      <td>1</td>\n",
       "      <td>1112</td>\n",
       "      <td>267539.46</td>\n",
       "      <td>0.0</td>\n",
       "      <td>92240.99</td>\n",
       "      <td>267539.46</td>\n",
       "      <td>NaN</td>\n",
       "      <td>NaN</td>\n",
       "      <td>NaN</td>\n",
       "      <td>NaN</td>\n",
       "      <td>NaN</td>\n",
       "      <td>707.602898</td>\n",
       "    </tr>\n",
       "  </tbody>\n",
       "</table>\n",
       "</div>"
      ],
      "text/plain": [
       "   Unnamed: 0  Unnamed: 0.1  ANOENC  NUMERO  CODIGO      GASTO  PORCEN  \\\n",
       "0           0             0    2009       1    1112  267539.46     0.0   \n",
       "\n",
       "   CANTIDAD    GASTMON  GASTNOM1  GASTNOM2  GASTNOM3  GASTNOM4  GASTNOM5  \\\n",
       "0  92240.99  267539.46       NaN       NaN       NaN       NaN       NaN   \n",
       "\n",
       "       NACTOR  \n",
       "0  707.602898  "
      ]
     },
     "execution_count": 25,
     "metadata": {},
     "output_type": "execute_result"
    }
   ],
   "source": [
    "gastos_tabla.head(1)"
   ]
  },
  {
   "cell_type": "code",
   "execution_count": null,
   "metadata": {},
   "outputs": [],
   "source": []
  }
 ],
 "metadata": {
  "kernelspec": {
   "display_name": "Python 3",
   "language": "python",
   "name": "python3"
  },
  "language_info": {
   "codemirror_mode": {
    "name": "ipython",
    "version": 3
   },
   "file_extension": ".py",
   "mimetype": "text/x-python",
   "name": "python",
   "nbconvert_exporter": "python",
   "pygments_lexer": "ipython3",
   "version": "3.6.9"
  }
 },
 "nbformat": 4,
 "nbformat_minor": 2
}
