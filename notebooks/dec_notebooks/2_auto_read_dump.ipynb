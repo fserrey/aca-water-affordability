{
 "cells": [
  {
   "cell_type": "code",
   "execution_count": 4,
   "metadata": {},
   "outputs": [],
   "source": [
    "import os\n",
    "import pandas as pd\n",
    "#import pyreadstat\n",
    "import glob\n",
    "from functools import wraps\n",
    "from time import time\n",
    "import savReaderWriter as spss"
   ]
  },
  {
   "cell_type": "code",
   "execution_count": 2,
   "metadata": {},
   "outputs": [],
   "source": [
    "#Además de los decimales, del word, saca los valores que sirven la checkear que la carga es correcta\n",
    "#Automatizando eso en una función, if True, then print('los datos están bien')\n",
    "#Pide a Laura que te pase las tablas dinámicas\n",
    "#INtenta construir una serie temporal para análisis\n",
    "#Reproduce los análisis que han hecho en el WORD del estudio"
   ]
  },
  {
   "cell_type": "markdown",
   "metadata": {},
   "source": [
    "cruce de variables dentro de la encuesta.\n",
    "\n",
    "    Tasa Paro - Nªocupados (por trimestres) (En este caso la fuente es la EPA)\n",
    "    Índice de pobreza según OCDE (anual)\n",
    "    Gasto en agua y carga con respecto a ingresos\n",
    "    Ingresos anuales - Gasto agua (abastecimiento y saneamiento / solo abastecimiento)\n",
    "    Consumo agua (persona/litro) - Gasto agua (abastecimiento y saneamiento / solo abastecimiento"
   ]
  },
  {
   "cell_type": "code",
   "execution_count": 7,
   "metadata": {},
   "outputs": [],
   "source": [
    "def timer(f):\n",
    "    @wraps(f)\n",
    "    def wrapper(*args, **kwargs):\n",
    "        start = time()\n",
    "        result = f(*args, **kwargs)\n",
    "        end = time()\n",
    "        print('Elapsed time: {}'.format(end-start))\n",
    "        return result\n",
    "    return wrapper\n",
    "\n",
    "#Funciones GASTOS\n",
    "@timer\n",
    "def get_tablas_gastos(base_dir):\n",
    "    for file in os.listdir(base_dir):\n",
    "        file_path = f'{base_dir}/{file}'\n",
    "        if '.csv' not in file_path:\n",
    "            with spss.SavReader(file_path, ioUtf8 = True, rawMode=True) as reader:\n",
    "                df = pd.DataFrame(reader.all(), columns = [s for s in reader.header])\n",
    "                df = df.apply(lambda x: x.astype(float)/100 if x.name not in ['ANOENC', 'NUMERO','CODIGO', 'NACTOR'] else x)\n",
    "                df = df.apply(lambda x: x.astype(int) if x.name in ['ANOENC', 'NUMERO'] else x)\n",
    "                df = df.apply(lambda x: x/1000000 if x.name in ['NACTOR'] else x)\n",
    "                df.to_csv(base_dir+'/gastos_I_'+ str(df.iloc[0][0]) + '.csv')\n",
    "\n",
    "@timer\n",
    "def load_tablas_gastos(base_dir):\n",
    "    all_files = glob.glob(base_dir + \"/*.csv\")\n",
    "    \n",
    "    li = []\n",
    "    for fname in all_files:\n",
    "        df = pd.read_csv(fname, index_col=None, header=0)\n",
    "        li.append(df)\n",
    "\n",
    "    dframe = pd.concat(li, axis=0, ignore_index=True) \n",
    "    dframe.to_csv('gastos_serie_completa.csv')\n",
    "    \n",
    "\n",
    "\n",
    "#Funciones HOGAR\n",
    "@timer\n",
    "def get_tablas_hogar(base_dir):\n",
    "    for file in os.listdir(base_dir):\n",
    "        file_path = f'{base_dir}/{file}'\n",
    "        if '.csv' not in file_path:\n",
    "            with spss.SavReader(file_path, ioUtf8 = True, rawMode=True) as reader:\n",
    "                df = pd.DataFrame(reader.all(), columns = [s for s in reader.header])\n",
    "                df = df.apply(lambda x: x.astype(int) if x.name in ['ANOENC', 'NUMERO'] else x)\n",
    "                df.to_csv(base_dir+'/hogar_'+ str(df.loc[0, \"ANOENC\"]) + '.csv',  index=False)\n",
    "\n",
    "@timer\n",
    "def load_tablas_hogar(base_dir):\n",
    "    all_files = glob.glob(base_dir + \"/*.csv\")\n",
    "    \n",
    "    li = []\n",
    "    for fname in all_files:\n",
    "        df = pd.read_csv(fname, index_col=None, header=0)\n",
    "        li.append(df)\n",
    "\n",
    "    dframe = pd.concat(li, axis=0, ignore_index=True) \n",
    "    dframe.to_csv('hogar_serie_completa.csv')\n",
    "\n",
    "def validity(df_gastos, df_hogar):\n",
    "    return df_gastos.shape == df_hogar.shape\n",
    "    \n",
    "#Funciones MIEMBROS"
   ]
  },
  {
   "cell_type": "code",
   "execution_count": null,
   "metadata": {},
   "outputs": [],
   "source": [
    "ruta = \"/home/fserrey/gitrep/ACA_project/docs_table/gastos_tablas\"\n",
    "get_tablas_gastos(ruta)"
   ]
  },
  {
   "cell_type": "code",
   "execution_count": 7,
   "metadata": {},
   "outputs": [
    {
     "name": "stderr",
     "output_type": "stream",
     "text": [
      "/home/fserrey/miniconda3/envs/global/lib/python3.6/site-packages/ipykernel_launcher.py:33: FutureWarning: Sorting because non-concatenation axis is not aligned. A future version\n",
      "of pandas will change to not sort by default.\n",
      "\n",
      "To accept the future behavior, pass 'sort=False'.\n",
      "\n",
      "To retain the current behavior and silence the warning, pass 'sort=True'.\n",
      "\n"
     ]
    },
    {
     "name": "stdout",
     "output_type": "stream",
     "text": [
      "Elapsed time: 576.0942797660828\n"
     ]
    }
   ],
   "source": [
    "ruta = \"/home/fserrey/gitrep/ACA_project/docs_table/gastos_tablas\"\n",
    "load_tablas_gastos(ruta)"
   ]
  },
  {
   "cell_type": "code",
   "execution_count": 10,
   "metadata": {},
   "outputs": [
    {
     "data": {
      "text/plain": [
       "Index(['Unnamed: 0', 'ANOENC', 'NUMERO', 'CODIGO', 'GASTO', 'PORCEN',\n",
       "       'CANTIDAD', 'GASTMON', 'GASTNOM1', 'GASTNOM2', 'GASTNOM3', 'GASTNOM4',\n",
       "       'GASTNOM5', 'NACTOR'],\n",
       "      dtype='object')"
      ]
     },
     "execution_count": 10,
     "metadata": {},
     "output_type": "execute_result"
    }
   ],
   "source": [
    "file = pd.read_csv('../../../../ACA_project/docs_table/gastos_tablas/gastos_I_2010.csv')\n",
    "file.columns"
   ]
  },
  {
   "cell_type": "code",
   "execution_count": 31,
   "metadata": {},
   "outputs": [
    {
     "name": "stdout",
     "output_type": "stream",
     "text": [
      "[2006, 2007, 2008, 2009, 2010, 2010, 2011, 2012, 2013, 2014, 2015, 2016, 2017, 2018]\n"
     ]
    }
   ],
   "source": [
    "all_files = glob.glob('../../../../ACA_project/docs_table/gastos_tablas' + \"/*.csv\")\n",
    "match = [file.split(\"_\")[-1] for file in all_files]\n",
    "dates = sorted([int(dat.split('.')[0]) for dat in match])\n"
   ]
  },
  {
   "cell_type": "code",
   "execution_count": 3,
   "metadata": {},
   "outputs": [
    {
     "name": "stderr",
     "output_type": "stream",
     "text": [
      "/home/fserrey/miniconda3/envs/global/lib/python3.6/site-packages/ipykernel_launcher.py:10: FutureWarning: Sorting because non-concatenation axis is not aligned. A future version\n",
      "of pandas will change to not sort by default.\n",
      "\n",
      "To accept the future behavior, pass 'sort=False'.\n",
      "\n",
      "To retain the current behavior and silence the warning, pass 'sort=True'.\n",
      "\n",
      "  # Remove the CWD from sys.path while we load stuff.\n"
     ]
    },
    {
     "ename": "MemoryError",
     "evalue": "Unable to allocate array with shape (2, 29000065) and data type float64",
     "output_type": "error",
     "traceback": [
      "\u001b[0;31m---------------------------------------------------------------------------\u001b[0m",
      "\u001b[0;31mMemoryError\u001b[0m                               Traceback (most recent call last)",
      "\u001b[0;32m<ipython-input-3-b168d7e658e7>\u001b[0m in \u001b[0;36m<module>\u001b[0;34m\u001b[0m\n\u001b[1;32m      8\u001b[0m     \u001b[0mli\u001b[0m\u001b[0;34m.\u001b[0m\u001b[0mappend\u001b[0m\u001b[0;34m(\u001b[0m\u001b[0mdf\u001b[0m\u001b[0;34m)\u001b[0m\u001b[0;34m\u001b[0m\u001b[0;34m\u001b[0m\u001b[0m\n\u001b[1;32m      9\u001b[0m \u001b[0;34m\u001b[0m\u001b[0m\n\u001b[0;32m---> 10\u001b[0;31m \u001b[0mdframe\u001b[0m \u001b[0;34m=\u001b[0m \u001b[0mpd\u001b[0m\u001b[0;34m.\u001b[0m\u001b[0mconcat\u001b[0m\u001b[0;34m(\u001b[0m\u001b[0mli\u001b[0m\u001b[0;34m,\u001b[0m \u001b[0maxis\u001b[0m\u001b[0;34m=\u001b[0m\u001b[0;36m0\u001b[0m\u001b[0;34m,\u001b[0m \u001b[0mignore_index\u001b[0m\u001b[0;34m=\u001b[0m\u001b[0;32mTrue\u001b[0m\u001b[0;34m)\u001b[0m\u001b[0;34m\u001b[0m\u001b[0;34m\u001b[0m\u001b[0m\n\u001b[0m",
      "\u001b[0;32m~/miniconda3/envs/global/lib/python3.6/site-packages/pandas/core/reshape/concat.py\u001b[0m in \u001b[0;36mconcat\u001b[0;34m(objs, axis, join, join_axes, ignore_index, keys, levels, names, verify_integrity, sort, copy)\u001b[0m\n\u001b[1;32m    256\u001b[0m     )\n\u001b[1;32m    257\u001b[0m \u001b[0;34m\u001b[0m\u001b[0m\n\u001b[0;32m--> 258\u001b[0;31m     \u001b[0;32mreturn\u001b[0m \u001b[0mop\u001b[0m\u001b[0;34m.\u001b[0m\u001b[0mget_result\u001b[0m\u001b[0;34m(\u001b[0m\u001b[0;34m)\u001b[0m\u001b[0;34m\u001b[0m\u001b[0;34m\u001b[0m\u001b[0m\n\u001b[0m\u001b[1;32m    259\u001b[0m \u001b[0;34m\u001b[0m\u001b[0m\n\u001b[1;32m    260\u001b[0m \u001b[0;34m\u001b[0m\u001b[0m\n",
      "\u001b[0;32m~/miniconda3/envs/global/lib/python3.6/site-packages/pandas/core/reshape/concat.py\u001b[0m in \u001b[0;36mget_result\u001b[0;34m(self)\u001b[0m\n\u001b[1;32m    471\u001b[0m \u001b[0;34m\u001b[0m\u001b[0m\n\u001b[1;32m    472\u001b[0m             new_data = concatenate_block_managers(\n\u001b[0;32m--> 473\u001b[0;31m                 \u001b[0mmgrs_indexers\u001b[0m\u001b[0;34m,\u001b[0m \u001b[0mself\u001b[0m\u001b[0;34m.\u001b[0m\u001b[0mnew_axes\u001b[0m\u001b[0;34m,\u001b[0m \u001b[0mconcat_axis\u001b[0m\u001b[0;34m=\u001b[0m\u001b[0mself\u001b[0m\u001b[0;34m.\u001b[0m\u001b[0maxis\u001b[0m\u001b[0;34m,\u001b[0m \u001b[0mcopy\u001b[0m\u001b[0;34m=\u001b[0m\u001b[0mself\u001b[0m\u001b[0;34m.\u001b[0m\u001b[0mcopy\u001b[0m\u001b[0;34m\u001b[0m\u001b[0;34m\u001b[0m\u001b[0m\n\u001b[0m\u001b[1;32m    474\u001b[0m             )\n\u001b[1;32m    475\u001b[0m             \u001b[0;32mif\u001b[0m \u001b[0;32mnot\u001b[0m \u001b[0mself\u001b[0m\u001b[0;34m.\u001b[0m\u001b[0mcopy\u001b[0m\u001b[0;34m:\u001b[0m\u001b[0;34m\u001b[0m\u001b[0;34m\u001b[0m\u001b[0m\n",
      "\u001b[0;32m~/miniconda3/envs/global/lib/python3.6/site-packages/pandas/core/internals/managers.py\u001b[0m in \u001b[0;36mconcatenate_block_managers\u001b[0;34m(mgrs_indexers, axes, concat_axis, copy)\u001b[0m\n\u001b[1;32m   2052\u001b[0m         \u001b[0;32melse\u001b[0m\u001b[0;34m:\u001b[0m\u001b[0;34m\u001b[0m\u001b[0;34m\u001b[0m\u001b[0m\n\u001b[1;32m   2053\u001b[0m             b = make_block(\n\u001b[0;32m-> 2054\u001b[0;31m                 \u001b[0mconcatenate_join_units\u001b[0m\u001b[0;34m(\u001b[0m\u001b[0mjoin_units\u001b[0m\u001b[0;34m,\u001b[0m \u001b[0mconcat_axis\u001b[0m\u001b[0;34m,\u001b[0m \u001b[0mcopy\u001b[0m\u001b[0;34m=\u001b[0m\u001b[0mcopy\u001b[0m\u001b[0;34m)\u001b[0m\u001b[0;34m,\u001b[0m\u001b[0;34m\u001b[0m\u001b[0;34m\u001b[0m\u001b[0m\n\u001b[0m\u001b[1;32m   2055\u001b[0m                 \u001b[0mplacement\u001b[0m\u001b[0;34m=\u001b[0m\u001b[0mplacement\u001b[0m\u001b[0;34m,\u001b[0m\u001b[0;34m\u001b[0m\u001b[0;34m\u001b[0m\u001b[0m\n\u001b[1;32m   2056\u001b[0m             )\n",
      "\u001b[0;32m~/miniconda3/envs/global/lib/python3.6/site-packages/pandas/core/internals/concat.py\u001b[0m in \u001b[0;36mconcatenate_join_units\u001b[0;34m(join_units, concat_axis, copy)\u001b[0m\n\u001b[1;32m    266\u001b[0m                 \u001b[0mconcat_values\u001b[0m \u001b[0;34m=\u001b[0m \u001b[0mconcat_values\u001b[0m\u001b[0;34m.\u001b[0m\u001b[0mcopy\u001b[0m\u001b[0;34m(\u001b[0m\u001b[0;34m)\u001b[0m\u001b[0;34m\u001b[0m\u001b[0;34m\u001b[0m\u001b[0m\n\u001b[1;32m    267\u001b[0m     \u001b[0;32melse\u001b[0m\u001b[0;34m:\u001b[0m\u001b[0;34m\u001b[0m\u001b[0;34m\u001b[0m\u001b[0m\n\u001b[0;32m--> 268\u001b[0;31m         \u001b[0mconcat_values\u001b[0m \u001b[0;34m=\u001b[0m \u001b[0m_concat\u001b[0m\u001b[0;34m.\u001b[0m\u001b[0m_concat_compat\u001b[0m\u001b[0;34m(\u001b[0m\u001b[0mto_concat\u001b[0m\u001b[0;34m,\u001b[0m \u001b[0maxis\u001b[0m\u001b[0;34m=\u001b[0m\u001b[0mconcat_axis\u001b[0m\u001b[0;34m)\u001b[0m\u001b[0;34m\u001b[0m\u001b[0;34m\u001b[0m\u001b[0m\n\u001b[0m\u001b[1;32m    269\u001b[0m \u001b[0;34m\u001b[0m\u001b[0m\n\u001b[1;32m    270\u001b[0m     \u001b[0;32mreturn\u001b[0m \u001b[0mconcat_values\u001b[0m\u001b[0;34m\u001b[0m\u001b[0;34m\u001b[0m\u001b[0m\n",
      "\u001b[0;32m~/miniconda3/envs/global/lib/python3.6/site-packages/pandas/core/dtypes/concat.py\u001b[0m in \u001b[0;36m_concat_compat\u001b[0;34m(to_concat, axis)\u001b[0m\n\u001b[1;32m    172\u001b[0m                 \u001b[0mto_concat\u001b[0m \u001b[0;34m=\u001b[0m \u001b[0;34m[\u001b[0m\u001b[0mx\u001b[0m\u001b[0;34m.\u001b[0m\u001b[0mastype\u001b[0m\u001b[0;34m(\u001b[0m\u001b[0;34m\"object\"\u001b[0m\u001b[0;34m)\u001b[0m \u001b[0;32mfor\u001b[0m \u001b[0mx\u001b[0m \u001b[0;32min\u001b[0m \u001b[0mto_concat\u001b[0m\u001b[0;34m]\u001b[0m\u001b[0;34m\u001b[0m\u001b[0;34m\u001b[0m\u001b[0m\n\u001b[1;32m    173\u001b[0m \u001b[0;34m\u001b[0m\u001b[0m\n\u001b[0;32m--> 174\u001b[0;31m     \u001b[0;32mreturn\u001b[0m \u001b[0mnp\u001b[0m\u001b[0;34m.\u001b[0m\u001b[0mconcatenate\u001b[0m\u001b[0;34m(\u001b[0m\u001b[0mto_concat\u001b[0m\u001b[0;34m,\u001b[0m \u001b[0maxis\u001b[0m\u001b[0;34m=\u001b[0m\u001b[0maxis\u001b[0m\u001b[0;34m)\u001b[0m\u001b[0;34m\u001b[0m\u001b[0;34m\u001b[0m\u001b[0m\n\u001b[0m\u001b[1;32m    175\u001b[0m \u001b[0;34m\u001b[0m\u001b[0m\n\u001b[1;32m    176\u001b[0m \u001b[0;34m\u001b[0m\u001b[0m\n",
      "\u001b[0;32m<__array_function__ internals>\u001b[0m in \u001b[0;36mconcatenate\u001b[0;34m(*args, **kwargs)\u001b[0m\n",
      "\u001b[0;31mMemoryError\u001b[0m: Unable to allocate array with shape (2, 29000065) and data type float64"
     ]
    }
   ],
   "source": [
    "base_dir = '../../../../ACA_project/docs_table/gastos_tablas'\n",
    "#df = pd.concat(map(pd.read_csv, glob.glob(base_dir + \"/*.csv\")))\n",
    "all_files = glob.glob(base_dir + \"/*.csv\")\n",
    "    \n",
    "li = []\n",
    "for fname in all_files:\n",
    "    df = pd.read_csv(fname, index_col=None, header=0)\n",
    "    li.append(df)\n",
    "\n",
    "dframe = pd.concat(li, axis=0, ignore_index=True)"
   ]
  },
  {
   "cell_type": "code",
   "execution_count": null,
   "metadata": {},
   "outputs": [],
   "source": [
    "gastos_tabla.columns"
   ]
  },
  {
   "cell_type": "code",
   "execution_count": 8,
   "metadata": {},
   "outputs": [
    {
     "name": "stdout",
     "output_type": "stream",
     "text": [
      "Elapsed time: 51.95612096786499\n"
     ]
    }
   ],
   "source": [
    "ruta = \"/home/fserrey/gitrep/ACA_project/docs_table/hogar_tablas\"\n",
    "\n",
    "get_tablas_hogar(ruta)"
   ]
  },
  {
   "cell_type": "code",
   "execution_count": null,
   "metadata": {},
   "outputs": [],
   "source": [
    "load_tablas_hogar(ruta)"
   ]
  },
  {
   "cell_type": "code",
   "execution_count": 10,
   "metadata": {},
   "outputs": [],
   "source": [
    "hogar_tabla = pd.read_csv('hogar_serie_completa.csv')"
   ]
  },
  {
   "cell_type": "code",
   "execution_count": null,
   "metadata": {},
   "outputs": [],
   "source": [
    "hogar_tabla.head(2)"
   ]
  },
  {
   "cell_type": "code",
   "execution_count": 11,
   "metadata": {},
   "outputs": [
    {
     "data": {
      "text/plain": [
       "2009    22346\n",
       "2010    22203\n",
       "2008    22077\n",
       "2007    21542\n",
       "2006    19435\n",
       "Name: ANOENC, dtype: int64"
      ]
     },
     "execution_count": 11,
     "metadata": {},
     "output_type": "execute_result"
    }
   ],
   "source": [
    "hogar_tabla.ANOENC.value_counts()"
   ]
  },
  {
   "cell_type": "code",
   "execution_count": null,
   "metadata": {},
   "outputs": [],
   "source": [
    "validity(gastos_tabla, hogar_tabla)"
   ]
  },
  {
   "cell_type": "code",
   "execution_count": null,
   "metadata": {},
   "outputs": [],
   "source": [
    "gastos_tabla.shape"
   ]
  },
  {
   "cell_type": "code",
   "execution_count": null,
   "metadata": {},
   "outputs": [],
   "source": [
    "hogar_tabla.shape"
   ]
  },
  {
   "cell_type": "code",
   "execution_count": null,
   "metadata": {},
   "outputs": [],
   "source": [
    "list(hogar_tabla.columns)"
   ]
  },
  {
   "cell_type": "code",
   "execution_count": null,
   "metadata": {},
   "outputs": [],
   "source": [
    "gastos_tabla.columns"
   ]
  },
  {
   "cell_type": "code",
   "execution_count": null,
   "metadata": {},
   "outputs": [],
   "source": [
    "gastos_tabla.head(1)"
   ]
  },
  {
   "cell_type": "code",
   "execution_count": null,
   "metadata": {},
   "outputs": [],
   "source": []
  },
  {
   "cell_type": "code",
   "execution_count": null,
   "metadata": {},
   "outputs": [],
   "source": []
  },
  {
   "cell_type": "code",
   "execution_count": null,
   "metadata": {},
   "outputs": [],
   "source": []
  },
  {
   "cell_type": "code",
   "execution_count": 2,
   "metadata": {},
   "outputs": [],
   "source": [
    "all_gastos = glob.glob('../../../../ACA_project/docs_table/gastos_tablas/*.csv')\n",
    "all_hogar = glob.glob('../../../../ACA_project/docs_table/hogar_tablas/*.csv')\n"
   ]
  },
  {
   "cell_type": "code",
   "execution_count": 3,
   "metadata": {},
   "outputs": [],
   "source": [
    "li = []\n",
    "for gasto in sorted(all_gastos):\n",
    "    some_values = list(range(4511,4551))\n",
    "    df = pd.read_csv(gasto)\n",
    "    df['CODIGO'] = df['CODIGO'].apply(lambda x: x.split(\"'\")[1])\n",
    "    df['CODIGO'] = df['CODIGO'].apply(lambda x: int(x.split(\" \")[0]) if str(x.split(\" \")[0]).isdigit() else None)\n",
    "    df = df.loc[df['CODIGO'].isin(some_values)]\n",
    "    li.append(df)"
   ]
  },
  {
   "cell_type": "code",
   "execution_count": 4,
   "metadata": {},
   "outputs": [],
   "source": [
    "lo = []\n",
    "for hogar in sorted(all_hogar):\n",
    "    df = pd.read_csv(hogar)\n",
    "    df['CCAA'] = df['CCAA'].apply(lambda x: x.split(\"'\")[1])\n",
    "    df['CCAA'] = df['CCAA'].apply(lambda x: int(x.split(\" \")[0]) if str(x.split(\" \")[0]).isdigit() else None)\n",
    "    lo.append(df)"
   ]
  },
  {
   "cell_type": "code",
   "execution_count": 1,
   "metadata": {},
   "outputs": [
    {
     "ename": "NameError",
     "evalue": "name 'li' is not defined",
     "output_type": "error",
     "traceback": [
      "\u001b[0;31m---------------------------------------------------------------------------\u001b[0m",
      "\u001b[0;31mNameError\u001b[0m                                 Traceback (most recent call last)",
      "\u001b[0;32m<ipython-input-1-84b78d2f4175>\u001b[0m in \u001b[0;36m<module>\u001b[0;34m\u001b[0m\n\u001b[1;32m      1\u001b[0m \u001b[0mfinal\u001b[0m \u001b[0;34m=\u001b[0m \u001b[0;34m[\u001b[0m\u001b[0;34m]\u001b[0m\u001b[0;34m\u001b[0m\u001b[0;34m\u001b[0m\u001b[0m\n\u001b[0;32m----> 2\u001b[0;31m \u001b[0;32mfor\u001b[0m \u001b[0mgastos\u001b[0m \u001b[0;32min\u001b[0m \u001b[0mli\u001b[0m\u001b[0;34m:\u001b[0m\u001b[0;34m\u001b[0m\u001b[0;34m\u001b[0m\u001b[0m\n\u001b[0m\u001b[1;32m      3\u001b[0m     \u001b[0;32mfor\u001b[0m \u001b[0mhogares\u001b[0m \u001b[0;32min\u001b[0m \u001b[0mlo\u001b[0m\u001b[0;34m:\u001b[0m\u001b[0;34m\u001b[0m\u001b[0;34m\u001b[0m\u001b[0m\n\u001b[1;32m      4\u001b[0m         \u001b[0mnew_df\u001b[0m \u001b[0;34m=\u001b[0m \u001b[0mpd\u001b[0m\u001b[0;34m.\u001b[0m\u001b[0mmerge\u001b[0m\u001b[0;34m(\u001b[0m\u001b[0mgastos\u001b[0m\u001b[0;34m,\u001b[0m \u001b[0mhogares\u001b[0m\u001b[0;34m,\u001b[0m \u001b[0mhow\u001b[0m\u001b[0;34m=\u001b[0m\u001b[0;34m'left'\u001b[0m\u001b[0;34m,\u001b[0m \u001b[0mon\u001b[0m\u001b[0;34m=\u001b[0m\u001b[0;34m[\u001b[0m\u001b[0;34m'ANOENC'\u001b[0m\u001b[0;34m,\u001b[0m\u001b[0;34m'NUMERO'\u001b[0m\u001b[0;34m]\u001b[0m\u001b[0;34m)\u001b[0m\u001b[0;34m\u001b[0m\u001b[0;34m\u001b[0m\u001b[0m\n\u001b[1;32m      5\u001b[0m         \u001b[0mfinal\u001b[0m\u001b[0;34m.\u001b[0m\u001b[0mappend\u001b[0m\u001b[0;34m(\u001b[0m\u001b[0mnew_df\u001b[0m\u001b[0;34m)\u001b[0m\u001b[0;34m\u001b[0m\u001b[0;34m\u001b[0m\u001b[0m\n",
      "\u001b[0;31mNameError\u001b[0m: name 'li' is not defined"
     ]
    }
   ],
   "source": [
    "final = []\n",
    "for gastos in li:\n",
    "    for hogares in lo:\n",
    "        new_df = pd.merge(gastos, hogares, how='left', on=['ANOENC','NUMERO'])\n",
    "        final.append(new_df)"
   ]
  },
  {
   "cell_type": "code",
   "execution_count": null,
   "metadata": {},
   "outputs": [],
   "source": [
    "dframe = pd.concat(final, axis=0, ignore_index=True)"
   ]
  },
  {
   "cell_type": "code",
   "execution_count": null,
   "metadata": {},
   "outputs": [],
   "source": []
  },
  {
   "cell_type": "code",
   "execution_count": null,
   "metadata": {},
   "outputs": [],
   "source": []
  },
  {
   "cell_type": "code",
   "execution_count": 35,
   "metadata": {},
   "outputs": [
    {
     "data": {
      "text/html": [
       "<div>\n",
       "<style scoped>\n",
       "    .dataframe tbody tr th:only-of-type {\n",
       "        vertical-align: middle;\n",
       "    }\n",
       "\n",
       "    .dataframe tbody tr th {\n",
       "        vertical-align: top;\n",
       "    }\n",
       "\n",
       "    .dataframe thead th {\n",
       "        text-align: right;\n",
       "    }\n",
       "</style>\n",
       "<table border=\"1\" class=\"dataframe\">\n",
       "  <thead>\n",
       "    <tr style=\"text-align: right;\">\n",
       "      <th></th>\n",
       "      <th>Unnamed: 0</th>\n",
       "      <th>ANOENC</th>\n",
       "      <th>NUMERO</th>\n",
       "      <th>CODIGO</th>\n",
       "      <th>GASTO</th>\n",
       "      <th>PORCENDES</th>\n",
       "      <th>PORCENIMP</th>\n",
       "      <th>CANTIDAD</th>\n",
       "    </tr>\n",
       "  </thead>\n",
       "  <tbody>\n",
       "    <tr>\n",
       "      <th>0</th>\n",
       "      <td>0</td>\n",
       "      <td>2016</td>\n",
       "      <td>1</td>\n",
       "      <td>b'01111   '</td>\n",
       "      <td>37.22</td>\n",
       "      <td>100.00</td>\n",
       "      <td>100.00</td>\n",
       "      <td>-1.797693e+306</td>\n",
       "    </tr>\n",
       "    <tr>\n",
       "      <th>1</th>\n",
       "      <td>1</td>\n",
       "      <td>2016</td>\n",
       "      <td>1</td>\n",
       "      <td>b'01112   '</td>\n",
       "      <td>14.79</td>\n",
       "      <td>100.00</td>\n",
       "      <td>100.00</td>\n",
       "      <td>-1.797693e+306</td>\n",
       "    </tr>\n",
       "    <tr>\n",
       "      <th>2</th>\n",
       "      <td>2</td>\n",
       "      <td>2016</td>\n",
       "      <td>1</td>\n",
       "      <td>b'01113   '</td>\n",
       "      <td>113964.81</td>\n",
       "      <td>0.50</td>\n",
       "      <td>83.00</td>\n",
       "      <td>4.586956e+04</td>\n",
       "    </tr>\n",
       "    <tr>\n",
       "      <th>3</th>\n",
       "      <td>3</td>\n",
       "      <td>2016</td>\n",
       "      <td>1</td>\n",
       "      <td>b'01114   '</td>\n",
       "      <td>54614.37</td>\n",
       "      <td>0.69</td>\n",
       "      <td>0.69</td>\n",
       "      <td>5.811310e+03</td>\n",
       "    </tr>\n",
       "    <tr>\n",
       "      <th>4</th>\n",
       "      <td>4</td>\n",
       "      <td>2016</td>\n",
       "      <td>1</td>\n",
       "      <td>b'01115   '</td>\n",
       "      <td>73.85</td>\n",
       "      <td>100.00</td>\n",
       "      <td>100.00</td>\n",
       "      <td>-1.797693e+306</td>\n",
       "    </tr>\n",
       "  </tbody>\n",
       "</table>\n",
       "</div>"
      ],
      "text/plain": [
       "   Unnamed: 0  ANOENC  NUMERO       CODIGO      GASTO  PORCENDES  PORCENIMP  \\\n",
       "0           0    2016       1  b'01111   '      37.22     100.00     100.00   \n",
       "1           1    2016       1  b'01112   '      14.79     100.00     100.00   \n",
       "2           2    2016       1  b'01113   '  113964.81       0.50      83.00   \n",
       "3           3    2016       1  b'01114   '   54614.37       0.69       0.69   \n",
       "4           4    2016       1  b'01115   '      73.85     100.00     100.00   \n",
       "\n",
       "        CANTIDAD  \n",
       "0 -1.797693e+306  \n",
       "1 -1.797693e+306  \n",
       "2   4.586956e+04  \n",
       "3   5.811310e+03  \n",
       "4 -1.797693e+306  "
      ]
     },
     "execution_count": 35,
     "metadata": {},
     "output_type": "execute_result"
    }
   ],
   "source": [
    "gastos_tabla = pd.read_csv('../../../../ACA_project/docs_table/gastos_tablas/gastos_I_2016.csv')\n",
    "hogar_tabla = pd.read_csv('/home/fserrey/gitrep/ACA_project/docs_table/hogar_tablas/hogar_2016.csv')\n",
    "gastos_tabla.head()"
   ]
  },
  {
   "cell_type": "code",
   "execution_count": 32,
   "metadata": {},
   "outputs": [
    {
     "data": {
      "text/plain": [
       "\"b'01111   '\""
      ]
     },
     "execution_count": 32,
     "metadata": {},
     "output_type": "execute_result"
    }
   ],
   "source": [
    "gastos_tabla.CODIGO[0]"
   ]
  },
  {
   "cell_type": "code",
   "execution_count": 36,
   "metadata": {},
   "outputs": [],
   "source": [
    "some_values = list(range(4511,4551))\n",
    "gastos_tabla['CODIGO'] = gastos_tabla['CODIGO'].apply(lambda x: x.split(\"'\")[1])\n",
    "gastos_tabla['CODIGO'] = gastos_tabla['CODIGO'].apply(lambda x: int(x.split(\" \")[0]) if str(x.split(\" \")[0]).isdigit() else None)\n",
    "\n",
    "hogar_tabla['CCAA'] = hogar_tabla['CCAA'].apply(lambda x: x.split(\"'\")[1])\n",
    "hogar_tabla['CCAA'] = hogar_tabla['CCAA'].apply(lambda x: int(x.split(\" \")[0]) if str(x.split(\" \")[0]).isdigit() else None)"
   ]
  },
  {
   "cell_type": "code",
   "execution_count": 28,
   "metadata": {},
   "outputs": [
    {
     "data": {
      "text/plain": [
       "1111.0"
      ]
     },
     "execution_count": 28,
     "metadata": {},
     "output_type": "execute_result"
    }
   ],
   "source": [
    "\n",
    "gastos_tabla.CODIGO[0]"
   ]
  },
  {
   "cell_type": "code",
   "execution_count": 37,
   "metadata": {},
   "outputs": [],
   "source": [
    "gastos_filt = gastos_tabla.loc[gastos_tabla['CODIGO'].isin(some_values)]\n",
    "new_df = pd.merge(gastos_filt, hogar_tabla, how='left', on=['ANOENC','NUMERO'])"
   ]
  },
  {
   "cell_type": "code",
   "execution_count": 38,
   "metadata": {},
   "outputs": [
    {
     "data": {
      "text/html": [
       "<div>\n",
       "<style scoped>\n",
       "    .dataframe tbody tr th:only-of-type {\n",
       "        vertical-align: middle;\n",
       "    }\n",
       "\n",
       "    .dataframe tbody tr th {\n",
       "        vertical-align: top;\n",
       "    }\n",
       "\n",
       "    .dataframe thead th {\n",
       "        text-align: right;\n",
       "    }\n",
       "</style>\n",
       "<table border=\"1\" class=\"dataframe\">\n",
       "  <thead>\n",
       "    <tr style=\"text-align: right;\">\n",
       "      <th></th>\n",
       "      <th>Unnamed: 0_x</th>\n",
       "      <th>ANOENC</th>\n",
       "      <th>NUMERO</th>\n",
       "      <th>CODIGO</th>\n",
       "      <th>GASTO</th>\n",
       "      <th>PORCENDES</th>\n",
       "      <th>PORCENIMP</th>\n",
       "      <th>CANTIDAD</th>\n",
       "      <th>Unnamed: 0_y</th>\n",
       "      <th>CCAA</th>\n",
       "      <th>...</th>\n",
       "      <th>FUENPRIN</th>\n",
       "      <th>FUENPRINRED</th>\n",
       "      <th>IMPEXAC</th>\n",
       "      <th>INTERIN</th>\n",
       "      <th>NUMPERI</th>\n",
       "      <th>COMIMH</th>\n",
       "      <th>COMISD</th>\n",
       "      <th>COMIHU</th>\n",
       "      <th>COMIINV</th>\n",
       "      <th>COMITOT</th>\n",
       "    </tr>\n",
       "  </thead>\n",
       "  <tbody>\n",
       "    <tr>\n",
       "      <th>0</th>\n",
       "      <td>83</td>\n",
       "      <td>2016</td>\n",
       "      <td>1</td>\n",
       "      <td>4511.0</td>\n",
       "      <td>356639.47</td>\n",
       "      <td>0.00</td>\n",
       "      <td>0.00</td>\n",
       "      <td>1438148.67</td>\n",
       "      <td>0</td>\n",
       "      <td>7</td>\n",
       "      <td>...</td>\n",
       "      <td>b' 1      '</td>\n",
       "      <td>1.0</td>\n",
       "      <td>1225.0</td>\n",
       "      <td>b'03      '</td>\n",
       "      <td>2.0</td>\n",
       "      <td>8.0</td>\n",
       "      <td>0.0</td>\n",
       "      <td>0.0</td>\n",
       "      <td>0.0</td>\n",
       "      <td>8.0</td>\n",
       "    </tr>\n",
       "    <tr>\n",
       "      <th>1</th>\n",
       "      <td>84</td>\n",
       "      <td>2016</td>\n",
       "      <td>1</td>\n",
       "      <td>4521.0</td>\n",
       "      <td>160487.76</td>\n",
       "      <td>0.00</td>\n",
       "      <td>0.00</td>\n",
       "      <td>122149.02</td>\n",
       "      <td>0</td>\n",
       "      <td>7</td>\n",
       "      <td>...</td>\n",
       "      <td>b' 1      '</td>\n",
       "      <td>1.0</td>\n",
       "      <td>1225.0</td>\n",
       "      <td>b'03      '</td>\n",
       "      <td>2.0</td>\n",
       "      <td>8.0</td>\n",
       "      <td>0.0</td>\n",
       "      <td>0.0</td>\n",
       "      <td>0.0</td>\n",
       "      <td>8.0</td>\n",
       "    </tr>\n",
       "    <tr>\n",
       "      <th>2</th>\n",
       "      <td>149</td>\n",
       "      <td>2016</td>\n",
       "      <td>2</td>\n",
       "      <td>4511.0</td>\n",
       "      <td>911914.07</td>\n",
       "      <td>0.00</td>\n",
       "      <td>0.00</td>\n",
       "      <td>5104408.53</td>\n",
       "      <td>1</td>\n",
       "      <td>12</td>\n",
       "      <td>...</td>\n",
       "      <td>b' 7      '</td>\n",
       "      <td>3.0</td>\n",
       "      <td>676.0</td>\n",
       "      <td>b'02      '</td>\n",
       "      <td>2.0</td>\n",
       "      <td>38.0</td>\n",
       "      <td>0.0</td>\n",
       "      <td>0.0</td>\n",
       "      <td>0.0</td>\n",
       "      <td>38.0</td>\n",
       "    </tr>\n",
       "    <tr>\n",
       "      <th>3</th>\n",
       "      <td>150</td>\n",
       "      <td>2016</td>\n",
       "      <td>2</td>\n",
       "      <td>4521.0</td>\n",
       "      <td>641263.93</td>\n",
       "      <td>0.00</td>\n",
       "      <td>0.00</td>\n",
       "      <td>1199275.29</td>\n",
       "      <td>1</td>\n",
       "      <td>12</td>\n",
       "      <td>...</td>\n",
       "      <td>b' 7      '</td>\n",
       "      <td>3.0</td>\n",
       "      <td>676.0</td>\n",
       "      <td>b'02      '</td>\n",
       "      <td>2.0</td>\n",
       "      <td>38.0</td>\n",
       "      <td>0.0</td>\n",
       "      <td>0.0</td>\n",
       "      <td>0.0</td>\n",
       "      <td>38.0</td>\n",
       "    </tr>\n",
       "    <tr>\n",
       "      <th>4</th>\n",
       "      <td>300</td>\n",
       "      <td>2016</td>\n",
       "      <td>3</td>\n",
       "      <td>4511.0</td>\n",
       "      <td>1669142.21</td>\n",
       "      <td>0.03</td>\n",
       "      <td>0.03</td>\n",
       "      <td>6507827.99</td>\n",
       "      <td>2</td>\n",
       "      <td>13</td>\n",
       "      <td>...</td>\n",
       "      <td>b' 2      '</td>\n",
       "      <td>2.0</td>\n",
       "      <td>5868.0</td>\n",
       "      <td>b'08      '</td>\n",
       "      <td>4.0</td>\n",
       "      <td>89.0</td>\n",
       "      <td>0.0</td>\n",
       "      <td>0.0</td>\n",
       "      <td>10.0</td>\n",
       "      <td>99.0</td>\n",
       "    </tr>\n",
       "    <tr>\n",
       "      <th>...</th>\n",
       "      <td>...</td>\n",
       "      <td>...</td>\n",
       "      <td>...</td>\n",
       "      <td>...</td>\n",
       "      <td>...</td>\n",
       "      <td>...</td>\n",
       "      <td>...</td>\n",
       "      <td>...</td>\n",
       "      <td>...</td>\n",
       "      <td>...</td>\n",
       "      <td>...</td>\n",
       "      <td>...</td>\n",
       "      <td>...</td>\n",
       "      <td>...</td>\n",
       "      <td>...</td>\n",
       "      <td>...</td>\n",
       "      <td>...</td>\n",
       "      <td>...</td>\n",
       "      <td>...</td>\n",
       "      <td>...</td>\n",
       "      <td>...</td>\n",
       "    </tr>\n",
       "    <tr>\n",
       "      <th>55050</th>\n",
       "      <td>2285213</td>\n",
       "      <td>2016</td>\n",
       "      <td>22010</td>\n",
       "      <td>4511.0</td>\n",
       "      <td>155748.66</td>\n",
       "      <td>0.00</td>\n",
       "      <td>0.00</td>\n",
       "      <td>945382.14</td>\n",
       "      <td>22009</td>\n",
       "      <td>3</td>\n",
       "      <td>...</td>\n",
       "      <td>b' 3      '</td>\n",
       "      <td>3.0</td>\n",
       "      <td>1633.0</td>\n",
       "      <td>b'04      '</td>\n",
       "      <td>1.0</td>\n",
       "      <td>56.0</td>\n",
       "      <td>0.0</td>\n",
       "      <td>0.0</td>\n",
       "      <td>8.0</td>\n",
       "      <td>64.0</td>\n",
       "    </tr>\n",
       "    <tr>\n",
       "      <th>55051</th>\n",
       "      <td>2285214</td>\n",
       "      <td>2016</td>\n",
       "      <td>22010</td>\n",
       "      <td>4512.0</td>\n",
       "      <td>73133.34</td>\n",
       "      <td>0.00</td>\n",
       "      <td>0.00</td>\n",
       "      <td>194099.06</td>\n",
       "      <td>22009</td>\n",
       "      <td>3</td>\n",
       "      <td>...</td>\n",
       "      <td>b' 3      '</td>\n",
       "      <td>3.0</td>\n",
       "      <td>1633.0</td>\n",
       "      <td>b'04      '</td>\n",
       "      <td>1.0</td>\n",
       "      <td>56.0</td>\n",
       "      <td>0.0</td>\n",
       "      <td>0.0</td>\n",
       "      <td>8.0</td>\n",
       "      <td>64.0</td>\n",
       "    </tr>\n",
       "    <tr>\n",
       "      <th>55052</th>\n",
       "      <td>2285215</td>\n",
       "      <td>2016</td>\n",
       "      <td>22010</td>\n",
       "      <td>4531.0</td>\n",
       "      <td>117351.31</td>\n",
       "      <td>0.00</td>\n",
       "      <td>0.00</td>\n",
       "      <td>176026.96</td>\n",
       "      <td>22009</td>\n",
       "      <td>3</td>\n",
       "      <td>...</td>\n",
       "      <td>b' 3      '</td>\n",
       "      <td>3.0</td>\n",
       "      <td>1633.0</td>\n",
       "      <td>b'04      '</td>\n",
       "      <td>1.0</td>\n",
       "      <td>56.0</td>\n",
       "      <td>0.0</td>\n",
       "      <td>0.0</td>\n",
       "      <td>8.0</td>\n",
       "      <td>64.0</td>\n",
       "    </tr>\n",
       "    <tr>\n",
       "      <th>55053</th>\n",
       "      <td>2285276</td>\n",
       "      <td>2016</td>\n",
       "      <td>22011</td>\n",
       "      <td>4511.0</td>\n",
       "      <td>119465.11</td>\n",
       "      <td>0.00</td>\n",
       "      <td>0.00</td>\n",
       "      <td>488437.50</td>\n",
       "      <td>22010</td>\n",
       "      <td>16</td>\n",
       "      <td>...</td>\n",
       "      <td>b' 2      '</td>\n",
       "      <td>2.0</td>\n",
       "      <td>2500.0</td>\n",
       "      <td>b'06      '</td>\n",
       "      <td>2.0</td>\n",
       "      <td>75.0</td>\n",
       "      <td>0.0</td>\n",
       "      <td>0.0</td>\n",
       "      <td>0.0</td>\n",
       "      <td>75.0</td>\n",
       "    </tr>\n",
       "    <tr>\n",
       "      <th>55054</th>\n",
       "      <td>2285277</td>\n",
       "      <td>2016</td>\n",
       "      <td>22011</td>\n",
       "      <td>4521.0</td>\n",
       "      <td>325925.22</td>\n",
       "      <td>0.00</td>\n",
       "      <td>0.00</td>\n",
       "      <td>406222.96</td>\n",
       "      <td>22010</td>\n",
       "      <td>16</td>\n",
       "      <td>...</td>\n",
       "      <td>b' 2      '</td>\n",
       "      <td>2.0</td>\n",
       "      <td>2500.0</td>\n",
       "      <td>b'06      '</td>\n",
       "      <td>2.0</td>\n",
       "      <td>75.0</td>\n",
       "      <td>0.0</td>\n",
       "      <td>0.0</td>\n",
       "      <td>0.0</td>\n",
       "      <td>75.0</td>\n",
       "    </tr>\n",
       "  </tbody>\n",
       "</table>\n",
       "<p>55055 rows × 195 columns</p>\n",
       "</div>"
      ],
      "text/plain": [
       "       Unnamed: 0_x  ANOENC  NUMERO  CODIGO       GASTO  PORCENDES  PORCENIMP  \\\n",
       "0                83    2016       1  4511.0   356639.47       0.00       0.00   \n",
       "1                84    2016       1  4521.0   160487.76       0.00       0.00   \n",
       "2               149    2016       2  4511.0   911914.07       0.00       0.00   \n",
       "3               150    2016       2  4521.0   641263.93       0.00       0.00   \n",
       "4               300    2016       3  4511.0  1669142.21       0.03       0.03   \n",
       "...             ...     ...     ...     ...         ...        ...        ...   \n",
       "55050       2285213    2016   22010  4511.0   155748.66       0.00       0.00   \n",
       "55051       2285214    2016   22010  4512.0    73133.34       0.00       0.00   \n",
       "55052       2285215    2016   22010  4531.0   117351.31       0.00       0.00   \n",
       "55053       2285276    2016   22011  4511.0   119465.11       0.00       0.00   \n",
       "55054       2285277    2016   22011  4521.0   325925.22       0.00       0.00   \n",
       "\n",
       "         CANTIDAD  Unnamed: 0_y  CCAA  ...     FUENPRIN FUENPRINRED IMPEXAC  \\\n",
       "0      1438148.67             0     7  ...  b' 1      '         1.0  1225.0   \n",
       "1       122149.02             0     7  ...  b' 1      '         1.0  1225.0   \n",
       "2      5104408.53             1    12  ...  b' 7      '         3.0   676.0   \n",
       "3      1199275.29             1    12  ...  b' 7      '         3.0   676.0   \n",
       "4      6507827.99             2    13  ...  b' 2      '         2.0  5868.0   \n",
       "...           ...           ...   ...  ...          ...         ...     ...   \n",
       "55050   945382.14         22009     3  ...  b' 3      '         3.0  1633.0   \n",
       "55051   194099.06         22009     3  ...  b' 3      '         3.0  1633.0   \n",
       "55052   176026.96         22009     3  ...  b' 3      '         3.0  1633.0   \n",
       "55053   488437.50         22010    16  ...  b' 2      '         2.0  2500.0   \n",
       "55054   406222.96         22010    16  ...  b' 2      '         2.0  2500.0   \n",
       "\n",
       "           INTERIN NUMPERI COMIMH  COMISD  COMIHU COMIINV  COMITOT  \n",
       "0      b'03      '     2.0    8.0     0.0     0.0     0.0      8.0  \n",
       "1      b'03      '     2.0    8.0     0.0     0.0     0.0      8.0  \n",
       "2      b'02      '     2.0   38.0     0.0     0.0     0.0     38.0  \n",
       "3      b'02      '     2.0   38.0     0.0     0.0     0.0     38.0  \n",
       "4      b'08      '     4.0   89.0     0.0     0.0    10.0     99.0  \n",
       "...            ...     ...    ...     ...     ...     ...      ...  \n",
       "55050  b'04      '     1.0   56.0     0.0     0.0     8.0     64.0  \n",
       "55051  b'04      '     1.0   56.0     0.0     0.0     8.0     64.0  \n",
       "55052  b'04      '     1.0   56.0     0.0     0.0     8.0     64.0  \n",
       "55053  b'06      '     2.0   75.0     0.0     0.0     0.0     75.0  \n",
       "55054  b'06      '     2.0   75.0     0.0     0.0     0.0     75.0  \n",
       "\n",
       "[55055 rows x 195 columns]"
      ]
     },
     "execution_count": 38,
     "metadata": {},
     "output_type": "execute_result"
    }
   ],
   "source": [
    "new_df"
   ]
  },
  {
   "cell_type": "code",
   "execution_count": null,
   "metadata": {},
   "outputs": [],
   "source": []
  },
  {
   "cell_type": "code",
   "execution_count": null,
   "metadata": {},
   "outputs": [],
   "source": []
  },
  {
   "cell_type": "code",
   "execution_count": null,
   "metadata": {},
   "outputs": [],
   "source": []
  }
 ],
 "metadata": {
  "kernelspec": {
   "display_name": "Python 3",
   "language": "python",
   "name": "python3"
  },
  "language_info": {
   "codemirror_mode": {
    "name": "ipython",
    "version": 3
   },
   "file_extension": ".py",
   "mimetype": "text/x-python",
   "name": "python",
   "nbconvert_exporter": "python",
   "pygments_lexer": "ipython3",
   "version": "3.7.6"
  }
 },
 "nbformat": 4,
 "nbformat_minor": 2
}
