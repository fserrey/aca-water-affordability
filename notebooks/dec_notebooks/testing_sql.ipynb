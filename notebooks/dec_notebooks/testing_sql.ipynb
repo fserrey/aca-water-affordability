{
 "cells": [
  {
   "cell_type": "code",
   "execution_count": 2,
   "metadata": {},
   "outputs": [
    {
     "name": "stdout",
     "output_type": "stream",
     "text": [
      "Using pymysql…\n",
      "Database version: 5.7.29-0ubuntu0.18.04.1\n"
     ]
    }
   ],
   "source": [
    "import os\n",
    "from dotenv import load_dotenv\n",
    "load_dotenv()\n",
    "\n",
    "hostname = os.environ[\"HOST_DO\"]\n",
    "username = os.environ[\"USERNAME_DO\"]\n",
    "password = os.environ[\"PASS_DO\"]\n",
    "database = os.environ[\"DATABASE_DO\"] \n",
    "puerto = int(os.environ[\"PORT_DO\"])\n",
    "\n",
    "print(\"Using pymysql…\")\n",
    "\n",
    "import pymysql\n",
    "\n",
    "con = pymysql.connect(hostname, username, \n",
    "    password, database, puerto)\n",
    "\n",
    "with con:\n",
    "    \n",
    "    cur = con.cursor()\n",
    "    cur.execute(\"SELECT VERSION()\")\n",
    "\n",
    "    version = cur.fetchone()\n",
    "    \n",
    "    print(\"Database version: {}\".format(version[0]))"
   ]
  },
  {
   "cell_type": "code",
   "execution_count": null,
   "metadata": {},
   "outputs": [
    {
     "name": "stdout",
     "output_type": "stream",
     "text": [
      "starting\n"
     ]
    }
   ],
   "source": [
    "query_db_use = \"\"\"USE aca_epf;\"\"\"\n",
    "query = \"\"\"\n",
    "        SELECT gasto.ANOENC,gasto.CODIGO, CASE WHEN(((gasto.GASTO/12)/hogar.IMPEXAC)*100 > 5) THEN 1 ELSE 0 END FLAG\n",
    "        FROM aca_epf.gastos_ine gasto\n",
    "        LEFT JOIN (SELECT hogar_ine.id_d ,hogar_ine.ANOENC, hogar_ine.IMPEXAC \n",
    "        FROM hogar_ine ) hogar ON gasto.id_d = hogar.id_d\n",
    "        WHERE CODIGO between '04511' and '04551';\"\"\"\n",
    "conn = None\n",
    "try:\n",
    "    conn = pymysql.connect(hostname, username, password, database,puerto, local_infile = 1)\n",
    "    cur = conn.cursor()\n",
    "    cur.execute(query_db_use)\n",
    "    print('starting')\n",
    "    cur.execute(query)\n",
    "    print('query executed - turning to df')\n",
    "# Set it as DF\n",
    "    df = pd.read_sql(query, con=conn) \n",
    "    df.columns = execution.keys()\n",
    "    cur.close()\n",
    "\n",
    "except (Exception, pymysql.DatabaseError) as error:\n",
    "    print(error)\n",
    "finally:\n",
    "    if conn is not None:\n",
    "        conn.close()\n",
    "print('df ended correctamente')"
   ]
  },
  {
   "cell_type": "code",
   "execution_count": null,
   "metadata": {},
   "outputs": [],
   "source": [
    "df.head()"
   ]
  },
  {
   "cell_type": "code",
   "execution_count": null,
   "metadata": {},
   "outputs": [],
   "source": [
    "SELECT gasto.ANOENC,\n",
    "        gasto.CODIGO, \n",
    "        CASE WHEN(((gasto.GASTO/12)/hogar.IMPEXAC)*100 > 5) THEN 1 ELSE 0 END FLAG\n",
    "FROM aca_epf.gastos_ine gasto\n",
    "LEFT JOIN (\n",
    "        SELECT hogar_ine.id_d ,\n",
    "                hogar_ine.ANOENC, \n",
    "                hogar_ine.IMPEXAC \n",
    "        FROM hogar_ine ) hogar \n",
    "ON gasto.id_d = hogar.id_d\n",
    "WHERE CODIGO between '04511' and '04551';"
   ]
  }
 ],
 "metadata": {
  "kernelspec": {
   "display_name": "Python 3",
   "language": "python",
   "name": "python3"
  },
  "language_info": {
   "codemirror_mode": {
    "name": "ipython",
    "version": 3
   },
   "file_extension": ".py",
   "mimetype": "text/x-python",
   "name": "python",
   "nbconvert_exporter": "python",
   "pygments_lexer": "ipython3",
   "version": "3.7.6"
  }
 },
 "nbformat": 4,
 "nbformat_minor": 2
}
